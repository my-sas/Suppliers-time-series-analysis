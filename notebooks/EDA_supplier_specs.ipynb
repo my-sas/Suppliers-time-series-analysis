{
 "cells": [
  {
   "cell_type": "code",
   "execution_count": 21,
   "id": "e436d6c6-1168-452c-8810-ddc8b441038d",
   "metadata": {
    "tags": []
   },
   "outputs": [],
   "source": [
    "import random\n",
    "import torch\n",
    "import numpy as np\n",
    "import pandas as pd\n",
    "\n",
    "import seaborn as sns\n",
    "\n",
    "from catboost import CatBoostClassifier\n",
    "from sklearn.model_selection import train_test_split\n",
    "from sklearn.metrics import accuracy_score, roc_auc_score, f1_score, recall_score, precision_score, average_precision_score, confusion_matrix\n",
    "\n",
    "import sys\n",
    "import os\n",
    "sys.path.append(os.path.abspath('..'))\n",
    "from data.preprocessing import Preprocessor\n",
    "from src.models import LSTMSeq2One\n",
    "from torch.utils.data import Dataset, DataLoader\n",
    "\n",
    "import warnings\n",
    "warnings.filterwarnings('ignore')\n",
    "\n",
    "pd.set_option('display.max_columns', None)"
   ]
  },
  {
   "cell_type": "code",
   "execution_count": 2,
   "id": "84c47356-6858-41ee-9ab8-06d7a1f5d3bf",
   "metadata": {
    "tags": []
   },
   "outputs": [
    {
     "name": "stderr",
     "output_type": "stream",
     "text": [
      "Duplicate rows cleaning: 620it [00:02, 265.50it/s]\n"
     ]
    }
   ],
   "source": [
    "preprocessor = Preprocessor()\n",
    "zpp4 = preprocessor.zpp4_preprocessing()\n",
    "spec = preprocessor.spec_preprocessing()"
   ]
  },
  {
   "cell_type": "code",
   "execution_count": 3,
   "id": "1358d467-0994-4cae-bd2d-7666b60dc782",
   "metadata": {
    "tags": []
   },
   "outputs": [
    {
     "data": {
      "text/html": [
       "<div>\n",
       "<style scoped>\n",
       "    .dataframe tbody tr th:only-of-type {\n",
       "        vertical-align: middle;\n",
       "    }\n",
       "\n",
       "    .dataframe tbody tr th {\n",
       "        vertical-align: top;\n",
       "    }\n",
       "\n",
       "    .dataframe thead th {\n",
       "        text-align: right;\n",
       "    }\n",
       "</style>\n",
       "<table border=\"1\" class=\"dataframe\">\n",
       "  <thead>\n",
       "    <tr style=\"text-align: right;\">\n",
       "      <th></th>\n",
       "      <th>date</th>\n",
       "      <th>supplier</th>\n",
       "      <th>basis</th>\n",
       "      <th>spec_date</th>\n",
       "      <th>contract_price</th>\n",
       "      <th>estimated_price</th>\n",
       "      <th>contract_price1</th>\n",
       "      <th>estimated_price1</th>\n",
       "      <th>quantity</th>\n",
       "      <th>sum</th>\n",
       "      <th>price_change</th>\n",
       "      <th>id</th>\n",
       "    </tr>\n",
       "  </thead>\n",
       "  <tbody>\n",
       "    <tr>\n",
       "      <th>0</th>\n",
       "      <td>2022-07-02</td>\n",
       "      <td>СОЮЗ ООО Ростов</td>\n",
       "      <td>Юг Руси, АО</td>\n",
       "      <td>2022-06-15</td>\n",
       "      <td>30.0</td>\n",
       "      <td>30.29</td>\n",
       "      <td>30.0</td>\n",
       "      <td>30.32</td>\n",
       "      <td>27.05</td>\n",
       "      <td>820156.0</td>\n",
       "      <td>1.07</td>\n",
       "      <td>СОЮЗ ООО Ростов_Юг Руси, АО_2022-06-15</td>\n",
       "    </tr>\n",
       "    <tr>\n",
       "      <th>1</th>\n",
       "      <td>2022-07-02</td>\n",
       "      <td>СОЮЗ ООО Ростов</td>\n",
       "      <td>Юг Руси, АО</td>\n",
       "      <td>2022-06-15</td>\n",
       "      <td>30.0</td>\n",
       "      <td>30.29</td>\n",
       "      <td>30.0</td>\n",
       "      <td>31.02</td>\n",
       "      <td>28.78</td>\n",
       "      <td>892755.6</td>\n",
       "      <td>3.40</td>\n",
       "      <td>СОЮЗ ООО Ростов_Юг Руси, АО_2022-06-15</td>\n",
       "    </tr>\n",
       "  </tbody>\n",
       "</table>\n",
       "</div>"
      ],
      "text/plain": [
       "        date         supplier        basis  spec_date  contract_price  \\\n",
       "0 2022-07-02  СОЮЗ ООО Ростов  Юг Руси, АО 2022-06-15            30.0   \n",
       "1 2022-07-02  СОЮЗ ООО Ростов  Юг Руси, АО 2022-06-15            30.0   \n",
       "\n",
       "   estimated_price  contract_price1  estimated_price1  quantity       sum  \\\n",
       "0            30.29             30.0             30.32     27.05  820156.0   \n",
       "1            30.29             30.0             31.02     28.78  892755.6   \n",
       "\n",
       "   price_change                                      id  \n",
       "0          1.07  СОЮЗ ООО Ростов_Юг Руси, АО_2022-06-15  \n",
       "1          3.40  СОЮЗ ООО Ростов_Юг Руси, АО_2022-06-15  "
      ]
     },
     "execution_count": 3,
     "metadata": {},
     "output_type": "execute_result"
    }
   ],
   "source": [
    "zpp4.head(2)"
   ]
  },
  {
   "cell_type": "code",
   "execution_count": 4,
   "id": "d643a526-2e9a-4a1b-8a75-8fae6624f1b8",
   "metadata": {
    "tags": []
   },
   "outputs": [
    {
     "data": {
      "text/html": [
       "<div>\n",
       "<style scoped>\n",
       "    .dataframe tbody tr th:only-of-type {\n",
       "        vertical-align: middle;\n",
       "    }\n",
       "\n",
       "    .dataframe tbody tr th {\n",
       "        vertical-align: top;\n",
       "    }\n",
       "\n",
       "    .dataframe thead th {\n",
       "        text-align: right;\n",
       "    }\n",
       "</style>\n",
       "<table border=\"1\" class=\"dataframe\">\n",
       "  <thead>\n",
       "    <tr style=\"text-align: right;\">\n",
       "      <th></th>\n",
       "      <th>supplier</th>\n",
       "      <th>supplier_status</th>\n",
       "      <th>item</th>\n",
       "      <th>basis</th>\n",
       "      <th>spec_date</th>\n",
       "      <th>delivery_period_end</th>\n",
       "      <th>payment_terms</th>\n",
       "      <th>option</th>\n",
       "      <th>logistics</th>\n",
       "      <th>declared_price</th>\n",
       "      <th>consent_price</th>\n",
       "      <th>spec_price</th>\n",
       "      <th>volume_requested</th>\n",
       "      <th>volume_contracted</th>\n",
       "      <th>bids_submitted</th>\n",
       "      <th>bids_contracted</th>\n",
       "      <th>id</th>\n",
       "    </tr>\n",
       "  </thead>\n",
       "  <tbody>\n",
       "    <tr>\n",
       "      <th>0</th>\n",
       "      <td>50 ЛЕТ ОКТЯБРЯ ООО</td>\n",
       "      <td>СХТП</td>\n",
       "      <td>подсолнечник</td>\n",
       "      <td>Юг Руси, АО</td>\n",
       "      <td>2022-12-19</td>\n",
       "      <td>2022-12-25</td>\n",
       "      <td>По факту</td>\n",
       "      <td>15.0</td>\n",
       "      <td>0.0</td>\n",
       "      <td>25.5</td>\n",
       "      <td>25.0</td>\n",
       "      <td>25.0</td>\n",
       "      <td>40.0</td>\n",
       "      <td>60.0</td>\n",
       "      <td>1.0</td>\n",
       "      <td>1.0</td>\n",
       "      <td>50 ЛЕТ ОКТЯБРЯ ООО_Юг Руси, АО_2022-12-19</td>\n",
       "    </tr>\n",
       "    <tr>\n",
       "      <th>1</th>\n",
       "      <td>50 ЛЕТ ОКТЯБРЯ ООО</td>\n",
       "      <td>СХТП</td>\n",
       "      <td>подсолнечник</td>\n",
       "      <td>Юг Руси, АО</td>\n",
       "      <td>2023-01-24</td>\n",
       "      <td>2023-02-12</td>\n",
       "      <td>По факту</td>\n",
       "      <td>15.0</td>\n",
       "      <td>0.0</td>\n",
       "      <td>27.5</td>\n",
       "      <td>27.5</td>\n",
       "      <td>27.5</td>\n",
       "      <td>50.0</td>\n",
       "      <td>59.0</td>\n",
       "      <td>1.0</td>\n",
       "      <td>1.0</td>\n",
       "      <td>50 ЛЕТ ОКТЯБРЯ ООО_Юг Руси, АО_2023-01-24</td>\n",
       "    </tr>\n",
       "  </tbody>\n",
       "</table>\n",
       "</div>"
      ],
      "text/plain": [
       "             supplier supplier_status          item        basis  spec_date  \\\n",
       "0  50 ЛЕТ ОКТЯБРЯ ООО            СХТП  подсолнечник  Юг Руси, АО 2022-12-19   \n",
       "1  50 ЛЕТ ОКТЯБРЯ ООО            СХТП  подсолнечник  Юг Руси, АО 2023-01-24   \n",
       "\n",
       "  delivery_period_end payment_terms  option  logistics  declared_price  \\\n",
       "0          2022-12-25      По факту    15.0        0.0            25.5   \n",
       "1          2023-02-12      По факту    15.0        0.0            27.5   \n",
       "\n",
       "   consent_price  spec_price  volume_requested  volume_contracted  \\\n",
       "0           25.0        25.0              40.0               60.0   \n",
       "1           27.5        27.5              50.0               59.0   \n",
       "\n",
       "   bids_submitted  bids_contracted                                         id  \n",
       "0             1.0              1.0  50 ЛЕТ ОКТЯБРЯ ООО_Юг Руси, АО_2022-12-19  \n",
       "1             1.0              1.0  50 ЛЕТ ОКТЯБРЯ ООО_Юг Руси, АО_2023-01-24  "
      ]
     },
     "execution_count": 4,
     "metadata": {},
     "output_type": "execute_result"
    }
   ],
   "source": [
    "spec.head(2)"
   ]
  },
  {
   "cell_type": "code",
   "execution_count": 5,
   "id": "a438623c-35ce-43cf-b26e-568aba41059b",
   "metadata": {
    "tags": []
   },
   "outputs": [],
   "source": [
    "trash_cols = ['supplier_status', 'item', 'basis',\n",
    "              'spec_date', 'delivery_period_end', 'payment_terms',\n",
    "              'logistics', 'consent_price', 'spec_price',\n",
    "              'volume_contracted', 'bids_submitted']\n",
    "non_learn_cols = ['supplier', 'id']"
   ]
  },
  {
   "cell_type": "code",
   "execution_count": 6,
   "id": "ae904efe-1bf2-47b1-b36e-a0d2d5e6e511",
   "metadata": {},
   "outputs": [],
   "source": [
    "def past_agg(df, col, id_col, time_col, select_rows=True, agg='mean'):\n",
    "    \"\"\"\n",
    "    Возвращает аггрегацию по переменной col для каждой группы из id_col,\n",
    "    выбирая для этого записи, которые были раньше по переменной time_col,\n",
    "    а также по любым другим условиям из select_rows\n",
    "    \"\"\"\n",
    "    \n",
    "    if agg == 'mean':\n",
    "        func = lambda row: df.loc[\n",
    "            (df[id_col] == row[id_col]) &\n",
    "            (df[time_col] < row[time_col]) &\n",
    "            select_rows\n",
    "        ][col].mean()\n",
    "    \n",
    "    elif agg == 'count':\n",
    "        func = lambda row: len(df.loc[\n",
    "            (df[id_col] == row[id_col]) &\n",
    "            (df[time_col] < row[time_col]) &\n",
    "            select_rows\n",
    "        ][col])\n",
    "    \n",
    "    return df.apply(func, axis=1)\n",
    "\n",
    "# delivery length features\n",
    "spec['delivery_length'] = (spec['delivery_period_end'] - spec['spec_date']).map(lambda x: x.days) # продолжительность спецификации\n",
    "spec['mean_delivery_length'] = past_agg(spec, 'delivery_length', 'supplier', 'spec_date', (spec['bids_contracted'] == 1)) # средняя продолжительность спецификаций поставщика\n",
    "spec['delivery_length_diff'] = (spec['delivery_length'] - spec['mean_delivery_length']).abs() # разница продолжительности спецификации и средней продолжительности постащика\n",
    "\n",
    "# volume features\n",
    "spec['mean_volume'] = past_agg(spec, 'volume_requested', 'supplier', 'spec_date', (spec['bids_contracted'] == 1)) # среднее количество товара поставщика\n",
    "spec['volume_diff'] = (spec['volume_requested'] - spec['mean_volume']).abs() # разница колисетва товара и среднего количества товара поставщика\n",
    "\n",
    "spec['conversion'] = past_agg(spec, 'bids_contracted', 'supplier', 'spec_date') # конверсия по предыдущим спецификациям"
   ]
  },
  {
   "cell_type": "code",
   "execution_count": 7,
   "id": "5cd2fc07-f3de-4806-b9d7-06c20378c504",
   "metadata": {
    "tags": []
   },
   "outputs": [
    {
     "data": {
      "text/plain": [
       "<Axes: xlabel='bids_contracted', ylabel='conversion'>"
      ]
     },
     "execution_count": 7,
     "metadata": {},
     "output_type": "execute_result"
    },
    {
     "data": {
      "image/png": "[encoded data removed]",
      "text/plain": [
       "<Figure size 640x480 with 1 Axes>"
      ]
     },
     "metadata": {},
     "output_type": "display_data"
    }
   ],
   "source": [
    "sns.boxplot(x=spec['bids_contracted'], y=spec['conversion'])"
   ]
  },
  {
   "cell_type": "code",
   "execution_count": 8,
   "id": "451724fe-0226-4e9b-a6a9-acc8e111338f",
   "metadata": {
    "tags": []
   },
   "outputs": [
    {
     "data": {
      "text/plain": [
       "<Axes: xlabel='bids_contracted', ylabel='mean_delivery_length'>"
      ]
     },
     "execution_count": 8,
     "metadata": {},
     "output_type": "execute_result"
    },
    {
     "data": {
      "image/png": "[encoded data removed]",
      "text/plain": [
       "<Figure size 640x480 with 1 Axes>"
      ]
     },
     "metadata": {},
     "output_type": "display_data"
    }
   ],
   "source": [
    "sns.boxplot(x=spec['bids_contracted'], y=spec['mean_delivery_length'], showfliers=False)"
   ]
  },
  {
   "cell_type": "code",
   "execution_count": 9,
   "id": "00bbb598-e529-40f6-966c-e0445a3efbe4",
   "metadata": {
    "tags": []
   },
   "outputs": [
    {
     "data": {
      "text/plain": [
       "<Axes: xlabel='bids_contracted', ylabel='delivery_length_diff'>"
      ]
     },
     "execution_count": 9,
     "metadata": {},
     "output_type": "execute_result"
    },
    {
     "data": {
      "image/png": "[encoded data removed]",
      "text/plain": [
       "<Figure size 640x480 with 1 Axes>"
      ]
     },
     "metadata": {},
     "output_type": "display_data"
    }
   ],
   "source": [
    "sns.boxplot(x=spec['bids_contracted'], y=spec['delivery_length_diff'].abs(), showfliers=False)"
   ]
  },
  {
   "cell_type": "code",
   "execution_count": 10,
   "id": "9e242d20-2434-4239-ae60-fe8b8e53f1f7",
   "metadata": {
    "tags": []
   },
   "outputs": [
    {
     "data": {
      "text/plain": [
       "<Axes: xlabel='bids_contracted', ylabel='volume_requested'>"
      ]
     },
     "execution_count": 10,
     "metadata": {},
     "output_type": "execute_result"
    },
    {
     "data": {
      "image/png": "[encoded data removed]",
      "text/plain": [
       "<Figure size 640x480 with 1 Axes>"
      ]
     },
     "metadata": {},
     "output_type": "display_data"
    }
   ],
   "source": [
    "sns.boxplot(x=spec['bids_contracted'], y=spec['volume_requested'], showfliers=False)"
   ]
  },
  {
   "cell_type": "code",
   "execution_count": 11,
   "id": "ea9159c3-5cf6-4cc3-968d-8782aa6a9e5e",
   "metadata": {
    "tags": []
   },
   "outputs": [
    {
     "data": {
      "text/plain": [
       "<Axes: xlabel='bids_contracted', ylabel='mean_volume'>"
      ]
     },
     "execution_count": 11,
     "metadata": {},
     "output_type": "execute_result"
    },
    {
     "data": {
      "image/png": "[encoded data removed]",
      "text/plain": [
       "<Figure size 640x480 with 1 Axes>"
      ]
     },
     "metadata": {},
     "output_type": "display_data"
    }
   ],
   "source": [
    "sns.boxplot(x=spec['bids_contracted'], y=spec['mean_volume'], showfliers=False)"
   ]
  },
  {
   "cell_type": "code",
   "execution_count": 12,
   "id": "b3205281-a7f1-4ed8-98db-364b8c5dcf92",
   "metadata": {},
   "outputs": [
    {
     "data": {
      "text/plain": [
       "<Axes: xlabel='bids_contracted', ylabel='volume_diff'>"
      ]
     },
     "execution_count": 12,
     "metadata": {},
     "output_type": "execute_result"
    },
    {
     "data": {
      "image/png": "[encoded data removed]",
      "text/plain": [
       "<Figure size 640x480 with 1 Axes>"
      ]
     },
     "metadata": {},
     "output_type": "display_data"
    }
   ],
   "source": [
    "sns.boxplot(x=spec['bids_contracted'], y=spec['volume_diff'].abs(), showfliers=False)"
   ]
  },
  {
   "cell_type": "code",
   "execution_count": 7,
   "id": "a6e4cbb8-6c6a-4398-85fd-b2278ac33d35",
   "metadata": {},
   "outputs": [],
   "source": [
    "def func(row):\n",
    "    if row['supplier_status'] == 'СХТП':\n",
    "        return np.array([1, 0])\n",
    "    elif row['supplier_status'] == 'Трейдер':\n",
    "        return np.array([0, 1])\n",
    "    return np.array([0, 0])\n",
    "\n",
    "spec[['arg_prod', 'trader']] = np.stack(spec.apply(func, axis=1).values)"
   ]
  },
  {
   "cell_type": "code",
   "execution_count": 8,
   "id": "8580e0b6-a3dd-4898-a3b0-b539b2df1a14",
   "metadata": {
    "tags": []
   },
   "outputs": [
    {
     "data": {
      "text/plain": [
       "<Axes: >"
      ]
     },
     "execution_count": 8,
     "metadata": {},
     "output_type": "execute_result"
    },
    {
     "data": {
      "image/png": "[encoded data removed]",
      "text/plain": [
       "<Figure size 640x480 with 2 Axes>"
      ]
     },
     "metadata": {},
     "output_type": "display_data"
    }
   ],
   "source": [
    "shape_plot = len(spec.columns) - len(trash_cols) - len(non_learn_cols)\n",
    "mask = np.zeros((shape_plot, shape_plot))\n",
    "mask[np.triu_indices_from(mask)] = True\n",
    "\n",
    "sns.heatmap(spec.drop(trash_cols + non_learn_cols, 1).corr(), cmap = 'coolwarm', annot = False, \n",
    "            mask=mask,\n",
    "            vmin=-1, vmax=1)"
   ]
  },
  {
   "cell_type": "code",
   "execution_count": 22,
   "id": "56767033-287f-4595-9bc2-3d2f4fcbf2e9",
   "metadata": {
    "tags": []
   },
   "outputs": [],
   "source": [
    "\"\"\"\n",
    "Разделение набора данных\n",
    "\"\"\"\n",
    "\n",
    "X_train, X_test, y_train, y_test = train_test_split(\n",
    "    spec.drop(trash_cols + non_learn_cols + ['bids_contracted'], 1), spec['bids_contracted'],\n",
    "    test_size=0.33, random_state=42\n",
    ")"
   ]
  },
  {
   "cell_type": "code",
   "execution_count": 23,
   "id": "4ce27c0f-5ac1-4ff8-af7c-ac666b1286b2",
   "metadata": {
    "tags": []
   },
   "outputs": [
    {
     "name": "stdout",
     "output_type": "stream",
     "text": [
      "Accuracy: 0.7346654275092936\n",
      "ROC AUC: 0.7847445887445887\n"
     ]
    }
   ],
   "source": [
    "def estimate(model, X_test, y_test):\n",
    "    accuracy = accuracy_score(y_test, model.predict(X_test))\n",
    "    roc_auc = roc_auc_score(y_test, model.predict_proba(X_test)[:, 1])\n",
    "    print(f'Accuracy: {accuracy}\\nROC AUC: {roc_auc}')\n",
    "\n",
    "model = CatBoostClassifier(verbose = 0).fit(X_train, y_train)\n",
    "estimate(model, X_test, y_test)"
   ]
  },
  {
   "cell_type": "code",
   "execution_count": 24,
   "id": "dd55f688-0a07-42cf-91d7-4fb22302d7dd",
   "metadata": {},
   "outputs": [],
   "source": [
    "embed_df = pd.read_csv('../data/final_data/embed_df.csv')\n",
    "embed_df['date'] = pd.to_datetime(embed_df['date'], format='%Y-%m-%d')\n",
    "embes_cols = list(embed_df.columns[3:])"
   ]
  },
  {
   "cell_type": "code",
   "execution_count": 51,
   "id": "0046a455-7e62-4b15-81f2-f2756f4c8238",
   "metadata": {
    "tags": []
   },
   "outputs": [],
   "source": [
    "spec[embes_cols] = spec.apply(\n",
    "    lambda row: embed_df.loc[(embed_df['supplier'] == row['supplier']) & (embed_df['date'] < row['spec_date'])][embes_cols].mean(),\n",
    "    axis=1\n",
    ")"
   ]
  },
  {
   "cell_type": "code",
   "execution_count": null,
   "id": "c68e2810-986e-4609-81fa-47c89eff582c",
   "metadata": {},
   "outputs": [],
   "source": []
  },
  {
   "cell_type": "code",
   "execution_count": 67,
   "id": "bbec2f09-1632-472c-b9ad-c9c6381daac7",
   "metadata": {
    "tags": []
   },
   "outputs": [
    {
     "name": "stdout",
     "output_type": "stream",
     "text": [
      "Accuracy: 0.7346654275092936\n",
      "ROC AUC: 0.7847445887445887\n"
     ]
    }
   ],
   "source": [
    "X_train, X_test, y_train, y_test = train_test_split(\n",
    "    spec.drop(trash_cols + non_learn_cols + ['bids_contracted'], 1), spec['bids_contracted'],\n",
    "    test_size=0.33, random_state=42\n",
    ")\n",
    "\n",
    "model = CatBoostClassifier(verbose = 0).fit(X_train, y_train)\n",
    "estimate(model, X_test, y_test)"
   ]
  },
  {
   "cell_type": "code",
   "execution_count": 68,
   "id": "0121413e-9ea7-41f5-90bd-c0273879ca37",
   "metadata": {
    "tags": []
   },
   "outputs": [
    {
     "name": "stdout",
     "output_type": "stream",
     "text": [
      "Mean average precision: 0.7388713307675892\n"
     ]
    }
   ],
   "source": [
    "\"\"\"\n",
    "Оцениваем ранжирование по каждому дню отдельно\n",
    "\"\"\"\n",
    "\n",
    "actual = []\n",
    "predicted = []\n",
    "days_indexes = spec.loc[y_test.index].groupby('spec_date').apply(lambda x: x.index)\n",
    "\n",
    "for day in days_indexes:\n",
    "    actual.append(y_test.loc[day].values)\n",
    "    predicted.append(model.predict_proba(X_test.loc[day])[:, 1])\n",
    "\n",
    "def map_(actual, predicted):\n",
    "    return np.mean([average_precision_score(a,p) for a,p in zip(actual, predicted)])\n",
    "\n",
    "print(f'Mean average precision: {map_(actual, predicted)}')"
   ]
  },
  {
   "cell_type": "code",
   "execution_count": null,
   "id": "4788c837-6202-4e69-93c1-32afd9737d82",
   "metadata": {},
   "outputs": [],
   "source": []
  },
  {
   "cell_type": "markdown",
   "id": "35e3d9df-3441-4fdd-b83d-4d3d45c32dfe",
   "metadata": {},
   "source": [
    "## Auto Regressive model"
   ]
  },
  {
   "cell_type": "code",
   "execution_count": 14,
   "id": "d75544af-4894-4bd2-8b3a-92724f17bb0d",
   "metadata": {
    "tags": []
   },
   "outputs": [],
   "source": [
    "spec = spec.sort_values('spec_date').dropna()"
   ]
  },
  {
   "cell_type": "code",
   "execution_count": 15,
   "id": "ffa639cb-6dd3-401d-9ebc-8dbc750327c8",
   "metadata": {},
   "outputs": [
    {
     "data": {
      "text/html": [
       "<div>\n",
       "<style scoped>\n",
       "    .dataframe tbody tr th:only-of-type {\n",
       "        vertical-align: middle;\n",
       "    }\n",
       "\n",
       "    .dataframe tbody tr th {\n",
       "        vertical-align: top;\n",
       "    }\n",
       "\n",
       "    .dataframe thead th {\n",
       "        text-align: right;\n",
       "    }\n",
       "</style>\n",
       "<table border=\"1\" class=\"dataframe\">\n",
       "  <thead>\n",
       "    <tr style=\"text-align: right;\">\n",
       "      <th></th>\n",
       "      <th>supplier</th>\n",
       "      <th>supplier_status</th>\n",
       "      <th>item</th>\n",
       "      <th>basis</th>\n",
       "      <th>spec_date</th>\n",
       "      <th>delivery_period_end</th>\n",
       "      <th>payment_terms</th>\n",
       "      <th>option</th>\n",
       "      <th>logistics</th>\n",
       "      <th>declared_price</th>\n",
       "      <th>consent_price</th>\n",
       "      <th>spec_price</th>\n",
       "      <th>volume_requested</th>\n",
       "      <th>volume_contracted</th>\n",
       "      <th>bids_submitted</th>\n",
       "      <th>bids_contracted</th>\n",
       "      <th>id</th>\n",
       "      <th>delivery_length</th>\n",
       "      <th>mean_delivery_length</th>\n",
       "      <th>delivery_length_diff</th>\n",
       "      <th>mean_volume</th>\n",
       "      <th>volume_diff</th>\n",
       "      <th>conversion</th>\n",
       "      <th>arg_prod</th>\n",
       "      <th>trader</th>\n",
       "    </tr>\n",
       "  </thead>\n",
       "  <tbody>\n",
       "    <tr>\n",
       "      <th>3153</th>\n",
       "      <td>ЛЕТО ООО</td>\n",
       "      <td>Трейдер</td>\n",
       "      <td>подсолнечник</td>\n",
       "      <td>Юг Руси, АО</td>\n",
       "      <td>2022-07-19</td>\n",
       "      <td>2022-07-31</td>\n",
       "      <td>По факту</td>\n",
       "      <td>10.0</td>\n",
       "      <td>0.0</td>\n",
       "      <td>26.0</td>\n",
       "      <td>25.0</td>\n",
       "      <td>0.0</td>\n",
       "      <td>140.0</td>\n",
       "      <td>0.0</td>\n",
       "      <td>1.0</td>\n",
       "      <td>0.0</td>\n",
       "      <td>ЛЕТО ООО_Юг Руси, АО_2022-07-19</td>\n",
       "      <td>12</td>\n",
       "      <td>16.0</td>\n",
       "      <td>4.0</td>\n",
       "      <td>60.0</td>\n",
       "      <td>80.0</td>\n",
       "      <td>0.500000</td>\n",
       "      <td>0</td>\n",
       "      <td>1</td>\n",
       "    </tr>\n",
       "    <tr>\n",
       "      <th>3154</th>\n",
       "      <td>ЛЕТО ООО</td>\n",
       "      <td>Трейдер</td>\n",
       "      <td>подсолнечник</td>\n",
       "      <td>Юг Руси, АО</td>\n",
       "      <td>2022-07-20</td>\n",
       "      <td>2022-07-31</td>\n",
       "      <td>По факту</td>\n",
       "      <td>10.0</td>\n",
       "      <td>0.0</td>\n",
       "      <td>26.0</td>\n",
       "      <td>25.0</td>\n",
       "      <td>25.0</td>\n",
       "      <td>140.0</td>\n",
       "      <td>155.0</td>\n",
       "      <td>1.0</td>\n",
       "      <td>1.0</td>\n",
       "      <td>ЛЕТО ООО_Юг Руси, АО_2022-07-20</td>\n",
       "      <td>11</td>\n",
       "      <td>16.0</td>\n",
       "      <td>5.0</td>\n",
       "      <td>60.0</td>\n",
       "      <td>80.0</td>\n",
       "      <td>0.333333</td>\n",
       "      <td>0</td>\n",
       "      <td>1</td>\n",
       "    </tr>\n",
       "  </tbody>\n",
       "</table>\n",
       "</div>"
      ],
      "text/plain": [
       "      supplier supplier_status          item        basis  spec_date  \\\n",
       "3153  ЛЕТО ООО         Трейдер  подсолнечник  Юг Руси, АО 2022-07-19   \n",
       "3154  ЛЕТО ООО         Трейдер  подсолнечник  Юг Руси, АО 2022-07-20   \n",
       "\n",
       "     delivery_period_end payment_terms  option  logistics  declared_price  \\\n",
       "3153          2022-07-31      По факту    10.0        0.0            26.0   \n",
       "3154          2022-07-31      По факту    10.0        0.0            26.0   \n",
       "\n",
       "      consent_price  spec_price  volume_requested  volume_contracted  \\\n",
       "3153           25.0         0.0             140.0                0.0   \n",
       "3154           25.0        25.0             140.0              155.0   \n",
       "\n",
       "      bids_submitted  bids_contracted                               id  \\\n",
       "3153             1.0              0.0  ЛЕТО ООО_Юг Руси, АО_2022-07-19   \n",
       "3154             1.0              1.0  ЛЕТО ООО_Юг Руси, АО_2022-07-20   \n",
       "\n",
       "      delivery_length  mean_delivery_length  delivery_length_diff  \\\n",
       "3153               12                  16.0                   4.0   \n",
       "3154               11                  16.0                   5.0   \n",
       "\n",
       "      mean_volume  volume_diff  conversion  arg_prod  trader  \n",
       "3153         60.0         80.0    0.500000         0       1  \n",
       "3154         60.0         80.0    0.333333         0       1  "
      ]
     },
     "execution_count": 15,
     "metadata": {},
     "output_type": "execute_result"
    }
   ],
   "source": [
    "spec.head(2)"
   ]
  },
  {
   "cell_type": "code",
   "execution_count": null,
   "id": "642e6a67-b502-49fc-a89a-5910944a617a",
   "metadata": {},
   "outputs": [],
   "source": []
  },
  {
   "cell_type": "code",
   "execution_count": null,
   "id": "d31c4920-b6d7-4fe3-877a-44ff33f7b14e",
   "metadata": {},
   "outputs": [],
   "source": []
  },
  {
   "cell_type": "code",
   "execution_count": null,
   "id": "6e80cf3a-5ee2-44ea-b6c4-78d91b732495",
   "metadata": {},
   "outputs": [],
   "source": []
  },
  {
   "cell_type": "code",
   "execution_count": null,
   "id": "3ee196ad-28b4-48b6-b77a-cfdce9dc062a",
   "metadata": {},
   "outputs": [],
   "source": []
  },
  {
   "cell_type": "code",
   "execution_count": 25,
   "id": "b27249ce-91b4-4b34-82b3-e23f121413d5",
   "metadata": {
    "tags": []
   },
   "outputs": [],
   "source": [
    "X = spec.drop(trash_cols + non_learn_cols + ['bids_contracted'], 1).values\n",
    "y = spec['bids_contracted'].values"
   ]
  },
  {
   "cell_type": "code",
   "execution_count": 22,
   "id": "5137a8df-244d-4b79-8030-60aa55a8ed84",
   "metadata": {
    "tags": []
   },
   "outputs": [],
   "source": [
    "class TimeSeriesDataset(Dataset):\n",
    "    def __init__(self, df, target_col, time_col, window_size=20):\n",
    "        self.df = df\n",
    "        self.target_col = target_col\n",
    "        self.window_size = window_size\n",
    "\n",
    "    def __len__(self):\n",
    "        # Return the number of windows\n",
    "        return len(self.series) - self.window_size + 1\n",
    "\n",
    "    def __getitem__(self, idx):\n",
    "        time = self.df.iloc[idx+self.window_size+1][time_col]\n",
    "        \n",
    "        x = self.df.loc[self.df[time_col] < time].iloc[idx:idx+self.window_size].drop(target_col, 1)\n",
    "        y = self.df.iloc[target_col][idx+self.window_size+1]\n",
    "        return x, y"
   ]
  },
  {
   "cell_type": "code",
   "execution_count": null,
   "id": "6cec180d-6490-4758-80e6-35074af89d5a",
   "metadata": {},
   "outputs": [],
   "source": [
    "dataset = TimeSeriesDataset(spec, 'bids_contracted', 20)"
   ]
  },
  {
   "cell_type": "code",
   "execution_count": 29,
   "id": "a3d96186-a524-49f9-b7e2-f1092531936b",
   "metadata": {
    "tags": []
   },
   "outputs": [],
   "source": [
    "time = spec.iloc[500+1]['spec_date']"
   ]
  },
  {
   "cell_type": "code",
   "execution_count": 30,
   "id": "ac91077a-21e7-4bfb-9777-4f97474403af",
   "metadata": {
    "tags": []
   },
   "outputs": [
    {
     "data": {
      "text/html": [
       "<div>\n",
       "<style scoped>\n",
       "    .dataframe tbody tr th:only-of-type {\n",
       "        vertical-align: middle;\n",
       "    }\n",
       "\n",
       "    .dataframe tbody tr th {\n",
       "        vertical-align: top;\n",
       "    }\n",
       "\n",
       "    .dataframe thead th {\n",
       "        text-align: right;\n",
       "    }\n",
       "</style>\n",
       "<table border=\"1\" class=\"dataframe\">\n",
       "  <thead>\n",
       "    <tr style=\"text-align: right;\">\n",
       "      <th></th>\n",
       "      <th>supplier</th>\n",
       "      <th>supplier_status</th>\n",
       "      <th>item</th>\n",
       "      <th>basis</th>\n",
       "      <th>spec_date</th>\n",
       "      <th>delivery_period_end</th>\n",
       "      <th>payment_terms</th>\n",
       "      <th>option</th>\n",
       "      <th>logistics</th>\n",
       "      <th>declared_price</th>\n",
       "      <th>consent_price</th>\n",
       "      <th>spec_price</th>\n",
       "      <th>volume_requested</th>\n",
       "      <th>volume_contracted</th>\n",
       "      <th>bids_submitted</th>\n",
       "      <th>bids_contracted</th>\n",
       "      <th>id</th>\n",
       "      <th>delivery_length</th>\n",
       "      <th>mean_delivery_length</th>\n",
       "      <th>delivery_length_diff</th>\n",
       "      <th>mean_volume</th>\n",
       "      <th>volume_diff</th>\n",
       "      <th>conversion</th>\n",
       "      <th>arg_prod</th>\n",
       "      <th>trader</th>\n",
       "    </tr>\n",
       "  </thead>\n",
       "  <tbody>\n",
       "    <tr>\n",
       "      <th>3153</th>\n",
       "      <td>ЛЕТО ООО</td>\n",
       "      <td>Трейдер</td>\n",
       "      <td>подсолнечник</td>\n",
       "      <td>Юг Руси, АО</td>\n",
       "      <td>2022-07-19</td>\n",
       "      <td>2022-07-31</td>\n",
       "      <td>По факту</td>\n",
       "      <td>10.0</td>\n",
       "      <td>0.0</td>\n",
       "      <td>26.0</td>\n",
       "      <td>25.0</td>\n",
       "      <td>0.0</td>\n",
       "      <td>140.00</td>\n",
       "      <td>0.00</td>\n",
       "      <td>1.0</td>\n",
       "      <td>0.0</td>\n",
       "      <td>ЛЕТО ООО_Юг Руси, АО_2022-07-19</td>\n",
       "      <td>12</td>\n",
       "      <td>16.000000</td>\n",
       "      <td>4.000000</td>\n",
       "      <td>60.000000</td>\n",
       "      <td>80.000000</td>\n",
       "      <td>0.500000</td>\n",
       "      <td>0</td>\n",
       "      <td>1</td>\n",
       "    </tr>\n",
       "    <tr>\n",
       "      <th>3154</th>\n",
       "      <td>ЛЕТО ООО</td>\n",
       "      <td>Трейдер</td>\n",
       "      <td>подсолнечник</td>\n",
       "      <td>Юг Руси, АО</td>\n",
       "      <td>2022-07-20</td>\n",
       "      <td>2022-07-31</td>\n",
       "      <td>По факту</td>\n",
       "      <td>10.0</td>\n",
       "      <td>0.0</td>\n",
       "      <td>26.0</td>\n",
       "      <td>25.0</td>\n",
       "      <td>25.0</td>\n",
       "      <td>140.00</td>\n",
       "      <td>155.00</td>\n",
       "      <td>1.0</td>\n",
       "      <td>1.0</td>\n",
       "      <td>ЛЕТО ООО_Юг Руси, АО_2022-07-20</td>\n",
       "      <td>11</td>\n",
       "      <td>16.000000</td>\n",
       "      <td>5.000000</td>\n",
       "      <td>60.000000</td>\n",
       "      <td>80.000000</td>\n",
       "      <td>0.333333</td>\n",
       "      <td>0</td>\n",
       "      <td>1</td>\n",
       "    </tr>\n",
       "    <tr>\n",
       "      <th>2343</th>\n",
       "      <td>КМЗ ООО</td>\n",
       "      <td>Трейдер</td>\n",
       "      <td>подсолнечник</td>\n",
       "      <td>ЮР Лабинский МЭЗ ф-л, ООО</td>\n",
       "      <td>2022-07-20</td>\n",
       "      <td>2022-08-07</td>\n",
       "      <td>По факту</td>\n",
       "      <td>10.0</td>\n",
       "      <td>0.0</td>\n",
       "      <td>27.0</td>\n",
       "      <td>26.0</td>\n",
       "      <td>26.0</td>\n",
       "      <td>2000.00</td>\n",
       "      <td>2000.00</td>\n",
       "      <td>1.0</td>\n",
       "      <td>1.0</td>\n",
       "      <td>КМЗ ООО_ЮР Лабинский МЭЗ ф-л, ООО_2022-07-20</td>\n",
       "      <td>18</td>\n",
       "      <td>16.000000</td>\n",
       "      <td>2.000000</td>\n",
       "      <td>2000.000000</td>\n",
       "      <td>0.000000</td>\n",
       "      <td>1.000000</td>\n",
       "      <td>0</td>\n",
       "      <td>1</td>\n",
       "    </tr>\n",
       "    <tr>\n",
       "      <th>4174</th>\n",
       "      <td>Осыченко Е.С. ИП Глава К(Ф)Х</td>\n",
       "      <td>СХТП</td>\n",
       "      <td>подсолнечник</td>\n",
       "      <td>ЮР Валуйский МЭЗ ф-л, ООО</td>\n",
       "      <td>2022-07-27</td>\n",
       "      <td>2022-08-05</td>\n",
       "      <td>По факту</td>\n",
       "      <td>5.0</td>\n",
       "      <td>0.0</td>\n",
       "      <td>26.0</td>\n",
       "      <td>26.0</td>\n",
       "      <td>26.0</td>\n",
       "      <td>300.00</td>\n",
       "      <td>319.26</td>\n",
       "      <td>1.0</td>\n",
       "      <td>1.0</td>\n",
       "      <td>Осыченко Е.С. ИП Глава К(Ф)Х_ЮР Валуйский МЭЗ ...</td>\n",
       "      <td>9</td>\n",
       "      <td>14.000000</td>\n",
       "      <td>5.000000</td>\n",
       "      <td>300.000000</td>\n",
       "      <td>0.000000</td>\n",
       "      <td>0.500000</td>\n",
       "      <td>1</td>\n",
       "      <td>0</td>\n",
       "    </tr>\n",
       "    <tr>\n",
       "      <th>2344</th>\n",
       "      <td>КМЗ ООО</td>\n",
       "      <td>Трейдер</td>\n",
       "      <td>подсолнечник</td>\n",
       "      <td>ЮР Лабинский МЭЗ ф-л, ООО</td>\n",
       "      <td>2022-07-30</td>\n",
       "      <td>2022-08-28</td>\n",
       "      <td>По факту</td>\n",
       "      <td>10.0</td>\n",
       "      <td>0.0</td>\n",
       "      <td>26.0</td>\n",
       "      <td>26.0</td>\n",
       "      <td>0.0</td>\n",
       "      <td>2000.00</td>\n",
       "      <td>0.00</td>\n",
       "      <td>1.0</td>\n",
       "      <td>0.0</td>\n",
       "      <td>КМЗ ООО_ЮР Лабинский МЭЗ ф-л, ООО_2022-07-30</td>\n",
       "      <td>29</td>\n",
       "      <td>17.000000</td>\n",
       "      <td>12.000000</td>\n",
       "      <td>2000.000000</td>\n",
       "      <td>0.000000</td>\n",
       "      <td>1.000000</td>\n",
       "      <td>0</td>\n",
       "      <td>1</td>\n",
       "    </tr>\n",
       "    <tr>\n",
       "      <th>...</th>\n",
       "      <td>...</td>\n",
       "      <td>...</td>\n",
       "      <td>...</td>\n",
       "      <td>...</td>\n",
       "      <td>...</td>\n",
       "      <td>...</td>\n",
       "      <td>...</td>\n",
       "      <td>...</td>\n",
       "      <td>...</td>\n",
       "      <td>...</td>\n",
       "      <td>...</td>\n",
       "      <td>...</td>\n",
       "      <td>...</td>\n",
       "      <td>...</td>\n",
       "      <td>...</td>\n",
       "      <td>...</td>\n",
       "      <td>...</td>\n",
       "      <td>...</td>\n",
       "      <td>...</td>\n",
       "      <td>...</td>\n",
       "      <td>...</td>\n",
       "      <td>...</td>\n",
       "      <td>...</td>\n",
       "      <td>...</td>\n",
       "      <td>...</td>\n",
       "    </tr>\n",
       "    <tr>\n",
       "      <th>1974</th>\n",
       "      <td>Жукова Е.В. ИП Глава К(Ф)Х</td>\n",
       "      <td>СХТП</td>\n",
       "      <td>подсолнечник</td>\n",
       "      <td>Юг Руси, АО</td>\n",
       "      <td>2022-10-16</td>\n",
       "      <td>2022-10-17</td>\n",
       "      <td>По факту</td>\n",
       "      <td>10.0</td>\n",
       "      <td>0.0</td>\n",
       "      <td>22.5</td>\n",
       "      <td>22.0</td>\n",
       "      <td>0.0</td>\n",
       "      <td>21.00</td>\n",
       "      <td>0.00</td>\n",
       "      <td>1.0</td>\n",
       "      <td>0.0</td>\n",
       "      <td>Жукова Е.В. ИП Глава К(Ф)Х_Юг Руси, АО_2022-10-16</td>\n",
       "      <td>1</td>\n",
       "      <td>13.500000</td>\n",
       "      <td>12.500000</td>\n",
       "      <td>85.500000</td>\n",
       "      <td>64.500000</td>\n",
       "      <td>1.000000</td>\n",
       "      <td>1</td>\n",
       "      <td>0</td>\n",
       "    </tr>\n",
       "    <tr>\n",
       "      <th>6062</th>\n",
       "      <td>Чернышев В.В. ИП Глава К(Ф)Х</td>\n",
       "      <td>СХТП</td>\n",
       "      <td>подсолнечник</td>\n",
       "      <td>Юг Руси, АО</td>\n",
       "      <td>2022-10-16</td>\n",
       "      <td>2022-10-16</td>\n",
       "      <td>По факту</td>\n",
       "      <td>10.0</td>\n",
       "      <td>0.0</td>\n",
       "      <td>22.5</td>\n",
       "      <td>22.0</td>\n",
       "      <td>22.0</td>\n",
       "      <td>20.43</td>\n",
       "      <td>20.43</td>\n",
       "      <td>1.0</td>\n",
       "      <td>1.0</td>\n",
       "      <td>Чернышев В.В. ИП Глава К(Ф)Х_Юг Руси, АО_2022-...</td>\n",
       "      <td>0</td>\n",
       "      <td>0.000000</td>\n",
       "      <td>0.000000</td>\n",
       "      <td>20.000000</td>\n",
       "      <td>0.430000</td>\n",
       "      <td>1.000000</td>\n",
       "      <td>1</td>\n",
       "      <td>0</td>\n",
       "    </tr>\n",
       "    <tr>\n",
       "      <th>1164</th>\n",
       "      <td>Ващаев Н.В. ИП Глава К(Ф)Х</td>\n",
       "      <td>СХТП</td>\n",
       "      <td>подсолнечник</td>\n",
       "      <td>ЮР Базковский филиал, АО</td>\n",
       "      <td>2022-10-16</td>\n",
       "      <td>2022-10-31</td>\n",
       "      <td>По факту</td>\n",
       "      <td>10.0</td>\n",
       "      <td>0.0</td>\n",
       "      <td>22.0</td>\n",
       "      <td>22.0</td>\n",
       "      <td>22.0</td>\n",
       "      <td>100.00</td>\n",
       "      <td>100.00</td>\n",
       "      <td>1.0</td>\n",
       "      <td>1.0</td>\n",
       "      <td>Ващаев Н.В. ИП Глава К(Ф)Х_ЮР Базковский филиа...</td>\n",
       "      <td>15</td>\n",
       "      <td>24.000000</td>\n",
       "      <td>9.000000</td>\n",
       "      <td>100.000000</td>\n",
       "      <td>0.000000</td>\n",
       "      <td>1.000000</td>\n",
       "      <td>1</td>\n",
       "      <td>0</td>\n",
       "    </tr>\n",
       "    <tr>\n",
       "      <th>5172</th>\n",
       "      <td>СТЕПЬ ООО</td>\n",
       "      <td>СХТП</td>\n",
       "      <td>подсолнечник</td>\n",
       "      <td>ЮР Морозовский филиал, АО</td>\n",
       "      <td>2022-10-16</td>\n",
       "      <td>2022-10-23</td>\n",
       "      <td>По факту</td>\n",
       "      <td>10.0</td>\n",
       "      <td>0.0</td>\n",
       "      <td>22.3</td>\n",
       "      <td>22.0</td>\n",
       "      <td>22.0</td>\n",
       "      <td>1000.00</td>\n",
       "      <td>1000.00</td>\n",
       "      <td>1.0</td>\n",
       "      <td>1.0</td>\n",
       "      <td>СТЕПЬ ООО_ЮР Морозовский филиал, АО_2022-10-16</td>\n",
       "      <td>7</td>\n",
       "      <td>10.500000</td>\n",
       "      <td>3.500000</td>\n",
       "      <td>1250.000000</td>\n",
       "      <td>250.000000</td>\n",
       "      <td>0.666667</td>\n",
       "      <td>1</td>\n",
       "      <td>0</td>\n",
       "    </tr>\n",
       "    <tr>\n",
       "      <th>3167</th>\n",
       "      <td>ЛЕТО ООО</td>\n",
       "      <td>Трейдер</td>\n",
       "      <td>подсолнечник</td>\n",
       "      <td>ЮР Тарасовский филиал, АО</td>\n",
       "      <td>2022-10-16</td>\n",
       "      <td>2022-10-16</td>\n",
       "      <td>По факту</td>\n",
       "      <td>10.0</td>\n",
       "      <td>0.0</td>\n",
       "      <td>22.0</td>\n",
       "      <td>22.0</td>\n",
       "      <td>22.0</td>\n",
       "      <td>65.00</td>\n",
       "      <td>65.00</td>\n",
       "      <td>1.0</td>\n",
       "      <td>1.0</td>\n",
       "      <td>ЛЕТО ООО_ЮР Тарасовский филиал, АО_2022-10-16</td>\n",
       "      <td>0</td>\n",
       "      <td>21.909091</td>\n",
       "      <td>21.909091</td>\n",
       "      <td>345.454545</td>\n",
       "      <td>280.454545</td>\n",
       "      <td>0.687500</td>\n",
       "      <td>0</td>\n",
       "      <td>1</td>\n",
       "    </tr>\n",
       "  </tbody>\n",
       "</table>\n",
       "<p>492 rows × 25 columns</p>\n",
       "</div>"
      ],
      "text/plain": [
       "                          supplier supplier_status          item  \\\n",
       "3153                      ЛЕТО ООО         Трейдер  подсолнечник   \n",
       "3154                      ЛЕТО ООО         Трейдер  подсолнечник   \n",
       "2343                       КМЗ ООО         Трейдер  подсолнечник   \n",
       "4174  Осыченко Е.С. ИП Глава К(Ф)Х            СХТП  подсолнечник   \n",
       "2344                       КМЗ ООО         Трейдер  подсолнечник   \n",
       "...                            ...             ...           ...   \n",
       "1974    Жукова Е.В. ИП Глава К(Ф)Х            СХТП  подсолнечник   \n",
       "6062  Чернышев В.В. ИП Глава К(Ф)Х            СХТП  подсолнечник   \n",
       "1164    Ващаев Н.В. ИП Глава К(Ф)Х            СХТП  подсолнечник   \n",
       "5172                     СТЕПЬ ООО            СХТП  подсолнечник   \n",
       "3167                      ЛЕТО ООО         Трейдер  подсолнечник   \n",
       "\n",
       "                          basis  spec_date delivery_period_end payment_terms  \\\n",
       "3153                Юг Руси, АО 2022-07-19          2022-07-31      По факту   \n",
       "3154                Юг Руси, АО 2022-07-20          2022-07-31      По факту   \n",
       "2343  ЮР Лабинский МЭЗ ф-л, ООО 2022-07-20          2022-08-07      По факту   \n",
       "4174  ЮР Валуйский МЭЗ ф-л, ООО 2022-07-27          2022-08-05      По факту   \n",
       "2344  ЮР Лабинский МЭЗ ф-л, ООО 2022-07-30          2022-08-28      По факту   \n",
       "...                         ...        ...                 ...           ...   \n",
       "1974                Юг Руси, АО 2022-10-16          2022-10-17      По факту   \n",
       "6062                Юг Руси, АО 2022-10-16          2022-10-16      По факту   \n",
       "1164   ЮР Базковский филиал, АО 2022-10-16          2022-10-31      По факту   \n",
       "5172  ЮР Морозовский филиал, АО 2022-10-16          2022-10-23      По факту   \n",
       "3167  ЮР Тарасовский филиал, АО 2022-10-16          2022-10-16      По факту   \n",
       "\n",
       "      option  logistics  declared_price  consent_price  spec_price  \\\n",
       "3153    10.0        0.0            26.0           25.0         0.0   \n",
       "3154    10.0        0.0            26.0           25.0        25.0   \n",
       "2343    10.0        0.0            27.0           26.0        26.0   \n",
       "4174     5.0        0.0            26.0           26.0        26.0   \n",
       "2344    10.0        0.0            26.0           26.0         0.0   \n",
       "...      ...        ...             ...            ...         ...   \n",
       "1974    10.0        0.0            22.5           22.0         0.0   \n",
       "6062    10.0        0.0            22.5           22.0        22.0   \n",
       "1164    10.0        0.0            22.0           22.0        22.0   \n",
       "5172    10.0        0.0            22.3           22.0        22.0   \n",
       "3167    10.0        0.0            22.0           22.0        22.0   \n",
       "\n",
       "      volume_requested  volume_contracted  bids_submitted  bids_contracted  \\\n",
       "3153            140.00               0.00             1.0              0.0   \n",
       "3154            140.00             155.00             1.0              1.0   \n",
       "2343           2000.00            2000.00             1.0              1.0   \n",
       "4174            300.00             319.26             1.0              1.0   \n",
       "2344           2000.00               0.00             1.0              0.0   \n",
       "...                ...                ...             ...              ...   \n",
       "1974             21.00               0.00             1.0              0.0   \n",
       "6062             20.43              20.43             1.0              1.0   \n",
       "1164            100.00             100.00             1.0              1.0   \n",
       "5172           1000.00            1000.00             1.0              1.0   \n",
       "3167             65.00              65.00             1.0              1.0   \n",
       "\n",
       "                                                     id  delivery_length  \\\n",
       "3153                    ЛЕТО ООО_Юг Руси, АО_2022-07-19               12   \n",
       "3154                    ЛЕТО ООО_Юг Руси, АО_2022-07-20               11   \n",
       "2343       КМЗ ООО_ЮР Лабинский МЭЗ ф-л, ООО_2022-07-20               18   \n",
       "4174  Осыченко Е.С. ИП Глава К(Ф)Х_ЮР Валуйский МЭЗ ...                9   \n",
       "2344       КМЗ ООО_ЮР Лабинский МЭЗ ф-л, ООО_2022-07-30               29   \n",
       "...                                                 ...              ...   \n",
       "1974  Жукова Е.В. ИП Глава К(Ф)Х_Юг Руси, АО_2022-10-16                1   \n",
       "6062  Чернышев В.В. ИП Глава К(Ф)Х_Юг Руси, АО_2022-...                0   \n",
       "1164  Ващаев Н.В. ИП Глава К(Ф)Х_ЮР Базковский филиа...               15   \n",
       "5172     СТЕПЬ ООО_ЮР Морозовский филиал, АО_2022-10-16                7   \n",
       "3167      ЛЕТО ООО_ЮР Тарасовский филиал, АО_2022-10-16                0   \n",
       "\n",
       "      mean_delivery_length  delivery_length_diff  mean_volume  volume_diff  \\\n",
       "3153             16.000000              4.000000    60.000000    80.000000   \n",
       "3154             16.000000              5.000000    60.000000    80.000000   \n",
       "2343             16.000000              2.000000  2000.000000     0.000000   \n",
       "4174             14.000000              5.000000   300.000000     0.000000   \n",
       "2344             17.000000             12.000000  2000.000000     0.000000   \n",
       "...                    ...                   ...          ...          ...   \n",
       "1974             13.500000             12.500000    85.500000    64.500000   \n",
       "6062              0.000000              0.000000    20.000000     0.430000   \n",
       "1164             24.000000              9.000000   100.000000     0.000000   \n",
       "5172             10.500000              3.500000  1250.000000   250.000000   \n",
       "3167             21.909091             21.909091   345.454545   280.454545   \n",
       "\n",
       "      conversion  arg_prod  trader  \n",
       "3153    0.500000         0       1  \n",
       "3154    0.333333         0       1  \n",
       "2343    1.000000         0       1  \n",
       "4174    0.500000         1       0  \n",
       "2344    1.000000         0       1  \n",
       "...          ...       ...     ...  \n",
       "1974    1.000000         1       0  \n",
       "6062    1.000000         1       0  \n",
       "1164    1.000000         1       0  \n",
       "5172    0.666667         1       0  \n",
       "3167    0.687500         0       1  \n",
       "\n",
       "[492 rows x 25 columns]"
      ]
     },
     "execution_count": 30,
     "metadata": {},
     "output_type": "execute_result"
    }
   ],
   "source": [
    "spec.loc[spec['spec_date'] < time]"
   ]
  },
  {
   "cell_type": "code",
   "execution_count": 31,
   "id": "0c58e080-4e4d-4d68-ae1a-1abb24e7dcdc",
   "metadata": {
    "tags": []
   },
   "outputs": [
    {
     "data": {
      "text/plain": [
       "Timestamp('2022-10-17 00:00:00')"
      ]
     },
     "execution_count": 31,
     "metadata": {},
     "output_type": "execute_result"
    }
   ],
   "source": [
    "time"
   ]
  },
  {
   "cell_type": "code",
   "execution_count": null,
   "id": "667ad733-7dfb-41ca-a2b6-6e56a58b65fd",
   "metadata": {},
   "outputs": [],
   "source": []
  },
  {
   "cell_type": "code",
   "execution_count": null,
   "id": "2b516a69-4c45-44a0-b503-cedcdd02116a",
   "metadata": {},
   "outputs": [],
   "source": []
  },
  {
   "cell_type": "code",
   "execution_count": null,
   "id": "2b4a19c2-3fbe-4aea-86a0-4b4ea01d9456",
   "metadata": {},
   "outputs": [],
   "source": []
  },
  {
   "cell_type": "code",
   "execution_count": null,
   "id": "0ed38ae0-f061-4055-8e72-ca23f8a60234",
   "metadata": {},
   "outputs": [],
   "source": []
  },
  {
   "cell_type": "code",
   "execution_count": null,
   "id": "8f704345-1171-43a7-b0fa-50cb4acd54e5",
   "metadata": {},
   "outputs": [],
   "source": []
  },
  {
   "cell_type": "code",
   "execution_count": null,
   "id": "99e8a99e-6a93-4321-bd42-d9edf3c43ada",
   "metadata": {},
   "outputs": [],
   "source": []
  },
  {
   "cell_type": "code",
   "execution_count": null,
   "id": "24ec86c7-8613-4fe3-9fab-c0d0359ee9f4",
   "metadata": {},
   "outputs": [],
   "source": []
  },
  {
   "cell_type": "code",
   "execution_count": 28,
   "id": "b976ab53-b647-40b7-94af-3491d4f975fd",
   "metadata": {},
   "outputs": [],
   "source": [
    "AR_model = LSTMSeq2One(11, 9, 1)"
   ]
  },
  {
   "cell_type": "code",
   "execution_count": null,
   "id": "d3f2ad89-155c-41df-abd1-2c54de918bbe",
   "metadata": {},
   "outputs": [],
   "source": []
  },
  {
   "cell_type": "code",
   "execution_count": null,
   "id": "1e232608-7d97-42b7-8a53-5234cc80c3d9",
   "metadata": {},
   "outputs": [],
   "source": []
  },
  {
   "cell_type": "code",
   "execution_count": null,
   "id": "11d11e4a-5ade-4a50-8a23-be41171033f8",
   "metadata": {},
   "outputs": [],
   "source": []
  },
  {
   "cell_type": "code",
   "execution_count": null,
   "id": "1cd43347-409f-4214-b88c-b396a9ccc498",
   "metadata": {},
   "outputs": [],
   "source": []
  },
  {
   "cell_type": "code",
   "execution_count": null,
   "id": "ea349f24-2eb5-4c1d-a7e8-b083382c92e0",
   "metadata": {},
   "outputs": [],
   "source": []
  },
  {
   "cell_type": "code",
   "execution_count": null,
   "id": "bdf968ee-dbdc-4432-9853-ad8d57bddf77",
   "metadata": {},
   "outputs": [],
   "source": []
  },
  {
   "cell_type": "code",
   "execution_count": null,
   "id": "9015b3cf-bb18-4f16-9bf6-33b2ea2eace6",
   "metadata": {},
   "outputs": [],
   "source": []
  },
  {
   "cell_type": "code",
   "execution_count": null,
   "id": "31046a0b-5097-4ae2-a067-9a36c65efc68",
   "metadata": {},
   "outputs": [],
   "source": []
  },
  {
   "cell_type": "code",
   "execution_count": null,
   "id": "aceddd30-2504-4528-bc8c-e37529677d78",
   "metadata": {},
   "outputs": [],
   "source": []
  },
  {
   "cell_type": "code",
   "execution_count": null,
   "id": "e355decf-b252-4386-80e6-15c3ceceaa12",
   "metadata": {},
   "outputs": [],
   "source": []
  },
  {
   "cell_type": "code",
   "execution_count": null,
   "id": "765dfa86-3af8-49b4-84ae-17d9cd2390aa",
   "metadata": {},
   "outputs": [],
   "source": []
  },
  {
   "cell_type": "code",
   "execution_count": null,
   "id": "834257b4-e97e-4ad8-9229-d207686868b6",
   "metadata": {},
   "outputs": [],
   "source": []
  },
  {
   "cell_type": "code",
   "execution_count": null,
   "id": "655ab79e-a44c-471d-bdea-aa6a08820bbf",
   "metadata": {},
   "outputs": [],
   "source": []
  },
  {
   "cell_type": "code",
   "execution_count": null,
   "id": "02aba527-9b8d-4b5d-8378-63aa7ddb393f",
   "metadata": {},
   "outputs": [],
   "source": []
  },
  {
   "cell_type": "code",
   "execution_count": null,
   "id": "7f3e2e62-0302-45f7-978b-03e3416216d0",
   "metadata": {},
   "outputs": [],
   "source": []
  },
  {
   "cell_type": "code",
   "execution_count": null,
   "id": "205ee097-604c-41dd-8960-7a09bde95f25",
   "metadata": {},
   "outputs": [],
   "source": []
  },
  {
   "cell_type": "code",
   "execution_count": null,
   "id": "eded9cb8-ac4e-4f27-a413-4ece759f3de1",
   "metadata": {},
   "outputs": [],
   "source": []
  },
  {
   "cell_type": "code",
   "execution_count": null,
   "id": "e016c9bf-d9c8-436f-bc3d-39a5064aac59",
   "metadata": {},
   "outputs": [],
   "source": []
  }
 ],
 "metadata": {
  "kernelspec": {
   "display_name": "Python 3 (ipykernel)",
   "language": "python",
   "name": "python3"
  },
  "language_info": {
   "codemirror_mode": {
    "name": "ipython",
    "version": 3
   },
   "file_extension": ".py",
   "mimetype": "text/x-python",
   "name": "python",
   "nbconvert_exporter": "python",
   "pygments_lexer": "ipython3",
   "version": "3.11.5"
  }
 },
 "nbformat": 4,
 "nbformat_minor": 5
}
