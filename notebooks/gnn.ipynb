{
 "cells": [
  {
   "cell_type": "code",
   "execution_count": 1,
   "id": "fc30f3ac-3e0e-408d-8d59-9be22dba03e9",
   "metadata": {},
   "outputs": [],
   "source": [
    "import numpy as np\n",
    "import pandas as pd\n",
    "\n",
    "import seaborn as sns\n",
    "from datetime import datetime\n",
    "\n",
    "import sys\n",
    "import os\n",
    "sys.path.append(os.path.abspath('..'))\n",
    "from data.preprocessing import Preprocessor\n",
    "from data.feature_generation import zpp4_agg_features, zpp4_embed_agg, spec_agg_features\n",
    "\n",
    "import torch\n",
    "import torch.nn as nn\n",
    "import torch.nn.functional as F\n",
    "from torch_geometric.data import Data\n",
    "from torch_geometric.nn import GCNConv\n",
    "from torch_geometric.loader import DataLoader\n",
    "from torch_geometric.nn.models import GAT"
   ]
  },
  {
   "cell_type": "code",
   "execution_count": 2,
   "id": "49a9067f-b832-4e8b-be12-844edacc5c67",
   "metadata": {},
   "outputs": [],
   "source": [
    "from sklearn.metrics import accuracy_score, roc_auc_score\n",
    "\n",
    "import sys\n",
    "import os\n",
    "sys.path.append(os.path.abspath('..'))\n",
    "from src.metrics import apk, mapk"
   ]
  },
  {
   "cell_type": "code",
   "execution_count": 3,
   "id": "19828ffe-438e-47fe-a596-a9d78a4bf1f9",
   "metadata": {},
   "outputs": [],
   "source": [
    "\"\"\"\n",
    "Загрузка данных\n",
    "\"\"\"\n",
    "\n",
    "# таблица со спецификациями\n",
    "spec = pd.read_csv('../data/processed_data/specs.csv')\n",
    "spec['spec_date'] = pd.to_datetime(spec['spec_date'], format='%Y-%m-%d')\n",
    "spec['delivery_period_end'] = pd.to_datetime(spec['delivery_period_end'], format='%Y-%m-%d')\n",
    "\n",
    "# таблица с доставками\n",
    "zpp4 = pd.read_csv('../data/processed_data/zpp4.csv')\n",
    "zpp4['date'] = pd.to_datetime(zpp4['date'], format='%Y-%m-%d')\n",
    "zpp4['spec_date'] = pd.to_datetime(zpp4['spec_date'], format='%Y-%m-%d')"
   ]
  },
  {
   "cell_type": "code",
   "execution_count": 4,
   "id": "4af837ec-09da-484d-9d5d-16d46bf89b14",
   "metadata": {},
   "outputs": [],
   "source": [
    "\"\"\"\n",
    "Генерация фичей\n",
    "\"\"\"\n",
    "\n",
    "# фичи эмбеддинги\n",
    "spec = zpp4_embed_agg(spec)\n",
    "\n",
    "features = [str(i) for i in range(16)]\n",
    "\n",
    "spec = spec.fillna(0)"
   ]
  },
  {
   "cell_type": "code",
   "execution_count": 5,
   "id": "df7b8118-9fb5-48a4-8b50-4f81a6571d6a",
   "metadata": {},
   "outputs": [],
   "source": [
    "# разделение набора данных\n",
    "split_point = spec['spec_date'].quantile(0.8)\n",
    "train = spec[spec['spec_date'] < split_point]\n",
    "test = spec[spec['spec_date'] >= split_point]"
   ]
  },
  {
   "cell_type": "code",
   "execution_count": 6,
   "id": "a02dffda-cdbe-4bd3-bc2c-ad6c650d625c",
   "metadata": {},
   "outputs": [],
   "source": [
    "def df_to_graph(df, features, target):\n",
    "\n",
    "    # генерация индексов рёбер\n",
    "    edge_index = []\n",
    "    for i in range(len(df)):\n",
    "        for j in range(i):\n",
    "            edge_index.append([i, j])\n",
    "        for j in range(i+1, len(df)):\n",
    "            edge_index.append([i, j])\n",
    "    \n",
    "    edge_index = torch.tensor(edge_index, dtype=torch.long).view(2, -1)\n",
    "    x = torch.tensor(df[features].values, dtype=torch.float)\n",
    "    y = torch.tensor(df[target].values, dtype=torch.float)\n",
    "    return Data(x=x, y=y, edge_index=edge_index)"
   ]
  },
  {
   "cell_type": "code",
   "execution_count": 7,
   "id": "ed688223-6c8e-469e-a10e-5aa4da62af68",
   "metadata": {},
   "outputs": [],
   "source": [
    "train_dataset = [df_to_graph(train[train['spec_date'] == day], features, 'bids_contracted') for day in train['spec_date'].unique()]\n",
    "test_dataset = [df_to_graph(test[test['spec_date'] == day], features, 'bids_contracted') for day in test['spec_date'].unique()]"
   ]
  },
  {
   "cell_type": "code",
   "execution_count": 8,
   "id": "9769a7eb-37a1-4e56-b3fb-0404e9803808",
   "metadata": {},
   "outputs": [],
   "source": [
    "loader = DataLoader(train_dataset, batch_size=64, shuffle=True)"
   ]
  },
  {
   "cell_type": "code",
   "execution_count": 261,
   "id": "e83c0e7b-fe90-47c0-8e68-8ea6e798e21b",
   "metadata": {},
   "outputs": [],
   "source": [
    "class GCN(nn.Module):\n",
    "    def __init__(self, input_dim, hidden_dim, output_dim):\n",
    "        super(GCN, self).__init__()\n",
    "        self.conv1 = GCNConv(input_dim, hidden_dim)\n",
    "        self.relu = nn.ReLU()\n",
    "        self.conv2 = GCNConv(hidden_dim, output_dim)\n",
    "        self.sigmoid = nn.Sigmoid()\n",
    "\n",
    "    def forward(self, data):\n",
    "        x, edge_index = data.x, data.edge_index\n",
    "\n",
    "        x = self.conv1(x, edge_index)\n",
    "        x = self.relu(x)\n",
    "        x = self.conv2(x, edge_index)\n",
    "        x = self.sigmoid(x)\n",
    "\n",
    "        return x"
   ]
  },
  {
   "cell_type": "code",
   "execution_count": 9,
   "id": "0f67f0e5-1277-4cf6-9e3a-d83492c7cd0f",
   "metadata": {},
   "outputs": [],
   "source": [
    "model = GAT(16, 32, 2, 1, dropout=0.05)\n",
    "\n",
    "criterion = nn.BCELoss()\n",
    "optimizer = torch.optim.Adam(model.parameters(), lr=0.0001)"
   ]
  },
  {
   "cell_type": "code",
   "execution_count": 10,
   "id": "267a9586-85a4-4ca6-a6ef-4b0e2a54ac74",
   "metadata": {},
   "outputs": [
    {
     "name": "stdout",
     "output_type": "stream",
     "text": [
      "0.6765897274017334\n",
      "0.6563298106193542\n",
      "0.6590983867645264\n",
      "0.6618518829345703\n",
      "0.6428015232086182\n",
      "0.6332069039344788\n",
      "0.6503934264183044\n",
      "0.6404200196266174\n",
      "0.6260976791381836\n",
      "0.6427507400512695\n",
      "0.6247395277023315\n",
      "0.6220357418060303\n",
      "0.6391492486000061\n",
      "0.6189703345298767\n",
      "0.6284834146499634\n",
      "0.6135326027870178\n",
      "0.6166964173316956\n",
      "0.6078242659568787\n",
      "0.6172433495521545\n",
      "0.6130870580673218\n",
      "0.6057910323143005\n",
      "0.6295979619026184\n",
      "0.603305459022522\n",
      "0.5951284170150757\n",
      "0.5925212502479553\n",
      "0.6068510413169861\n",
      "0.5869389176368713\n",
      "0.6077035665512085\n",
      "0.6227427124977112\n",
      "0.613279402256012\n",
      "0.5921937823295593\n",
      "0.6076918244361877\n",
      "0.6195913553237915\n",
      "0.5941442251205444\n",
      "0.6116681098937988\n",
      "0.6003482341766357\n",
      "0.6231428384780884\n",
      "0.6258254647254944\n",
      "0.5992532968521118\n",
      "0.599688708782196\n",
      "0.6295122504234314\n",
      "0.6086942553520203\n",
      "0.6024848222732544\n",
      "0.6057611107826233\n",
      "0.632943868637085\n",
      "0.5843992829322815\n",
      "0.6055697798728943\n",
      "0.59395831823349\n",
      "0.6086865067481995\n",
      "0.6110958456993103\n",
      "0.5980188846588135\n",
      "0.6209535002708435\n",
      "0.5919452905654907\n",
      "0.5667489767074585\n",
      "0.6515090465545654\n",
      "0.6024104952812195\n",
      "0.6035028696060181\n",
      "0.6114179491996765\n",
      "0.5986999869346619\n",
      "0.6105818748474121\n",
      "0.5976740717887878\n",
      "0.6081064939498901\n"
     ]
    },
    {
     "ename": "KeyboardInterrupt",
     "evalue": "",
     "output_type": "error",
     "traceback": [
      "\u001b[1;31m---------------------------------------------------------------------------\u001b[0m",
      "\u001b[1;31mKeyboardInterrupt\u001b[0m                         Traceback (most recent call last)",
      "Cell \u001b[1;32mIn[10], line 4\u001b[0m\n\u001b[0;32m      2\u001b[0m \u001b[38;5;28;01mfor\u001b[39;00m epoch \u001b[38;5;129;01min\u001b[39;00m \u001b[38;5;28mrange\u001b[39m(\u001b[38;5;241m1000\u001b[39m):\n\u001b[0;32m      3\u001b[0m     \u001b[38;5;28;01mfor\u001b[39;00m batch \u001b[38;5;129;01min\u001b[39;00m loader:\n\u001b[1;32m----> 4\u001b[0m         out \u001b[38;5;241m=\u001b[39m model(batch\u001b[38;5;241m.\u001b[39mx, batch\u001b[38;5;241m.\u001b[39medge_index)\n\u001b[0;32m      5\u001b[0m         out \u001b[38;5;241m=\u001b[39m F\u001b[38;5;241m.\u001b[39msigmoid(out)\n\u001b[0;32m      6\u001b[0m         loss \u001b[38;5;241m=\u001b[39m criterion(out, batch\u001b[38;5;241m.\u001b[39my\u001b[38;5;241m.\u001b[39mview(\u001b[38;5;241m-\u001b[39m\u001b[38;5;241m1\u001b[39m, \u001b[38;5;241m1\u001b[39m))\n",
      "File \u001b[1;32m~\\anaconda3\\Lib\\site-packages\\torch\\nn\\modules\\module.py:1501\u001b[0m, in \u001b[0;36mModule._call_impl\u001b[1;34m(self, *args, **kwargs)\u001b[0m\n\u001b[0;32m   1496\u001b[0m \u001b[38;5;66;03m# If we don't have any hooks, we want to skip the rest of the logic in\u001b[39;00m\n\u001b[0;32m   1497\u001b[0m \u001b[38;5;66;03m# this function, and just call forward.\u001b[39;00m\n\u001b[0;32m   1498\u001b[0m \u001b[38;5;28;01mif\u001b[39;00m \u001b[38;5;129;01mnot\u001b[39;00m (\u001b[38;5;28mself\u001b[39m\u001b[38;5;241m.\u001b[39m_backward_hooks \u001b[38;5;129;01mor\u001b[39;00m \u001b[38;5;28mself\u001b[39m\u001b[38;5;241m.\u001b[39m_backward_pre_hooks \u001b[38;5;129;01mor\u001b[39;00m \u001b[38;5;28mself\u001b[39m\u001b[38;5;241m.\u001b[39m_forward_hooks \u001b[38;5;129;01mor\u001b[39;00m \u001b[38;5;28mself\u001b[39m\u001b[38;5;241m.\u001b[39m_forward_pre_hooks\n\u001b[0;32m   1499\u001b[0m         \u001b[38;5;129;01mor\u001b[39;00m _global_backward_pre_hooks \u001b[38;5;129;01mor\u001b[39;00m _global_backward_hooks\n\u001b[0;32m   1500\u001b[0m         \u001b[38;5;129;01mor\u001b[39;00m _global_forward_hooks \u001b[38;5;129;01mor\u001b[39;00m _global_forward_pre_hooks):\n\u001b[1;32m-> 1501\u001b[0m     \u001b[38;5;28;01mreturn\u001b[39;00m forward_call(\u001b[38;5;241m*\u001b[39margs, \u001b[38;5;241m*\u001b[39m\u001b[38;5;241m*\u001b[39mkwargs)\n\u001b[0;32m   1502\u001b[0m \u001b[38;5;66;03m# Do not call functions when jit is used\u001b[39;00m\n\u001b[0;32m   1503\u001b[0m full_backward_hooks, non_full_backward_hooks \u001b[38;5;241m=\u001b[39m [], []\n",
      "File \u001b[1;32m~\\anaconda3\\Lib\\site-packages\\torch_geometric\\nn\\models\\basic_gnn.py:281\u001b[0m, in \u001b[0;36mBasicGNN.forward\u001b[1;34m(self, x, edge_index, edge_weight, edge_attr, batch, batch_size, num_sampled_nodes_per_hop, num_sampled_edges_per_hop)\u001b[0m\n\u001b[0;32m    279\u001b[0m     x \u001b[38;5;241m=\u001b[39m conv(x, edge_index, edge_weight\u001b[38;5;241m=\u001b[39medge_weight)\n\u001b[0;32m    280\u001b[0m \u001b[38;5;28;01melif\u001b[39;00m \u001b[38;5;28mself\u001b[39m\u001b[38;5;241m.\u001b[39msupports_edge_attr:\n\u001b[1;32m--> 281\u001b[0m     x \u001b[38;5;241m=\u001b[39m conv(x, edge_index, edge_attr\u001b[38;5;241m=\u001b[39medge_attr)\n\u001b[0;32m    282\u001b[0m \u001b[38;5;28;01melse\u001b[39;00m:\n\u001b[0;32m    283\u001b[0m     x \u001b[38;5;241m=\u001b[39m conv(x, edge_index)\n",
      "File \u001b[1;32m~\\anaconda3\\Lib\\site-packages\\torch\\nn\\modules\\module.py:1501\u001b[0m, in \u001b[0;36mModule._call_impl\u001b[1;34m(self, *args, **kwargs)\u001b[0m\n\u001b[0;32m   1496\u001b[0m \u001b[38;5;66;03m# If we don't have any hooks, we want to skip the rest of the logic in\u001b[39;00m\n\u001b[0;32m   1497\u001b[0m \u001b[38;5;66;03m# this function, and just call forward.\u001b[39;00m\n\u001b[0;32m   1498\u001b[0m \u001b[38;5;28;01mif\u001b[39;00m \u001b[38;5;129;01mnot\u001b[39;00m (\u001b[38;5;28mself\u001b[39m\u001b[38;5;241m.\u001b[39m_backward_hooks \u001b[38;5;129;01mor\u001b[39;00m \u001b[38;5;28mself\u001b[39m\u001b[38;5;241m.\u001b[39m_backward_pre_hooks \u001b[38;5;129;01mor\u001b[39;00m \u001b[38;5;28mself\u001b[39m\u001b[38;5;241m.\u001b[39m_forward_hooks \u001b[38;5;129;01mor\u001b[39;00m \u001b[38;5;28mself\u001b[39m\u001b[38;5;241m.\u001b[39m_forward_pre_hooks\n\u001b[0;32m   1499\u001b[0m         \u001b[38;5;129;01mor\u001b[39;00m _global_backward_pre_hooks \u001b[38;5;129;01mor\u001b[39;00m _global_backward_hooks\n\u001b[0;32m   1500\u001b[0m         \u001b[38;5;129;01mor\u001b[39;00m _global_forward_hooks \u001b[38;5;129;01mor\u001b[39;00m _global_forward_pre_hooks):\n\u001b[1;32m-> 1501\u001b[0m     \u001b[38;5;28;01mreturn\u001b[39;00m forward_call(\u001b[38;5;241m*\u001b[39margs, \u001b[38;5;241m*\u001b[39m\u001b[38;5;241m*\u001b[39mkwargs)\n\u001b[0;32m   1502\u001b[0m \u001b[38;5;66;03m# Do not call functions when jit is used\u001b[39;00m\n\u001b[0;32m   1503\u001b[0m full_backward_hooks, non_full_backward_hooks \u001b[38;5;241m=\u001b[39m [], []\n",
      "File \u001b[1;32m~\\anaconda3\\Lib\\site-packages\\torch_geometric\\nn\\conv\\gat_conv.py:255\u001b[0m, in \u001b[0;36mGATConv.forward\u001b[1;34m(self, x, edge_index, edge_attr, size, return_attention_weights)\u001b[0m\n\u001b[0;32m    252\u001b[0m alpha \u001b[38;5;241m=\u001b[39m \u001b[38;5;28mself\u001b[39m\u001b[38;5;241m.\u001b[39medge_updater(edge_index, alpha\u001b[38;5;241m=\u001b[39malpha, edge_attr\u001b[38;5;241m=\u001b[39medge_attr)\n\u001b[0;32m    254\u001b[0m \u001b[38;5;66;03m# propagate_type: (x: OptPairTensor, alpha: Tensor)\u001b[39;00m\n\u001b[1;32m--> 255\u001b[0m out \u001b[38;5;241m=\u001b[39m \u001b[38;5;28mself\u001b[39m\u001b[38;5;241m.\u001b[39mpropagate(edge_index, x\u001b[38;5;241m=\u001b[39mx, alpha\u001b[38;5;241m=\u001b[39malpha, size\u001b[38;5;241m=\u001b[39msize)\n\u001b[0;32m    257\u001b[0m \u001b[38;5;28;01mif\u001b[39;00m \u001b[38;5;28mself\u001b[39m\u001b[38;5;241m.\u001b[39mconcat:\n\u001b[0;32m    258\u001b[0m     out \u001b[38;5;241m=\u001b[39m out\u001b[38;5;241m.\u001b[39mview(\u001b[38;5;241m-\u001b[39m\u001b[38;5;241m1\u001b[39m, \u001b[38;5;28mself\u001b[39m\u001b[38;5;241m.\u001b[39mheads \u001b[38;5;241m*\u001b[39m \u001b[38;5;28mself\u001b[39m\u001b[38;5;241m.\u001b[39mout_channels)\n",
      "File \u001b[1;32m~\\anaconda3\\Lib\\site-packages\\torch_geometric\\nn\\conv\\message_passing.py:463\u001b[0m, in \u001b[0;36mMessagePassing.propagate\u001b[1;34m(self, edge_index, size, **kwargs)\u001b[0m\n\u001b[0;32m    461\u001b[0m     \u001b[38;5;28;01mif\u001b[39;00m res \u001b[38;5;129;01mis\u001b[39;00m \u001b[38;5;129;01mnot\u001b[39;00m \u001b[38;5;28;01mNone\u001b[39;00m:\n\u001b[0;32m    462\u001b[0m         msg_kwargs \u001b[38;5;241m=\u001b[39m res[\u001b[38;5;241m0\u001b[39m] \u001b[38;5;28;01mif\u001b[39;00m \u001b[38;5;28misinstance\u001b[39m(res, \u001b[38;5;28mtuple\u001b[39m) \u001b[38;5;28;01melse\u001b[39;00m res\n\u001b[1;32m--> 463\u001b[0m out \u001b[38;5;241m=\u001b[39m \u001b[38;5;28mself\u001b[39m\u001b[38;5;241m.\u001b[39mmessage(\u001b[38;5;241m*\u001b[39m\u001b[38;5;241m*\u001b[39mmsg_kwargs)\n\u001b[0;32m    464\u001b[0m \u001b[38;5;28;01mfor\u001b[39;00m hook \u001b[38;5;129;01min\u001b[39;00m \u001b[38;5;28mself\u001b[39m\u001b[38;5;241m.\u001b[39m_message_forward_hooks\u001b[38;5;241m.\u001b[39mvalues():\n\u001b[0;32m    465\u001b[0m     res \u001b[38;5;241m=\u001b[39m hook(\u001b[38;5;28mself\u001b[39m, (msg_kwargs, ), out)\n",
      "File \u001b[1;32m~\\anaconda3\\Lib\\site-packages\\torch_geometric\\nn\\conv\\gat_conv.py:300\u001b[0m, in \u001b[0;36mGATConv.message\u001b[1;34m(self, x_j, alpha)\u001b[0m\n\u001b[0;32m    299\u001b[0m \u001b[38;5;28;01mdef\u001b[39;00m \u001b[38;5;21mmessage\u001b[39m(\u001b[38;5;28mself\u001b[39m, x_j: Tensor, alpha: Tensor) \u001b[38;5;241m-\u001b[39m\u001b[38;5;241m>\u001b[39m Tensor:\n\u001b[1;32m--> 300\u001b[0m     \u001b[38;5;28;01mreturn\u001b[39;00m alpha\u001b[38;5;241m.\u001b[39munsqueeze(\u001b[38;5;241m-\u001b[39m\u001b[38;5;241m1\u001b[39m) \u001b[38;5;241m*\u001b[39m x_j\n",
      "\u001b[1;31mKeyboardInterrupt\u001b[0m: "
     ]
    }
   ],
   "source": [
    "model.train()\n",
    "for epoch in range(1000):\n",
    "    for batch in loader:\n",
    "        out = model(batch.x, batch.edge_index)\n",
    "        out = F.sigmoid(out)\n",
    "        loss = criterion(out, batch.y.view(-1, 1))\n",
    "        \n",
    "        loss.backward()\n",
    "        optimizer.step()\n",
    "        optimizer.zero_grad()\n",
    "    if epoch % 10 == 0 and epoch != 0:\n",
    "        print(loss.item())"
   ]
  },
  {
   "cell_type": "code",
   "execution_count": 11,
   "id": "13467e33-9c70-4409-b1fb-b7863addb5ad",
   "metadata": {},
   "outputs": [
    {
     "data": {
      "text/plain": [
       "array([0.8016743 , 0.7280059 , 0.834715  , 0.82985306, 0.7701392 ,\n",
       "       0.80561376, 0.8282531 , 0.75745785, 0.5418888 , 0.58603686,\n",
       "       0.8087782 , 0.6818333 ], dtype=float32)"
      ]
     },
     "execution_count": 11,
     "metadata": {},
     "output_type": "execute_result"
    }
   ],
   "source": [
    "F.sigmoid(model(test_dataset[1].x, test_dataset[0].edge_index)).detach().numpy().squeeze()"
   ]
  },
  {
   "cell_type": "code",
   "execution_count": 12,
   "id": "2a8417da-32fc-4a8f-9bf4-bf0f3de22d3d",
   "metadata": {},
   "outputs": [
    {
     "data": {
      "text/plain": [
       "array([1., 0., 1., 1., 0., 1., 1., 1., 0., 1., 1., 1.], dtype=float32)"
      ]
     },
     "execution_count": 12,
     "metadata": {},
     "output_type": "execute_result"
    }
   ],
   "source": [
    "test_dataset[1].y.numpy()"
   ]
  },
  {
   "cell_type": "code",
   "execution_count": 13,
   "id": "acef69dd-78c7-416d-b84d-572bb861fad3",
   "metadata": {},
   "outputs": [],
   "source": [
    "y_real = test_dataset[0].y.numpy()\n",
    "y_pred = F.sigmoid(model(test_dataset[0].x, test_dataset[0].edge_index)).detach().numpy().squeeze()"
   ]
  },
  {
   "cell_type": "code",
   "execution_count": null,
   "id": "6e6454d1-6e1c-48b1-9e52-e11c8b81851f",
   "metadata": {},
   "outputs": [],
   "source": []
  },
  {
   "cell_type": "code",
   "execution_count": 14,
   "id": "3b23fc28-d513-4ce5-98e7-9c2069ec2cd8",
   "metadata": {},
   "outputs": [
    {
     "data": {
      "text/plain": [
       "0.16666666666666666"
      ]
     },
     "execution_count": 14,
     "metadata": {},
     "output_type": "execute_result"
    }
   ],
   "source": [
    "apk(list(y_real), list(np.round(y_pred)))"
   ]
  },
  {
   "cell_type": "code",
   "execution_count": 15,
   "id": "c43f6826-24ed-482f-8b9a-57ac6277eb45",
   "metadata": {},
   "outputs": [],
   "source": [
    "def eval(model, dataset, metric_func=mapk):\n",
    "    model.eval()\n",
    "    return np.mean([\n",
    "        metric_func(data.y.numpy(), model(data.x, data.edge_index).detach().numpy().reshape(-1))\n",
    "        for data in dataset\n",
    "    ])"
   ]
  },
  {
   "cell_type": "code",
   "execution_count": 16,
   "id": "97268081-35d1-478e-886a-78191f21fef4",
   "metadata": {},
   "outputs": [],
   "source": [
    "# sas = lambda y_real, y_pred: apk(list(y_real), list(np.round(y_pred)))\n",
    "sas = lambda y_real, y_pred: (1. if len(np.unique(y_real)) <= 1 else roc_auc_score(y_real, y_pred))"
   ]
  },
  {
   "cell_type": "code",
   "execution_count": 17,
   "id": "f04d8938-ea2b-4d02-bc38-d069f1e970ac",
   "metadata": {},
   "outputs": [
    {
     "data": {
      "text/plain": [
       "0.658758639283379"
      ]
     },
     "execution_count": 17,
     "metadata": {},
     "output_type": "execute_result"
    }
   ],
   "source": [
    "eval(model, train_dataset, sas)"
   ]
  },
  {
   "cell_type": "code",
   "execution_count": 18,
   "id": "142ac817-5c0f-4c35-bd9b-66aed637e325",
   "metadata": {},
   "outputs": [
    {
     "data": {
      "text/plain": [
       "0.5827347138933746"
      ]
     },
     "execution_count": 18,
     "metadata": {},
     "output_type": "execute_result"
    }
   ],
   "source": [
    "eval(model, test_dataset, sas)"
   ]
  },
  {
   "cell_type": "code",
   "execution_count": null,
   "id": "789fccd0-fa8d-47ac-ba2e-29ec5bbbc179",
   "metadata": {},
   "outputs": [],
   "source": []
  },
  {
   "cell_type": "code",
   "execution_count": null,
   "id": "9f36731a-2740-4b9f-abc4-ecddd78b7fcb",
   "metadata": {},
   "outputs": [],
   "source": []
  },
  {
   "cell_type": "code",
   "execution_count": null,
   "id": "5987bc83-522f-4278-9e9d-a8d976fe6ef2",
   "metadata": {},
   "outputs": [],
   "source": []
  },
  {
   "cell_type": "code",
   "execution_count": 37,
   "id": "bb19defd-3c73-4a27-bf1c-756a660e215e",
   "metadata": {},
   "outputs": [],
   "source": [
    "input_features = 3\n",
    "output_features = 2\n",
    "\n",
    "x = torch.tensor([[1, 2, 3], [4, 5, 6], [7, 8, 9], [10, 11, 12]], dtype=torch.float)\n",
    "edge_index = torch.tensor([[0, 1, 2, 0, 3], [1, 2, 0, 3, 1]], dtype=torch.long)\n",
    "\n",
    "data = Data(x=x, edge_index=edge_index)\n",
    "\n",
    "model = GCN(input_features=input_features, output_features=output_features)"
   ]
  },
  {
   "cell_type": "code",
   "execution_count": 10,
   "id": "5270de72-2d96-483f-b4ba-5c247aca5569",
   "metadata": {},
   "outputs": [
    {
     "data": {
      "text/plain": [
       "tensor([[-1.2854, -0.3237],\n",
       "        [-1.4819, -0.2577],\n",
       "        [-1.3450, -0.3018],\n",
       "        [-1.3129, -0.3134]], grad_fn=<LogSoftmaxBackward0>)"
      ]
     },
     "execution_count": 10,
     "metadata": {},
     "output_type": "execute_result"
    }
   ],
   "source": [
    "model(data)"
   ]
  },
  {
   "cell_type": "code",
   "execution_count": 60,
   "id": "7080400c-7549-4997-b2aa-d91d0d39c655",
   "metadata": {},
   "outputs": [],
   "source": [
    "data1 = Data(x=torch.tensor([[1, 2, 3], [4, 5, 6]], dtype=torch.float), edge_index=torch.tensor([[0], [1]], dtype=torch.long))\n",
    "dataset = [data1, data, data1]\n",
    "loader = DataLoader(dataset, batch_size=2, shuffle=True)"
   ]
  },
  {
   "cell_type": "code",
   "execution_count": null,
   "id": "2d9fed1e-4648-4e4d-924e-2ea10b944581",
   "metadata": {},
   "outputs": [],
   "source": []
  },
  {
   "cell_type": "code",
   "execution_count": null,
   "id": "d29aa56d-7b48-4509-a90e-6c2d78f5f7fe",
   "metadata": {},
   "outputs": [],
   "source": []
  },
  {
   "cell_type": "code",
   "execution_count": null,
   "id": "b0679d67-a2a8-4d89-a856-4ff125cbbd78",
   "metadata": {},
   "outputs": [],
   "source": []
  },
  {
   "cell_type": "code",
   "execution_count": null,
   "id": "fbc98c01-324d-4705-ab4b-66d3b82818e3",
   "metadata": {},
   "outputs": [],
   "source": []
  },
  {
   "cell_type": "code",
   "execution_count": null,
   "id": "ac2bd917-64f1-4f89-a226-83702ec52dbf",
   "metadata": {},
   "outputs": [],
   "source": []
  },
  {
   "cell_type": "code",
   "execution_count": null,
   "id": "b1f1ef1c-025a-43f8-8882-acd1cfab1d72",
   "metadata": {},
   "outputs": [],
   "source": []
  },
  {
   "cell_type": "code",
   "execution_count": null,
   "id": "28b65f56-95b1-474e-90bb-1edb5d392fd8",
   "metadata": {},
   "outputs": [],
   "source": []
  },
  {
   "cell_type": "code",
   "execution_count": null,
   "id": "e31acc0d-c557-40f8-9491-fd53379e874d",
   "metadata": {},
   "outputs": [],
   "source": []
  },
  {
   "cell_type": "code",
   "execution_count": null,
   "id": "802fde25-9346-4f55-9c99-b7f77bfe3825",
   "metadata": {},
   "outputs": [],
   "source": []
  },
  {
   "cell_type": "code",
   "execution_count": null,
   "id": "a808eac5-25f9-4182-a265-8afc9eb0eaee",
   "metadata": {},
   "outputs": [],
   "source": []
  },
  {
   "cell_type": "code",
   "execution_count": null,
   "id": "2b35b62b-2a43-4350-b4c4-079a48c0a10a",
   "metadata": {},
   "outputs": [],
   "source": []
  },
  {
   "cell_type": "code",
   "execution_count": null,
   "id": "da37201c-e827-4e80-b6bb-b08670b462c8",
   "metadata": {},
   "outputs": [],
   "source": []
  },
  {
   "cell_type": "code",
   "execution_count": null,
   "id": "c1cd0f27-0f28-46b5-9caf-ff2e1efe1327",
   "metadata": {},
   "outputs": [],
   "source": []
  },
  {
   "cell_type": "code",
   "execution_count": null,
   "id": "2fc853ba-fa8f-4963-b720-27ceff9c6724",
   "metadata": {},
   "outputs": [],
   "source": []
  },
  {
   "cell_type": "code",
   "execution_count": null,
   "id": "41e4b619-a859-4d0b-a59d-d1fb47fe348a",
   "metadata": {},
   "outputs": [],
   "source": []
  },
  {
   "cell_type": "code",
   "execution_count": null,
   "id": "b6d10a41-d8c7-4a59-9c75-d41fd6399be9",
   "metadata": {},
   "outputs": [],
   "source": []
  },
  {
   "cell_type": "code",
   "execution_count": null,
   "id": "c2972cac-b2f8-47cf-9df9-c02f3799a7ab",
   "metadata": {},
   "outputs": [],
   "source": []
  },
  {
   "cell_type": "code",
   "execution_count": null,
   "id": "6346c42d-a747-4037-97db-f0cad39eee50",
   "metadata": {},
   "outputs": [],
   "source": []
  },
  {
   "cell_type": "code",
   "execution_count": null,
   "id": "b12bdbfc-f83c-4074-b096-51f66261433e",
   "metadata": {},
   "outputs": [],
   "source": []
  },
  {
   "cell_type": "code",
   "execution_count": null,
   "id": "d6281097-4bb8-4069-9053-5dd5cca1a50e",
   "metadata": {},
   "outputs": [],
   "source": []
  },
  {
   "cell_type": "code",
   "execution_count": null,
   "id": "43fed867-02ac-474f-9b29-4b22e4fc8e02",
   "metadata": {},
   "outputs": [],
   "source": []
  },
  {
   "cell_type": "code",
   "execution_count": null,
   "id": "9567bfa6-b3b1-4c88-bab1-d62b8e3ced3f",
   "metadata": {},
   "outputs": [],
   "source": []
  }
 ],
 "metadata": {
  "kernelspec": {
   "display_name": "Python 3 (ipykernel)",
   "language": "python",
   "name": "python3"
  },
  "language_info": {
   "codemirror_mode": {
    "name": "ipython",
    "version": 3
   },
   "file_extension": ".py",
   "mimetype": "text/x-python",
   "name": "python",
   "nbconvert_exporter": "python",
   "pygments_lexer": "ipython3",
   "version": "3.11.5"
  }
 },
 "nbformat": 4,
 "nbformat_minor": 5
}
