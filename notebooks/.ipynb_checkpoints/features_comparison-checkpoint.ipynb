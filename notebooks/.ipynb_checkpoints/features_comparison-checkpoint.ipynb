{
 "cells": [
  {
   "cell_type": "markdown",
   "id": "5c3bbd5c-d071-4532-8558-e8d5b30d22bd",
   "metadata": {},
   "source": [
    "## Предсказание законтрактованности путём агрегации данных о предыдущих поставках\n",
    "\n",
    "Мы проведём сравнение двух методов:\n",
    "1) Усреднение параметров поставок (таких как процент опоздания по поставкам и изменение качества)\n",
    "2) Усреднение эмбеддингов предыдущих поставок, полученных через LSTM автоэнкодер"
   ]
  },
  {
   "cell_type": "code",
   "execution_count": 2,
   "id": "535acbfa-b5b4-4db1-ba24-ba530fb7d17c",
   "metadata": {},
   "outputs": [],
   "source": [
    "import numpy as np\n",
    "import pandas as pd\n",
    "\n",
    "from catboost import CatBoostClassifier\n",
    "from sklearn.linear_model import LogisticRegression\n",
    "from sklearn.model_selection import train_test_split\n",
    "from sklearn.metrics import accuracy_score, roc_auc_score\n",
    "\n",
    "import seaborn as sns\n",
    "import matplotlib.pyplot as plt\n",
    "from tqdm import tqdm\n",
    "\n",
    "import sys\n",
    "import os\n",
    "sys.path.append(os.path.abspath('..'))\n",
    "from data.preprocessing import Preprocessor\n",
    "from data.feature_generation import zpp4_agg_features, zpp4_embed_agg, spec_agg_features\n",
    "from figures.plots import show_embeddings\n",
    "from src.metrics import mapk\n",
    "\n",
    "import warnings\n",
    "warnings.filterwarnings('ignore')"
   ]
  },
  {
   "cell_type": "code",
   "execution_count": 3,
   "id": "583c90ef-60b5-4c67-9c8a-33c23b5e505f",
   "metadata": {},
   "outputs": [],
   "source": [
    "\"\"\"\n",
    "Загрузка данных\n",
    "\"\"\"\n",
    "\n",
    "# таблица со спецификациями\n",
    "spec = pd.read_csv('../data/processed_data/specs.csv')\n",
    "spec['spec_date'] = pd.to_datetime(spec['spec_date'], format='%Y-%m-%d')\n",
    "spec['delivery_period_end'] = pd.to_datetime(spec['delivery_period_end'], format='%Y-%m-%d')\n",
    "\n",
    "# таблица с доставками\n",
    "zpp4 = pd.read_csv('../data/processed_data/zpp4.csv')\n",
    "zpp4['date'] = pd.to_datetime(zpp4['date'], format='%Y-%m-%d')\n",
    "zpp4['spec_date'] = pd.to_datetime(zpp4['spec_date'], format='%Y-%m-%d')"
   ]
  },
  {
   "cell_type": "code",
   "execution_count": 4,
   "id": "a24fbb02-7d92-4cf3-9a33-a9b7bd2084ff",
   "metadata": {},
   "outputs": [],
   "source": [
    "\"\"\"\n",
    "Генерация фичей\n",
    "\"\"\"\n",
    "\n",
    "# фичи аггрегации\n",
    "spec = zpp4_agg_features(spec, zpp4)\n",
    "\n",
    "# фичи эмбеддинги\n",
    "spec = zpp4_embed_agg(spec)\n",
    "\n",
    "# агрегация из прошлых спецификаций\n",
    "spec = spec_agg_features(spec)\n",
    "\n",
    "features = [['lateness', 'underweight', 'price_change'],\n",
    "            [str(i) for i in range(16)],\n",
    "            ['delivery_length', 'mean_delivery_length', 'delivery_length_diff', 'mean_volume', 'volume_diff', 'conversion']]\n",
    "\n",
    "spec = spec.dropna()\n",
    "\n",
    "# разделение на трейн и тест\n",
    "X_train, X_test, y_train, y_test = train_test_split(\n",
    "        spec.drop('bids_contracted', axis=1),\n",
    "        spec['bids_contracted'],\n",
    "        test_size=0.2, random_state=42\n",
    ")"
   ]
  },
  {
   "cell_type": "code",
   "execution_count": 4,
   "id": "25017402-3f78-4d65-a137-4b33b780d356",
   "metadata": {},
   "outputs": [
    {
     "name": "stdout",
     "output_type": "stream",
     "text": [
      "Бустинг (Простые агрегации):\n",
      "Accuracy: 0.7167785234899329\n",
      "ROC AUC: 0.6969916077947941\n"
     ]
    }
   ],
   "source": [
    "\"\"\"\n",
    "Предсказание законтрактованности (Простые агрегации)\n",
    "\"\"\"\n",
    "\n",
    "def estimate(model, X_test, y_test):\n",
    "    accuracy = accuracy_score(y_test, model.predict(X_test))\n",
    "    roc_auc = roc_auc_score(y_test, model.predict_proba(X_test)[:, 1])\n",
    "    print(f'Accuracy: {accuracy}\\nROC AUC: {roc_auc}')\n",
    "\n",
    "print('Бустинг (Простые агрегации):')\n",
    "model = CatBoostClassifier(verbose = 0, random_state=42).fit(X_train[features[0]], y_train)\n",
    "estimate(model, X_test[features[0]], y_test)"
   ]
  },
  {
   "cell_type": "code",
   "execution_count": 5,
   "id": "31fa95eb-3743-41ae-97d2-76ed50d0ec02",
   "metadata": {},
   "outputs": [
    {
     "name": "stdout",
     "output_type": "stream",
     "text": [
      "Бустинг (агрегация эмбеддингов):\n",
      "Accuracy: 0.7449664429530202\n",
      "ROC AUC: 0.763362729758349\n"
     ]
    }
   ],
   "source": [
    "\"\"\"\n",
    "Предсказание законтрактованности (агрегация эмбеддингов)\n",
    "\"\"\"\n",
    "\n",
    "print('Бустинг (агрегация эмбеддингов):')\n",
    "model = CatBoostClassifier(verbose = 0, random_state=42).fit(X_train[features[1]], y_train)\n",
    "estimate(model, X_test[features[1]], y_test)"
   ]
  },
  {
   "cell_type": "code",
   "execution_count": 14,
   "id": "c7427d7b-ee5a-46a0-a5a1-23faaee88498",
   "metadata": {},
   "outputs": [],
   "source": [
    "def split_by_day(X, y, features, model):\n",
    "    actual = []\n",
    "    predicted = []\n",
    "    \n",
    "    days_indexes = X.groupby('spec_date').apply(lambda x: x.index)\n",
    "    for day in days_indexes:\n",
    "        actual.append(list(y.loc[day].values))\n",
    "        predicted.append(list(model.predict(X[features].loc[day])))\n",
    "    \n",
    "    return actual, predicted"
   ]
  },
  {
   "cell_type": "code",
   "execution_count": 7,
   "id": "42fe1e16-df8a-46dc-98a1-9bd89f50816e",
   "metadata": {},
   "outputs": [],
   "source": [
    "split_point = np.quantile(spec['spec_date'], 0.8)\n",
    "train_spec = spec.loc[spec['spec_date'] < split_point]\n",
    "test_spec = spec.loc[spec['spec_date'] >= split_point]\n",
    "\n",
    "X_train = train_spec.drop('bids_contracted', axis=1)\n",
    "y_train = train_spec['bids_contracted']\n",
    "\n",
    "X_test = test_spec.drop('bids_contracted', axis=1)\n",
    "y_test = test_spec['bids_contracted']"
   ]
  },
  {
   "cell_type": "code",
   "execution_count": 8,
   "id": "2db80947-a476-453c-aaf4-cf59e9821a3b",
   "metadata": {},
   "outputs": [
    {
     "name": "stdout",
     "output_type": "stream",
     "text": [
      "Бустинг (Простые агрегации):\n"
     ]
    },
    {
     "data": {
      "text/plain": [
       "0.2955131090578852"
      ]
     },
     "execution_count": 8,
     "metadata": {},
     "output_type": "execute_result"
    }
   ],
   "source": [
    "print('Бустинг (Простые агрегации):')\n",
    "model = CatBoostClassifier(verbose = 0, random_state=42).fit(X_train[features[0]], y_train)\n",
    "actual, predicted = split_by_day(X_test, y_test, features[0], model)\n",
    "print(f'{mapk(actual, predicted)}')"
   ]
  },
  {
   "cell_type": "code",
   "execution_count": 9,
   "id": "6cf06c81-b72e-4b07-8c76-a69dc24f1263",
   "metadata": {},
   "outputs": [
    {
     "name": "stdout",
     "output_type": "stream",
     "text": [
      "Бустинг (агрегация эмбеддингов):\n"
     ]
    },
    {
     "data": {
      "text/plain": [
       "0.29464621337755664"
      ]
     },
     "execution_count": 9,
     "metadata": {},
     "output_type": "execute_result"
    }
   ],
   "source": [
    "print('Бустинг (агрегация эмбеддингов):')\n",
    "model = CatBoostClassifier(verbose = 0, random_state=42).fit(X_train[features[1]], y_train)\n",
    "actual, predicted = split_by_day(X_test, y_test, features[1], model)\n",
    "print(f'{mapk(actual, predicted)}')"
   ]
  },
  {
   "cell_type": "markdown",
   "id": "cc3f4580-483b-48da-bee8-9e90e35f8467",
   "metadata": {},
   "source": [
    "## Комбинирование переменных"
   ]
  },
  {
   "cell_type": "code",
   "execution_count": 10,
   "id": "87600f05-9a3b-4cd6-b063-c734fd319c72",
   "metadata": {},
   "outputs": [
    {
     "name": "stdout",
     "output_type": "stream",
     "text": [
      "Бустинг (Простые агрегации):\n",
      "Accuracy: 0.7476510067114094\n",
      "ROC AUC: 0.7976704123401768\n"
     ]
    }
   ],
   "source": [
    "\"\"\"\n",
    "Предсказание законтрактованности (Простые агрегации + агрегации спецификаций)\n",
    "\"\"\"\n",
    "\n",
    "def estimate(model, X_test, y_test):\n",
    "    accuracy = accuracy_score(y_test, model.predict(X_test))\n",
    "    roc_auc = roc_auc_score(y_test, model.predict_proba(X_test)[:, 1])\n",
    "    print(f'Accuracy: {accuracy}\\nROC AUC: {roc_auc}')\n",
    "\n",
    "print('Бустинг (Простые агрегации):')\n",
    "model = CatBoostClassifier(verbose = 0, random_state=42).fit(X_train[features[0] + features[2]], y_train)\n",
    "estimate(model, X_test[features[0] + features[2]], y_test)"
   ]
  },
  {
   "cell_type": "code",
   "execution_count": null,
   "id": "c0c8959e-92bb-4edb-92d4-8f34fab98427",
   "metadata": {},
   "outputs": [],
   "source": []
  },
  {
   "cell_type": "code",
   "execution_count": 11,
   "id": "5bf68ef9-4302-46b2-8092-fa442113cc47",
   "metadata": {},
   "outputs": [
    {
     "name": "stdout",
     "output_type": "stream",
     "text": [
      "Бустинг (Простые агрегации):\n",
      "Accuracy: 0.7570469798657719\n",
      "ROC AUC: 0.7956079212302246\n"
     ]
    }
   ],
   "source": [
    "\"\"\"\n",
    "Предсказание законтрактованности (Простые агрегации + агрегации спецификаций)\n",
    "\"\"\"\n",
    "\n",
    "def estimate(model, X_test, y_test):\n",
    "    accuracy = accuracy_score(y_test, model.predict(X_test))\n",
    "    roc_auc = roc_auc_score(y_test, model.predict_proba(X_test)[:, 1])\n",
    "    print(f'Accuracy: {accuracy}\\nROC AUC: {roc_auc}')\n",
    "\n",
    "print('Бустинг (агрегация эмбеддингов):')\n",
    "model = CatBoostClassifier(verbose = 0, random_state=42).fit(X_train[features[1] + features[2]], y_train)\n",
    "estimate(model, X_test[features[1] + features[2]], y_test)"
   ]
  },
  {
   "cell_type": "code",
   "execution_count": null,
   "id": "c5853f4f-26b2-446e-af0a-6fd9080b2481",
   "metadata": {},
   "outputs": [],
   "source": []
  },
  {
   "cell_type": "code",
   "execution_count": 15,
   "id": "093f4ab4-4b90-4205-91bc-8bcf9980fb7b",
   "metadata": {},
   "outputs": [
    {
     "name": "stdout",
     "output_type": "stream",
     "text": [
      "Бустинг (Простые агрегации):\n"
     ]
    },
    {
     "data": {
      "text/plain": [
       "0.48791371409674983"
      ]
     },
     "execution_count": 15,
     "metadata": {},
     "output_type": "execute_result"
    }
   ],
   "source": [
    "print('Бустинг (Простые агрегации):')\n",
    "model = CatBoostClassifier(verbose = 0, random_state=42).fit(X_train[features[0]], y_train)\n",
    "actual, predicted = split_by_day(X_test, y_test, features[0] + features[2], model)\n",
    "mapk(actual, predicted)"
   ]
  },
  {
   "cell_type": "code",
   "execution_count": null,
   "id": "1497b174-a043-4f64-bb6e-072bc6099db1",
   "metadata": {},
   "outputs": [],
   "source": []
  },
  {
   "cell_type": "code",
   "execution_count": 16,
   "id": "fad68712-56a5-4674-981e-f5dace234a89",
   "metadata": {},
   "outputs": [
    {
     "name": "stdout",
     "output_type": "stream",
     "text": [
      "Бустинг (агрегация эмбеддингов):\n"
     ]
    },
    {
     "data": {
      "text/plain": [
       "0.5187334065570672"
      ]
     },
     "execution_count": 16,
     "metadata": {},
     "output_type": "execute_result"
    }
   ],
   "source": [
    "print('Бустинг (агрегация эмбеддингов):')\n",
    "model = CatBoostClassifier(verbose = 0, random_state=42).fit(X_train[features[1]], y_train)\n",
    "actual, predicted = split_by_day(X_test, y_test, features[1] + features[2], model)\n",
    "mapk(actual, predicted)"
   ]
  },
  {
   "cell_type": "code",
   "execution_count": null,
   "id": "5a21d930-7656-4cd3-86bb-3227100d7797",
   "metadata": {},
   "outputs": [],
   "source": []
  },
  {
   "cell_type": "code",
   "execution_count": null,
   "id": "4341952a-4d1c-431c-9f13-ad7feceb2041",
   "metadata": {},
   "outputs": [],
   "source": []
  },
  {
   "cell_type": "code",
   "execution_count": null,
   "id": "8c5a107d-8053-4cec-b5ae-d0b3230f4b8c",
   "metadata": {},
   "outputs": [],
   "source": []
  },
  {
   "cell_type": "code",
   "execution_count": 16,
   "id": "10de84bf-e76a-4b39-b5ff-029a16b11020",
   "metadata": {},
   "outputs": [],
   "source": [
    "from sklearn.manifold import TSNE\n",
    "import matplotlib.patches as mpatches\n",
    "def sas_embeddings(vectors, labels=None):\n",
    "    # reduce dimensions with TSNE\n",
    "    trans_vectors = TSNE(\n",
    "        n_components=2, learning_rate='auto', init='random',\n",
    "        perplexity=40, random_state=22\n",
    "    ).fit_transform(vectors)\n",
    "    \n",
    "    for label in np.unique(labels):\n",
    "        indexes = np.where(labels == label)[0]\n",
    "        plt.scatter(\n",
    "            trans_vectors[indexes, 0],\n",
    "            trans_vectors[indexes, 1],\n",
    "            alpha=0.2, linewidths=0,\n",
    "        )\n",
    "    return"
   ]
  },
  {
   "cell_type": "code",
   "execution_count": null,
   "id": "a8478588-efa7-4d09-9200-9d304804feec",
   "metadata": {},
   "outputs": [],
   "source": []
  },
  {
   "cell_type": "code",
   "execution_count": null,
   "id": "0f28ae5c-e7cc-4c28-b0e7-b01e64139061",
   "metadata": {},
   "outputs": [],
   "source": []
  },
  {
   "cell_type": "code",
   "execution_count": 11,
   "id": "ec201eae-ed38-4c7c-b5b0-9c80913c8bed",
   "metadata": {},
   "outputs": [
    {
     "ename": "TypeError",
     "evalue": "scatter() got multiple values for argument 'alpha'",
     "output_type": "error",
     "traceback": [
      "\u001b[1;31m---------------------------------------------------------------------------\u001b[0m",
      "\u001b[1;31mTypeError\u001b[0m                                 Traceback (most recent call last)",
      "Cell \u001b[1;32mIn[11], line 2\u001b[0m\n\u001b[0;32m      1\u001b[0m plt\u001b[38;5;241m.\u001b[39mtitle(\u001b[38;5;124m'\u001b[39m\u001b[38;5;124mЭмбеддинги поставщиков\u001b[39m\u001b[38;5;124m'\u001b[39m)\n\u001b[1;32m----> 2\u001b[0m sas_embeddings(spec[features[\u001b[38;5;241m1\u001b[39m]], spec[\u001b[38;5;124m'\u001b[39m\u001b[38;5;124mbids_contracted\u001b[39m\u001b[38;5;124m'\u001b[39m])\n\u001b[0;32m      3\u001b[0m plt\u001b[38;5;241m.\u001b[39mlegend()\n",
      "Cell \u001b[1;32mIn[10], line 9\u001b[0m, in \u001b[0;36msas_embeddings\u001b[1;34m(vectors, labels)\u001b[0m\n\u001b[0;32m      2\u001b[0m \u001b[38;5;28;01mdef\u001b[39;00m \u001b[38;5;21msas_embeddings\u001b[39m(vectors, labels\u001b[38;5;241m=\u001b[39m\u001b[38;5;28;01mNone\u001b[39;00m):\n\u001b[0;32m      3\u001b[0m     \u001b[38;5;66;03m# reduce dimensions with TSNE\u001b[39;00m\n\u001b[0;32m      4\u001b[0m     trans_vectors \u001b[38;5;241m=\u001b[39m TSNE(\n\u001b[0;32m      5\u001b[0m         n_components\u001b[38;5;241m=\u001b[39m\u001b[38;5;241m2\u001b[39m, learning_rate\u001b[38;5;241m=\u001b[39m\u001b[38;5;124m'\u001b[39m\u001b[38;5;124mauto\u001b[39m\u001b[38;5;124m'\u001b[39m, init\u001b[38;5;241m=\u001b[39m\u001b[38;5;124m'\u001b[39m\u001b[38;5;124mrandom\u001b[39m\u001b[38;5;124m'\u001b[39m,\n\u001b[0;32m      6\u001b[0m         perplexity\u001b[38;5;241m=\u001b[39m\u001b[38;5;241m40\u001b[39m, random_state\u001b[38;5;241m=\u001b[39m\u001b[38;5;241m22\u001b[39m\n\u001b[0;32m      7\u001b[0m     )\u001b[38;5;241m.\u001b[39mfit_transform(vectors)\n\u001b[1;32m----> 9\u001b[0m     plt\u001b[38;5;241m.\u001b[39mscatter(\u001b[38;5;241m*\u001b[39m[(trans_vectors[np\u001b[38;5;241m.\u001b[39mwhere(labels \u001b[38;5;241m==\u001b[39m label)[\u001b[38;5;241m0\u001b[39m], \u001b[38;5;241m0\u001b[39m], trans_vectors[np\u001b[38;5;241m.\u001b[39mwhere(labels \u001b[38;5;241m==\u001b[39m label)[\u001b[38;5;241m0\u001b[39m], \u001b[38;5;241m1\u001b[39m]) \u001b[38;5;28;01mfor\u001b[39;00m label \u001b[38;5;129;01min\u001b[39;00m labels], alpha\u001b[38;5;241m=\u001b[39m\u001b[38;5;241m0.2\u001b[39m, linewidths\u001b[38;5;241m=\u001b[39m\u001b[38;5;241m0\u001b[39m)\n\u001b[0;32m     11\u001b[0m     \u001b[38;5;66;03m# for label in np.unique(labels):\u001b[39;00m\n\u001b[0;32m     12\u001b[0m     \u001b[38;5;66;03m#     indexes = np.where(labels == label)[0]\u001b[39;00m\n\u001b[0;32m     13\u001b[0m     \u001b[38;5;66;03m#     plt.scatter(\u001b[39;00m\n\u001b[1;32m   (...)\u001b[0m\n\u001b[0;32m     16\u001b[0m     \u001b[38;5;66;03m#         alpha=0.2, linewidths=0,\u001b[39;00m\n\u001b[0;32m     17\u001b[0m     \u001b[38;5;66;03m#     )\u001b[39;00m\n\u001b[0;32m     18\u001b[0m     \u001b[38;5;28;01mreturn\u001b[39;00m\n",
      "\u001b[1;31mTypeError\u001b[0m: scatter() got multiple values for argument 'alpha'"
     ]
    },
    {
     "data": {
      "image/png": "[encoded data removed]",
      "text/plain": [
       "<Figure size 640x480 with 1 Axes>"
      ]
     },
     "metadata": {},
     "output_type": "display_data"
    }
   ],
   "source": [
    "plt.title('Эмбеддинги поставщиков')\n",
    "sas_embeddings(spec[features[1]], spec['bids_contracted'])\n",
    "plt.legend()\n",
    "# plt.savefig('../figures/contracted_embedings.jpg', bbox_inches='tight')"
   ]
  },
  {
   "cell_type": "code",
   "execution_count": null,
   "id": "b48ad984-7993-4798-abf6-5a78959a90b4",
   "metadata": {},
   "outputs": [],
   "source": []
  },
  {
   "cell_type": "code",
   "execution_count": null,
   "id": "a0b25378-0904-469a-b5fd-be1796e39e05",
   "metadata": {},
   "outputs": [],
   "source": []
  },
  {
   "cell_type": "code",
   "execution_count": 14,
   "id": "4312e399-fd0c-478d-bbf8-82e04b15e1b7",
   "metadata": {},
   "outputs": [
    {
     "ename": "AttributeError",
     "evalue": "'list' object has no attribute 'legend'",
     "output_type": "error",
     "traceback": [
      "\u001b[1;31m---------------------------------------------------------------------------\u001b[0m",
      "\u001b[1;31mAttributeError\u001b[0m                            Traceback (most recent call last)",
      "Cell \u001b[1;32mIn[14], line 4\u001b[0m\n\u001b[0;32m      2\u001b[0m y \u001b[38;5;241m=\u001b[39m np\u001b[38;5;241m.\u001b[39marange(\u001b[38;5;241m10\u001b[39m)\n\u001b[0;32m      3\u001b[0m p \u001b[38;5;241m=\u001b[39m plt\u001b[38;5;241m.\u001b[39mplot(x,y, x,y\u001b[38;5;241m*\u001b[39m\u001b[38;5;241m2\u001b[39m, x,y\u001b[38;5;241m*\u001b[39m\u001b[38;5;241m3\u001b[39m)\n\u001b[1;32m----> 4\u001b[0m p\u001b[38;5;241m.\u001b[39mlegend()\n",
      "\u001b[1;31mAttributeError\u001b[0m: 'list' object has no attribute 'legend'"
     ]
    },
    {
     "data": {
      "image/png": "[encoded data removed]",
      "text/plain": [
       "<Figure size 640x480 with 1 Axes>"
      ]
     },
     "metadata": {},
     "output_type": "display_data"
    }
   ],
   "source": [
    "x = np.arange(10)\n",
    "y = np.arange(10)\n",
    "p = plt.plot(x,y, x,y*2, x,y*3)\n",
    "p.legend()"
   ]
  },
  {
   "cell_type": "code",
   "execution_count": 15,
   "id": "aed1a8dc-2e63-4a5a-bfa1-d1a41f1baf19",
   "metadata": {},
   "outputs": [
    {
     "data": {
      "text/plain": [
       "'#1f77b4'"
      ]
     },
     "execution_count": 15,
     "metadata": {},
     "output_type": "execute_result"
    }
   ],
   "source": [
    "p[0].get_color()"
   ]
  },
  {
   "cell_type": "code",
   "execution_count": null,
   "id": "bb01edb5-33f5-4a77-8ed1-7b5f280c8c38",
   "metadata": {},
   "outputs": [],
   "source": []
  },
  {
   "cell_type": "code",
   "execution_count": null,
   "id": "a063d837-a802-4fbf-bd6b-a373636370a9",
   "metadata": {},
   "outputs": [],
   "source": []
  },
  {
   "cell_type": "code",
   "execution_count": null,
   "id": "5c63742c-a261-4225-9690-0bfad3366e9d",
   "metadata": {},
   "outputs": [],
   "source": []
  },
  {
   "cell_type": "code",
   "execution_count": null,
   "id": "8d4407d0-cb01-4a0d-90cc-6439d55f46a2",
   "metadata": {},
   "outputs": [],
   "source": []
  },
  {
   "cell_type": "code",
   "execution_count": null,
   "id": "cb1891f5-67af-4706-9793-3b803e355f38",
   "metadata": {},
   "outputs": [],
   "source": []
  },
  {
   "cell_type": "code",
   "execution_count": null,
   "id": "bb4ba65c-2369-47be-af7e-d069302a538b",
   "metadata": {},
   "outputs": [],
   "source": []
  },
  {
   "cell_type": "code",
   "execution_count": null,
   "id": "6c16cd46-2162-4bb5-8b9e-52f9f89dbdc1",
   "metadata": {},
   "outputs": [],
   "source": []
  },
  {
   "cell_type": "code",
   "execution_count": null,
   "id": "15e53177-480f-4391-834d-c631a291c371",
   "metadata": {},
   "outputs": [],
   "source": []
  },
  {
   "cell_type": "code",
   "execution_count": null,
   "id": "9c92a5c4-1ac2-4206-b817-387e4594afe3",
   "metadata": {},
   "outputs": [],
   "source": []
  },
  {
   "cell_type": "code",
   "execution_count": null,
   "id": "9c6e59d0-5172-4c70-a2f6-587caff49044",
   "metadata": {},
   "outputs": [],
   "source": []
  }
 ],
 "metadata": {
  "kernelspec": {
   "display_name": "Python 3 (ipykernel)",
   "language": "python",
   "name": "python3"
  },
  "language_info": {
   "codemirror_mode": {
    "name": "ipython",
    "version": 3
   },
   "file_extension": ".py",
   "mimetype": "text/x-python",
   "name": "python",
   "nbconvert_exporter": "python",
   "pygments_lexer": "ipython3",
   "version": "3.11.5"
  }
 },
 "nbformat": 4,
 "nbformat_minor": 5
}
