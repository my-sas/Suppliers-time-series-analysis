{
 "cells": [
  {
   "cell_type": "code",
   "execution_count": 2,
   "id": "e61f4962-f399-4cb5-8e0f-e3e2c90aecdf",
   "metadata": {},
   "outputs": [],
   "source": [
    "import json\n",
    "import pandas as pd\n",
    "import ahpy\n",
    "\n",
    "from pyDEA.core.data_processing import read_data_from_xls\n",
    "from pyDEA.core.models.envelopment_model_base import EnvelopmentModelBase\n",
    "\n",
    "# with open('../data/research_data/television.json') as json_model:\n",
    "#     ahp_hierarchy = json.load(json_model)"
   ]
  },
  {
   "cell_type": "code",
   "execution_count": 13,
   "id": "6fc54a1b-11b7-43e1-a8d4-07a9fecce5a6",
   "metadata": {},
   "outputs": [],
   "source": [
    "import numpy\n",
    "import scipy"
   ]
  },
  {
   "cell_type": "code",
   "execution_count": 10,
   "id": "c3507513-b733-47f8-ac81-cffc1f3c44da",
   "metadata": {},
   "outputs": [],
   "source": [
    "experience_comparisons = {('Moll', 'Nell'): 1/4, ('Moll', 'Sue'): 4, ('Nell', 'Sue'): 9}\n",
    "education_comparisons = {('Moll', 'Nell'): 3, ('Moll', 'Sue'): 1/5, ('Nell', 'Sue'): 1/7}\n",
    "charisma_comparisons = {('Moll', 'Nell'): 5, ('Moll', 'Sue'): 9, ('Nell', 'Sue'): 4}\n",
    "age_comparisons = {('Moll', 'Nell'): 1/3, ('Moll', 'Sue'): 5, ('Nell', 'Sue'): 9}"
   ]
  },
  {
   "cell_type": "code",
   "execution_count": 4,
   "id": "a3c57716-bc3a-46ad-9b3c-447754144f4e",
   "metadata": {},
   "outputs": [],
   "source": [
    "criteria_comparisons = {('Experience', 'Education'): 4, ('Experience', 'Charisma'): 3, ('Experience', 'Age'): 7,\n",
    "\t\t\t    ('Education', 'Charisma'): 1/3, ('Education', 'Age'): 3,\n",
    "\t\t\t    ('Charisma', 'Age'): 5}"
   ]
  },
  {
   "cell_type": "code",
   "execution_count": 14,
   "id": "f8362955-c0af-4295-bb94-4655e49db73b",
   "metadata": {},
   "outputs": [],
   "source": [
    "experience = ahpy.Compare('Experience', experience_comparisons, precision=3, random_index='saaty')\n",
    "education = ahpy.Compare('Education', education_comparisons, precision=3, random_index='saaty')\n",
    "charisma = ahpy.Compare('Charisma', charisma_comparisons, precision=3, random_index='saaty')\n",
    "age = ahpy.Compare('Age', age_comparisons, precision=3, random_index='saaty')\n",
    "criteria = ahpy.Compare('Criteria', criteria_comparisons, precision=3, random_index='saaty')"
   ]
  },
  {
   "cell_type": "code",
   "execution_count": 15,
   "id": "e5ec50e8-e275-4d6b-9c6e-dc1ed4727e43",
   "metadata": {},
   "outputs": [],
   "source": [
    "criteria.add_children([experience, education, charisma, age])"
   ]
  },
  {
   "cell_type": "code",
   "execution_count": 16,
   "id": "a0a5ff12-e8da-42ca-8fd5-bd9c3fe9a606",
   "metadata": {},
   "outputs": [
    {
     "data": {
      "text/plain": [
       "{'Nell': 0.518, 'Moll': 0.343, 'Sue': 0.14}"
      ]
     },
     "execution_count": 16,
     "metadata": {},
     "output_type": "execute_result"
    }
   ],
   "source": [
    "criteria.target_weights"
   ]
  },
  {
   "cell_type": "code",
   "execution_count": 11,
   "id": "895a16d6-5989-41e8-943b-29fb5bd00271",
   "metadata": {},
   "outputs": [],
   "source": [
    "experience = ahpy.Compare('Experience', experience_comparisons, precision=3, random_index='saaty')"
   ]
  },
  {
   "cell_type": "code",
   "execution_count": 12,
   "id": "f16b0a68-e2d0-4eca-8eaa-e5f7897892af",
   "metadata": {},
   "outputs": [
    {
     "data": {
      "text/plain": [
       "{'Nell': 0.762, 'Moll': 0.19, 'Sue': 0.048}"
      ]
     },
     "execution_count": 12,
     "metadata": {},
     "output_type": "execute_result"
    }
   ],
   "source": [
    "experience.target_weights"
   ]
  },
  {
   "cell_type": "code",
   "execution_count": 13,
   "id": "744766ac-f2f2-4205-9c51-c8b76deff7fa",
   "metadata": {},
   "outputs": [
    {
     "data": {
      "text/plain": [
       "0.76"
      ]
     },
     "execution_count": 13,
     "metadata": {},
     "output_type": "execute_result"
    }
   ],
   "source": [
    "0.19*4"
   ]
  },
  {
   "cell_type": "code",
   "execution_count": null,
   "id": "39de253d-78b0-4075-9647-f730954e0587",
   "metadata": {},
   "outputs": [],
   "source": []
  },
  {
   "cell_type": "code",
   "execution_count": 7,
   "id": "9646a5a9-4bf5-47c4-85be-816daa1e2487",
   "metadata": {},
   "outputs": [],
   "source": [
    "data = {\n",
    "    'DMU': ['A', 'B', 'C', 'D'],\n",
    "    'Input1': [100, 120, 80, 200],\n",
    "    'Input2': [70, 100, 60, 150],\n",
    "    'Output1': [80, 140, 100, 180],\n",
    "    'Output2': [90, 160, 110, 200]\n",
    "}\n",
    "\n",
    "# Create a DataFrame\n",
    "df = pd.DataFrame(data)\n",
    "df.set_index('DMU', inplace=True)"
   ]
  },
  {
   "cell_type": "code",
   "execution_count": 8,
   "id": "ed30d1b6-1082-40b1-ab58-cdd4d86fd480",
   "metadata": {},
   "outputs": [
    {
     "data": {
      "text/html": [
       "<div>\n",
       "<style scoped>\n",
       "    .dataframe tbody tr th:only-of-type {\n",
       "        vertical-align: middle;\n",
       "    }\n",
       "\n",
       "    .dataframe tbody tr th {\n",
       "        vertical-align: top;\n",
       "    }\n",
       "\n",
       "    .dataframe thead th {\n",
       "        text-align: right;\n",
       "    }\n",
       "</style>\n",
       "<table border=\"1\" class=\"dataframe\">\n",
       "  <thead>\n",
       "    <tr style=\"text-align: right;\">\n",
       "      <th></th>\n",
       "      <th>Input1</th>\n",
       "      <th>Input2</th>\n",
       "      <th>Output1</th>\n",
       "      <th>Output2</th>\n",
       "    </tr>\n",
       "    <tr>\n",
       "      <th>DMU</th>\n",
       "      <th></th>\n",
       "      <th></th>\n",
       "      <th></th>\n",
       "      <th></th>\n",
       "    </tr>\n",
       "  </thead>\n",
       "  <tbody>\n",
       "    <tr>\n",
       "      <th>A</th>\n",
       "      <td>100</td>\n",
       "      <td>70</td>\n",
       "      <td>80</td>\n",
       "      <td>90</td>\n",
       "    </tr>\n",
       "    <tr>\n",
       "      <th>B</th>\n",
       "      <td>120</td>\n",
       "      <td>100</td>\n",
       "      <td>140</td>\n",
       "      <td>160</td>\n",
       "    </tr>\n",
       "    <tr>\n",
       "      <th>C</th>\n",
       "      <td>80</td>\n",
       "      <td>60</td>\n",
       "      <td>100</td>\n",
       "      <td>110</td>\n",
       "    </tr>\n",
       "    <tr>\n",
       "      <th>D</th>\n",
       "      <td>200</td>\n",
       "      <td>150</td>\n",
       "      <td>180</td>\n",
       "      <td>200</td>\n",
       "    </tr>\n",
       "  </tbody>\n",
       "</table>\n",
       "</div>"
      ],
      "text/plain": [
       "     Input1  Input2  Output1  Output2\n",
       "DMU                                  \n",
       "A       100      70       80       90\n",
       "B       120     100      140      160\n",
       "C        80      60      100      110\n",
       "D       200     150      180      200"
      ]
     },
     "execution_count": 8,
     "metadata": {},
     "output_type": "execute_result"
    }
   ],
   "source": [
    "df"
   ]
  },
  {
   "cell_type": "code",
   "execution_count": null,
   "id": "af234def-fed4-4fb8-bc3f-515c8dc18b16",
   "metadata": {},
   "outputs": [],
   "source": []
  },
  {
   "cell_type": "code",
   "execution_count": null,
   "id": "7bad4e20-a810-46b2-8c76-acfc07fbe789",
   "metadata": {},
   "outputs": [],
   "source": []
  },
  {
   "cell_type": "code",
   "execution_count": null,
   "id": "5aa05f20-767c-4748-9a6c-984698ec900d",
   "metadata": {},
   "outputs": [],
   "source": []
  },
  {
   "cell_type": "code",
   "execution_count": null,
   "id": "041a6c96-3977-4d8e-bf57-a8bfaaf7f3af",
   "metadata": {},
   "outputs": [],
   "source": []
  },
  {
   "cell_type": "code",
   "execution_count": null,
   "id": "89c2628d-904f-44ae-9494-a8240d16bc6e",
   "metadata": {},
   "outputs": [],
   "source": []
  },
  {
   "cell_type": "code",
   "execution_count": null,
   "id": "296c6e07-8394-4735-b5c7-795fb73c9cc6",
   "metadata": {},
   "outputs": [],
   "source": []
  },
  {
   "cell_type": "code",
   "execution_count": null,
   "id": "22305bfa-16a8-4ded-a284-5986d977079f",
   "metadata": {},
   "outputs": [],
   "source": []
  },
  {
   "cell_type": "code",
   "execution_count": null,
   "id": "6d0657f4-9aaa-47fe-b91d-e1771b7ac143",
   "metadata": {},
   "outputs": [],
   "source": []
  },
  {
   "cell_type": "code",
   "execution_count": null,
   "id": "78e35fc2-83ff-457b-bead-38b904de9357",
   "metadata": {},
   "outputs": [],
   "source": []
  },
  {
   "cell_type": "code",
   "execution_count": null,
   "id": "ab88a37a-a312-45e9-a348-7c024816ab70",
   "metadata": {},
   "outputs": [],
   "source": []
  },
  {
   "cell_type": "code",
   "execution_count": null,
   "id": "0e50f081-335f-4dbf-96b9-267f4b62b738",
   "metadata": {},
   "outputs": [],
   "source": []
  },
  {
   "cell_type": "code",
   "execution_count": null,
   "id": "846c04e0-5c9e-4ac7-8649-81dbd9a3f645",
   "metadata": {},
   "outputs": [],
   "source": []
  },
  {
   "cell_type": "code",
   "execution_count": null,
   "id": "0843ea40-0e52-4416-8e59-17f6cf34b0e0",
   "metadata": {},
   "outputs": [],
   "source": []
  },
  {
   "cell_type": "code",
   "execution_count": null,
   "id": "1e391c55-7eb0-4203-9509-5dd89e96b753",
   "metadata": {},
   "outputs": [],
   "source": []
  },
  {
   "cell_type": "code",
   "execution_count": null,
   "id": "cee9bf9b-e5ed-48f3-95f2-3a05ac8aea7c",
   "metadata": {},
   "outputs": [],
   "source": []
  },
  {
   "cell_type": "code",
   "execution_count": null,
   "id": "eeb4c925-6311-4d81-9311-f94edbb4ec42",
   "metadata": {},
   "outputs": [],
   "source": []
  }
 ],
 "metadata": {
  "kernelspec": {
   "display_name": "Python 3 (ipykernel)",
   "language": "python",
   "name": "python3"
  },
  "language_info": {
   "codemirror_mode": {
    "name": "ipython",
    "version": 3
   },
   "file_extension": ".py",
   "mimetype": "text/x-python",
   "name": "python",
   "nbconvert_exporter": "python",
   "pygments_lexer": "ipython3",
   "version": "3.11.5"
  }
 },
 "nbformat": 4,
 "nbformat_minor": 5
}
