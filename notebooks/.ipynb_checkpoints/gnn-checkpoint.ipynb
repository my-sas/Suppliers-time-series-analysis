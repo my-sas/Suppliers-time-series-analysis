{
 "cells": [
  {
   "cell_type": "code",
   "execution_count": 68,
   "id": "fc30f3ac-3e0e-408d-8d59-9be22dba03e9",
   "metadata": {},
   "outputs": [],
   "source": [
    "import numpy as np\n",
    "import pandas as pd\n",
    "\n",
    "import seaborn as sns\n",
    "from datetime import datetime\n",
    "\n",
    "import sys\n",
    "import os\n",
    "sys.path.append(os.path.abspath('..'))\n",
    "from data.preprocessing import Preprocessor\n",
    "from data.feature_generation import zpp4_agg_features, zpp4_embed_agg, spec_agg_features\n",
    "\n",
    "import torch\n",
    "import torch.nn as nn\n",
    "from torch_geometric.data import Data\n",
    "from torch_geometric.nn import GCNConv\n",
    "from torch_geometric.loader import DataLoader"
   ]
  },
  {
   "cell_type": "code",
   "execution_count": 150,
   "id": "49a9067f-b832-4e8b-be12-844edacc5c67",
   "metadata": {},
   "outputs": [],
   "source": [
    "from sklearn.metrics import accuracy_score, roc_auc_score\n",
    "\n",
    "import sys\n",
    "import os\n",
    "sys.path.append(os.path.abspath('..'))\n",
    "from src.metrics import apk, mapk"
   ]
  },
  {
   "cell_type": "code",
   "execution_count": 2,
   "id": "19828ffe-438e-47fe-a596-a9d78a4bf1f9",
   "metadata": {},
   "outputs": [],
   "source": [
    "\"\"\"\n",
    "Загрузка данных\n",
    "\"\"\"\n",
    "\n",
    "# таблица со спецификациями\n",
    "spec = pd.read_csv('../data/processed_data/specs.csv')\n",
    "spec['spec_date'] = pd.to_datetime(spec['spec_date'], format='%Y-%m-%d')\n",
    "spec['delivery_period_end'] = pd.to_datetime(spec['delivery_period_end'], format='%Y-%m-%d')\n",
    "\n",
    "# таблица с доставками\n",
    "zpp4 = pd.read_csv('../data/processed_data/zpp4.csv')\n",
    "zpp4['date'] = pd.to_datetime(zpp4['date'], format='%Y-%m-%d')\n",
    "zpp4['spec_date'] = pd.to_datetime(zpp4['spec_date'], format='%Y-%m-%d')"
   ]
  },
  {
   "cell_type": "code",
   "execution_count": 3,
   "id": "4af837ec-09da-484d-9d5d-16d46bf89b14",
   "metadata": {},
   "outputs": [],
   "source": [
    "\"\"\"\n",
    "Генерация фичей\n",
    "\"\"\"\n",
    "\n",
    "# фичи эмбеддинги\n",
    "spec = zpp4_embed_agg(spec)\n",
    "\n",
    "features = [str(i) for i in range(16)]\n",
    "\n",
    "spec = spec.dropna()"
   ]
  },
  {
   "cell_type": "code",
   "execution_count": 4,
   "id": "df7b8118-9fb5-48a4-8b50-4f81a6571d6a",
   "metadata": {},
   "outputs": [],
   "source": [
    "split_point = spec['spec_date'].quantile(0.8)\n",
    "\n",
    "train = spec[spec['spec_date'] < split_point]\n",
    "test = spec[spec['spec_date'] >= split_point]"
   ]
  },
  {
   "cell_type": "code",
   "execution_count": 105,
   "id": "a02dffda-cdbe-4bd3-bc2c-ad6c650d625c",
   "metadata": {},
   "outputs": [],
   "source": [
    "def df_to_graph(df, features, target):\n",
    "\n",
    "    # генерация индексов рёбер\n",
    "    edge_index = []\n",
    "    for i in range(len(df)):\n",
    "        for j in range(i):\n",
    "            edge_index.append([i, j])\n",
    "        for j in range(i+1, len(df)):\n",
    "            edge_index.append([i, j])\n",
    "    \n",
    "    edge_index = torch.tensor(edge_index, dtype=torch.long).view(2, -1)\n",
    "    x = torch.tensor(df[features].values, dtype=torch.float)\n",
    "    y = torch.tensor(df[target].values, dtype=torch.float)\n",
    "    return Data(x=x, y=y, edge_index=edge_index)"
   ]
  },
  {
   "cell_type": "code",
   "execution_count": 106,
   "id": "ed688223-6c8e-469e-a10e-5aa4da62af68",
   "metadata": {},
   "outputs": [],
   "source": [
    "train_dataset = [df_to_graph(train[train['spec_date'] == day], features, 'bids_contracted') for day in train['spec_date'].unique()]\n",
    "test_dataset = [df_to_graph(test[test['spec_date'] == day], features, 'bids_contracted') for day in test['spec_date'].unique()]"
   ]
  },
  {
   "cell_type": "code",
   "execution_count": 228,
   "id": "9769a7eb-37a1-4e56-b3fb-0404e9803808",
   "metadata": {},
   "outputs": [],
   "source": [
    "loader = DataLoader(train_dataset, batch_size=64, shuffle=True)"
   ]
  },
  {
   "cell_type": "code",
   "execution_count": 261,
   "id": "e83c0e7b-fe90-47c0-8e68-8ea6e798e21b",
   "metadata": {},
   "outputs": [],
   "source": [
    "class GCN(nn.Module):\n",
    "    def __init__(self, input_dim, hidden_dim, output_dim):\n",
    "        super(GCN, self).__init__()\n",
    "        self.conv1 = GCNConv(input_dim, hidden_dim)\n",
    "        self.relu = nn.ReLU()\n",
    "        self.conv2 = GCNConv(hidden_dim, output_dim)\n",
    "        self.sigmoid = nn.Sigmoid()\n",
    "\n",
    "    def forward(self, data):\n",
    "        x, edge_index = data.x, data.edge_index\n",
    "\n",
    "        x = self.conv1(x, edge_index)\n",
    "        x = self.relu(x)\n",
    "        x = self.conv2(x, edge_index)\n",
    "        x = self.sigmoid(x)\n",
    "\n",
    "        return x"
   ]
  },
  {
   "cell_type": "code",
   "execution_count": 281,
   "id": "0f67f0e5-1277-4cf6-9e3a-d83492c7cd0f",
   "metadata": {},
   "outputs": [],
   "source": [
    "model = GCN(16, 32, 1)\n",
    "\n",
    "criterion = nn.BCELoss()\n",
    "optimizer = torch.optim.Adam(model.parameters(), lr=0.003)"
   ]
  },
  {
   "cell_type": "code",
   "execution_count": 282,
   "id": "267a9586-85a4-4ca6-a6ef-4b0e2a54ac74",
   "metadata": {},
   "outputs": [
    {
     "name": "stdout",
     "output_type": "stream",
     "text": [
      "0.6123367547988892\n",
      "0.6962488293647766\n",
      "0.5693516731262207\n",
      "0.5944064855575562\n",
      "0.5909778475761414\n",
      "0.6405900716781616\n",
      "0.6174203753471375\n",
      "0.6108258962631226\n",
      "0.5658377408981323\n"
     ]
    }
   ],
   "source": [
    "model.train()\n",
    "for epoch in range(1000):\n",
    "    for batch in loader:\n",
    "        out = model(batch)\n",
    "        loss = criterion(out, batch.y.view(-1, 1))\n",
    "        \n",
    "        loss.backward()\n",
    "        optimizer.step()\n",
    "        optimizer.zero_grad()\n",
    "    if epoch % 100 == 0 and epoch != 0:\n",
    "        print(loss.item())"
   ]
  },
  {
   "cell_type": "code",
   "execution_count": 273,
   "id": "13467e33-9c70-4409-b1fb-b7863addb5ad",
   "metadata": {},
   "outputs": [
    {
     "data": {
      "text/plain": [
       "array([0.5759759 , 0.5183669 , 0.47204107, 0.6619397 , 0.64461374,\n",
       "       0.5601014 , 0.61113197, 0.32216984, 0.2878099 , 0.26217937,\n",
       "       0.2547952 , 0.32068512, 0.4416008 , 0.620687  , 0.5026858 ],\n",
       "      dtype=float32)"
      ]
     },
     "execution_count": 273,
     "metadata": {},
     "output_type": "execute_result"
    }
   ],
   "source": [
    "model(test_dataset[0]).detach().numpy().squeeze()"
   ]
  },
  {
   "cell_type": "code",
   "execution_count": 274,
   "id": "2a8417da-32fc-4a8f-9bf4-bf0f3de22d3d",
   "metadata": {},
   "outputs": [
    {
     "data": {
      "text/plain": [
       "array([0., 0., 1., 0., 1., 0., 1., 1., 0., 0., 0., 0., 0., 0., 1.],\n",
       "      dtype=float32)"
      ]
     },
     "execution_count": 274,
     "metadata": {},
     "output_type": "execute_result"
    }
   ],
   "source": [
    "test_dataset[0].y.numpy()"
   ]
  },
  {
   "cell_type": "code",
   "execution_count": 283,
   "id": "acef69dd-78c7-416d-b84d-572bb861fad3",
   "metadata": {},
   "outputs": [],
   "source": [
    "y_real = test_dataset[0].y.numpy()\n",
    "y_pred = model(test_dataset[0]).detach().numpy().squeeze()"
   ]
  },
  {
   "cell_type": "code",
   "execution_count": null,
   "id": "6e6454d1-6e1c-48b1-9e52-e11c8b81851f",
   "metadata": {},
   "outputs": [],
   "source": []
  },
  {
   "cell_type": "code",
   "execution_count": 284,
   "id": "3b23fc28-d513-4ce5-98e7-9c2069ec2cd8",
   "metadata": {},
   "outputs": [
    {
     "data": {
      "text/plain": [
       "0.125"
      ]
     },
     "execution_count": 284,
     "metadata": {},
     "output_type": "execute_result"
    }
   ],
   "source": [
    "apk(list(y_real), list(np.round(y_pred)))"
   ]
  },
  {
   "cell_type": "code",
   "execution_count": 285,
   "id": "c43f6826-24ed-482f-8b9a-57ac6277eb45",
   "metadata": {},
   "outputs": [],
   "source": [
    "def eval(model, dataset, metric_func=mapk):\n",
    "    model.eval()\n",
    "    return np.mean([\n",
    "        metric_func(data.y.numpy(), model(data).detach().numpy().reshape(-1))\n",
    "        for data in dataset\n",
    "    ])"
   ]
  },
  {
   "cell_type": "code",
   "execution_count": 286,
   "id": "97268081-35d1-478e-886a-78191f21fef4",
   "metadata": {},
   "outputs": [],
   "source": [
    "# sas = lambda y_real, y_pred: apk(list(y_real), list(np.round(y_pred)))\n",
    "sas = lambda y_real, y_pred: (1. if len(np.unique(y_real)) <= 1 else roc_auc_score(y_real, y_pred))"
   ]
  },
  {
   "cell_type": "code",
   "execution_count": 287,
   "id": "f04d8938-ea2b-4d02-bc38-d069f1e970ac",
   "metadata": {},
   "outputs": [
    {
     "data": {
      "text/plain": [
       "0.6868049039233293"
      ]
     },
     "execution_count": 287,
     "metadata": {},
     "output_type": "execute_result"
    }
   ],
   "source": [
    "eval(model, train_dataset, sas)"
   ]
  },
  {
   "cell_type": "code",
   "execution_count": 288,
   "id": "142ac817-5c0f-4c35-bd9b-66aed637e325",
   "metadata": {},
   "outputs": [
    {
     "data": {
      "text/plain": [
       "0.6298414681148551"
      ]
     },
     "execution_count": 288,
     "metadata": {},
     "output_type": "execute_result"
    }
   ],
   "source": [
    "eval(model, test_dataset, sas)"
   ]
  },
  {
   "cell_type": "code",
   "execution_count": null,
   "id": "789fccd0-fa8d-47ac-ba2e-29ec5bbbc179",
   "metadata": {},
   "outputs": [],
   "source": []
  },
  {
   "cell_type": "code",
   "execution_count": null,
   "id": "9f36731a-2740-4b9f-abc4-ecddd78b7fcb",
   "metadata": {},
   "outputs": [],
   "source": []
  },
  {
   "cell_type": "code",
   "execution_count": null,
   "id": "5987bc83-522f-4278-9e9d-a8d976fe6ef2",
   "metadata": {},
   "outputs": [],
   "source": []
  },
  {
   "cell_type": "code",
   "execution_count": 37,
   "id": "bb19defd-3c73-4a27-bf1c-756a660e215e",
   "metadata": {},
   "outputs": [],
   "source": [
    "input_features = 3\n",
    "output_features = 2\n",
    "\n",
    "x = torch.tensor([[1, 2, 3], [4, 5, 6], [7, 8, 9], [10, 11, 12]], dtype=torch.float)\n",
    "edge_index = torch.tensor([[0, 1, 2, 0, 3], [1, 2, 0, 3, 1]], dtype=torch.long)\n",
    "\n",
    "data = Data(x=x, edge_index=edge_index)\n",
    "\n",
    "model = GCN(input_features=input_features, output_features=output_features)"
   ]
  },
  {
   "cell_type": "code",
   "execution_count": 10,
   "id": "5270de72-2d96-483f-b4ba-5c247aca5569",
   "metadata": {},
   "outputs": [
    {
     "data": {
      "text/plain": [
       "tensor([[-1.2854, -0.3237],\n",
       "        [-1.4819, -0.2577],\n",
       "        [-1.3450, -0.3018],\n",
       "        [-1.3129, -0.3134]], grad_fn=<LogSoftmaxBackward0>)"
      ]
     },
     "execution_count": 10,
     "metadata": {},
     "output_type": "execute_result"
    }
   ],
   "source": [
    "model(data)"
   ]
  },
  {
   "cell_type": "code",
   "execution_count": 60,
   "id": "7080400c-7549-4997-b2aa-d91d0d39c655",
   "metadata": {},
   "outputs": [],
   "source": [
    "data1 = Data(x=torch.tensor([[1, 2, 3], [4, 5, 6]], dtype=torch.float), edge_index=torch.tensor([[0], [1]], dtype=torch.long))\n",
    "dataset = [data1, data, data1]\n",
    "loader = DataLoader(dataset, batch_size=2, shuffle=True)"
   ]
  },
  {
   "cell_type": "code",
   "execution_count": null,
   "id": "2d9fed1e-4648-4e4d-924e-2ea10b944581",
   "metadata": {},
   "outputs": [],
   "source": []
  },
  {
   "cell_type": "code",
   "execution_count": null,
   "id": "d29aa56d-7b48-4509-a90e-6c2d78f5f7fe",
   "metadata": {},
   "outputs": [],
   "source": []
  },
  {
   "cell_type": "code",
   "execution_count": null,
   "id": "b0679d67-a2a8-4d89-a856-4ff125cbbd78",
   "metadata": {},
   "outputs": [],
   "source": []
  },
  {
   "cell_type": "code",
   "execution_count": null,
   "id": "fbc98c01-324d-4705-ab4b-66d3b82818e3",
   "metadata": {},
   "outputs": [],
   "source": []
  },
  {
   "cell_type": "code",
   "execution_count": null,
   "id": "ac2bd917-64f1-4f89-a226-83702ec52dbf",
   "metadata": {},
   "outputs": [],
   "source": []
  },
  {
   "cell_type": "code",
   "execution_count": null,
   "id": "b1f1ef1c-025a-43f8-8882-acd1cfab1d72",
   "metadata": {},
   "outputs": [],
   "source": []
  },
  {
   "cell_type": "code",
   "execution_count": null,
   "id": "28b65f56-95b1-474e-90bb-1edb5d392fd8",
   "metadata": {},
   "outputs": [],
   "source": []
  },
  {
   "cell_type": "code",
   "execution_count": null,
   "id": "e31acc0d-c557-40f8-9491-fd53379e874d",
   "metadata": {},
   "outputs": [],
   "source": []
  },
  {
   "cell_type": "code",
   "execution_count": null,
   "id": "802fde25-9346-4f55-9c99-b7f77bfe3825",
   "metadata": {},
   "outputs": [],
   "source": []
  },
  {
   "cell_type": "code",
   "execution_count": null,
   "id": "a808eac5-25f9-4182-a265-8afc9eb0eaee",
   "metadata": {},
   "outputs": [],
   "source": []
  },
  {
   "cell_type": "code",
   "execution_count": null,
   "id": "2b35b62b-2a43-4350-b4c4-079a48c0a10a",
   "metadata": {},
   "outputs": [],
   "source": []
  },
  {
   "cell_type": "code",
   "execution_count": null,
   "id": "da37201c-e827-4e80-b6bb-b08670b462c8",
   "metadata": {},
   "outputs": [],
   "source": []
  },
  {
   "cell_type": "code",
   "execution_count": null,
   "id": "c1cd0f27-0f28-46b5-9caf-ff2e1efe1327",
   "metadata": {},
   "outputs": [],
   "source": []
  },
  {
   "cell_type": "code",
   "execution_count": null,
   "id": "2fc853ba-fa8f-4963-b720-27ceff9c6724",
   "metadata": {},
   "outputs": [],
   "source": []
  },
  {
   "cell_type": "code",
   "execution_count": null,
   "id": "41e4b619-a859-4d0b-a59d-d1fb47fe348a",
   "metadata": {},
   "outputs": [],
   "source": []
  },
  {
   "cell_type": "code",
   "execution_count": null,
   "id": "b6d10a41-d8c7-4a59-9c75-d41fd6399be9",
   "metadata": {},
   "outputs": [],
   "source": []
  },
  {
   "cell_type": "code",
   "execution_count": null,
   "id": "c2972cac-b2f8-47cf-9df9-c02f3799a7ab",
   "metadata": {},
   "outputs": [],
   "source": []
  },
  {
   "cell_type": "code",
   "execution_count": null,
   "id": "6346c42d-a747-4037-97db-f0cad39eee50",
   "metadata": {},
   "outputs": [],
   "source": []
  },
  {
   "cell_type": "code",
   "execution_count": null,
   "id": "b12bdbfc-f83c-4074-b096-51f66261433e",
   "metadata": {},
   "outputs": [],
   "source": []
  },
  {
   "cell_type": "code",
   "execution_count": null,
   "id": "d6281097-4bb8-4069-9053-5dd5cca1a50e",
   "metadata": {},
   "outputs": [],
   "source": []
  },
  {
   "cell_type": "code",
   "execution_count": null,
   "id": "43fed867-02ac-474f-9b29-4b22e4fc8e02",
   "metadata": {},
   "outputs": [],
   "source": []
  },
  {
   "cell_type": "code",
   "execution_count": null,
   "id": "9567bfa6-b3b1-4c88-bab1-d62b8e3ced3f",
   "metadata": {},
   "outputs": [],
   "source": []
  }
 ],
 "metadata": {
  "kernelspec": {
   "display_name": "Python 3 (ipykernel)",
   "language": "python",
   "name": "python3"
  },
  "language_info": {
   "codemirror_mode": {
    "name": "ipython",
    "version": 3
   },
   "file_extension": ".py",
   "mimetype": "text/x-python",
   "name": "python",
   "nbconvert_exporter": "python",
   "pygments_lexer": "ipython3",
   "version": "3.11.5"
  }
 },
 "nbformat": 4,
 "nbformat_minor": 5
}
