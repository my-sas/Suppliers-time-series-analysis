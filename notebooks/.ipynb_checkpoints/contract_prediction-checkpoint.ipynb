{
 "cells": [
  {
   "cell_type": "code",
   "execution_count": 1,
   "id": "e493f3ce-0860-48d9-bbcc-8ed9175974c6",
   "metadata": {
    "tags": []
   },
   "outputs": [],
   "source": [
    "import numpy as np\n",
    "import pandas as pd\n",
    "\n",
    "from catboost import CatBoostClassifier\n",
    "from sklearn.linear_model import LogisticRegression\n",
    "from sklearn.model_selection import train_test_split\n",
    "from sklearn.metrics import accuracy_score, roc_auc_score, average_precision_score\n",
    "\n",
    "from tqdm import tqdm\n",
    "\n",
    "import seaborn as sns\n",
    "import matplotlib.pyplot as plt\n",
    "\n",
    "import sys\n",
    "import os\n",
    "sys.path.append(os.path.abspath('../data'))\n",
    "from preprocessing import Preprocessor\n",
    "\n",
    "import warnings\n",
    "warnings.filterwarnings('ignore')"
   ]
  },
  {
   "cell_type": "code",
   "execution_count": 2,
   "id": "8516749f-828d-4c24-b2f1-7a56e3044a72",
   "metadata": {
    "tags": []
   },
   "outputs": [
    {
     "name": "stderr",
     "output_type": "stream",
     "text": [
      "Duplicate rows cleaning: 620it [00:02, 230.24it/s]\n"
     ]
    }
   ],
   "source": [
    "# Загрузка данных\n",
    "\n",
    "embed_df = pd.read_csv('../data/final_data/embed_df.csv')\n",
    "embed_df['date'] = pd.to_datetime(embed_df['date'], format='%Y-%m-%d')\n",
    "\n",
    "preprocessor = Preprocessor()\n",
    "spec = preprocessor.spec_preprocessing()"
   ]
  },
  {
   "cell_type": "code",
   "execution_count": 3,
   "id": "cf6a98e7-1808-4891-ad44-a039f6471488",
   "metadata": {
    "tags": []
   },
   "outputs": [
    {
     "data": {
      "text/html": [
       "<div>\n",
       "<style scoped>\n",
       "    .dataframe tbody tr th:only-of-type {\n",
       "        vertical-align: middle;\n",
       "    }\n",
       "\n",
       "    .dataframe tbody tr th {\n",
       "        vertical-align: top;\n",
       "    }\n",
       "\n",
       "    .dataframe thead th {\n",
       "        text-align: right;\n",
       "    }\n",
       "</style>\n",
       "<table border=\"1\" class=\"dataframe\">\n",
       "  <thead>\n",
       "    <tr style=\"text-align: right;\">\n",
       "      <th></th>\n",
       "      <th>spec_id</th>\n",
       "      <th>supplier</th>\n",
       "      <th>date</th>\n",
       "      <th>0</th>\n",
       "      <th>1</th>\n",
       "      <th>2</th>\n",
       "      <th>3</th>\n",
       "      <th>4</th>\n",
       "      <th>5</th>\n",
       "      <th>6</th>\n",
       "      <th>7</th>\n",
       "      <th>8</th>\n",
       "      <th>9</th>\n",
       "      <th>10</th>\n",
       "      <th>11</th>\n",
       "      <th>12</th>\n",
       "      <th>13</th>\n",
       "      <th>14</th>\n",
       "      <th>15</th>\n",
       "    </tr>\n",
       "  </thead>\n",
       "  <tbody>\n",
       "    <tr>\n",
       "      <th>0</th>\n",
       "      <td>Рязанова А.В. ИП Глава К(Ф)Х_ЮР Валуйский МЭЗ ...</td>\n",
       "      <td>Рязанова А.В. ИП Глава К(Ф)Х</td>\n",
       "      <td>2022-07-06</td>\n",
       "      <td>0.012422</td>\n",
       "      <td>-0.152277</td>\n",
       "      <td>-0.371495</td>\n",
       "      <td>0.345143</td>\n",
       "      <td>0.234435</td>\n",
       "      <td>-0.347446</td>\n",
       "      <td>0.003021</td>\n",
       "      <td>-0.117278</td>\n",
       "      <td>0.156940</td>\n",
       "      <td>-0.267533</td>\n",
       "      <td>0.166429</td>\n",
       "      <td>0.015203</td>\n",
       "      <td>-0.192737</td>\n",
       "      <td>0.055639</td>\n",
       "      <td>-0.065744</td>\n",
       "      <td>0.213519</td>\n",
       "    </tr>\n",
       "    <tr>\n",
       "      <th>1</th>\n",
       "      <td>Осипов Л.А. ИП Глава К(Ф)Х_Юг Руси, АО_2022-07-12</td>\n",
       "      <td>Осипов Л.А. ИП Глава К(Ф)Х</td>\n",
       "      <td>2022-07-20</td>\n",
       "      <td>0.306000</td>\n",
       "      <td>-0.582370</td>\n",
       "      <td>-0.616625</td>\n",
       "      <td>0.449130</td>\n",
       "      <td>0.555506</td>\n",
       "      <td>-0.703764</td>\n",
       "      <td>-0.839743</td>\n",
       "      <td>-0.395974</td>\n",
       "      <td>0.175395</td>\n",
       "      <td>-0.431890</td>\n",
       "      <td>0.684241</td>\n",
       "      <td>-0.742406</td>\n",
       "      <td>-0.344925</td>\n",
       "      <td>-0.425448</td>\n",
       "      <td>-0.146025</td>\n",
       "      <td>0.416976</td>\n",
       "    </tr>\n",
       "  </tbody>\n",
       "</table>\n",
       "</div>"
      ],
      "text/plain": [
       "                                             spec_id  \\\n",
       "0  Рязанова А.В. ИП Глава К(Ф)Х_ЮР Валуйский МЭЗ ...   \n",
       "1  Осипов Л.А. ИП Глава К(Ф)Х_Юг Руси, АО_2022-07-12   \n",
       "\n",
       "                       supplier       date         0         1         2  \\\n",
       "0  Рязанова А.В. ИП Глава К(Ф)Х 2022-07-06  0.012422 -0.152277 -0.371495   \n",
       "1    Осипов Л.А. ИП Глава К(Ф)Х 2022-07-20  0.306000 -0.582370 -0.616625   \n",
       "\n",
       "          3         4         5         6         7         8         9  \\\n",
       "0  0.345143  0.234435 -0.347446  0.003021 -0.117278  0.156940 -0.267533   \n",
       "1  0.449130  0.555506 -0.703764 -0.839743 -0.395974  0.175395 -0.431890   \n",
       "\n",
       "         10        11        12        13        14        15  \n",
       "0  0.166429  0.015203 -0.192737  0.055639 -0.065744  0.213519  \n",
       "1  0.684241 -0.742406 -0.344925 -0.425448 -0.146025  0.416976  "
      ]
     },
     "execution_count": 3,
     "metadata": {},
     "output_type": "execute_result"
    }
   ],
   "source": [
    "embed_df.head(2)"
   ]
  },
  {
   "cell_type": "code",
   "execution_count": 4,
   "id": "c10fc136-c0ec-4119-91c3-f5314bc36b9d",
   "metadata": {
    "tags": []
   },
   "outputs": [
    {
     "data": {
      "text/html": [
       "<div>\n",
       "<style scoped>\n",
       "    .dataframe tbody tr th:only-of-type {\n",
       "        vertical-align: middle;\n",
       "    }\n",
       "\n",
       "    .dataframe tbody tr th {\n",
       "        vertical-align: top;\n",
       "    }\n",
       "\n",
       "    .dataframe thead th {\n",
       "        text-align: right;\n",
       "    }\n",
       "</style>\n",
       "<table border=\"1\" class=\"dataframe\">\n",
       "  <thead>\n",
       "    <tr style=\"text-align: right;\">\n",
       "      <th></th>\n",
       "      <th>supplier</th>\n",
       "      <th>supplier_status</th>\n",
       "      <th>item</th>\n",
       "      <th>basis</th>\n",
       "      <th>spec_date</th>\n",
       "      <th>delivery_period_end</th>\n",
       "      <th>payment_terms</th>\n",
       "      <th>option</th>\n",
       "      <th>logistics</th>\n",
       "      <th>declared_price</th>\n",
       "      <th>consent_price</th>\n",
       "      <th>spec_price</th>\n",
       "      <th>volume_requested</th>\n",
       "      <th>volume_contracted</th>\n",
       "      <th>bids_submitted</th>\n",
       "      <th>bids_contracted</th>\n",
       "      <th>id</th>\n",
       "    </tr>\n",
       "  </thead>\n",
       "  <tbody>\n",
       "    <tr>\n",
       "      <th>0</th>\n",
       "      <td>50 ЛЕТ ОКТЯБРЯ ООО</td>\n",
       "      <td>СХТП</td>\n",
       "      <td>подсолнечник</td>\n",
       "      <td>Юг Руси, АО</td>\n",
       "      <td>2022-12-19</td>\n",
       "      <td>2022-12-25</td>\n",
       "      <td>По факту</td>\n",
       "      <td>15.0</td>\n",
       "      <td>0.0</td>\n",
       "      <td>25.5</td>\n",
       "      <td>25.0</td>\n",
       "      <td>25.0</td>\n",
       "      <td>40.0</td>\n",
       "      <td>60.0</td>\n",
       "      <td>1.0</td>\n",
       "      <td>1.0</td>\n",
       "      <td>50 ЛЕТ ОКТЯБРЯ ООО_Юг Руси, АО_2022-12-19</td>\n",
       "    </tr>\n",
       "    <tr>\n",
       "      <th>1</th>\n",
       "      <td>50 ЛЕТ ОКТЯБРЯ ООО</td>\n",
       "      <td>СХТП</td>\n",
       "      <td>подсолнечник</td>\n",
       "      <td>Юг Руси, АО</td>\n",
       "      <td>2023-01-24</td>\n",
       "      <td>2023-02-12</td>\n",
       "      <td>По факту</td>\n",
       "      <td>15.0</td>\n",
       "      <td>0.0</td>\n",
       "      <td>27.5</td>\n",
       "      <td>27.5</td>\n",
       "      <td>27.5</td>\n",
       "      <td>50.0</td>\n",
       "      <td>59.0</td>\n",
       "      <td>1.0</td>\n",
       "      <td>1.0</td>\n",
       "      <td>50 ЛЕТ ОКТЯБРЯ ООО_Юг Руси, АО_2023-01-24</td>\n",
       "    </tr>\n",
       "  </tbody>\n",
       "</table>\n",
       "</div>"
      ],
      "text/plain": [
       "             supplier supplier_status          item        basis  spec_date  \\\n",
       "0  50 ЛЕТ ОКТЯБРЯ ООО            СХТП  подсолнечник  Юг Руси, АО 2022-12-19   \n",
       "1  50 ЛЕТ ОКТЯБРЯ ООО            СХТП  подсолнечник  Юг Руси, АО 2023-01-24   \n",
       "\n",
       "  delivery_period_end payment_terms  option  logistics  declared_price  \\\n",
       "0          2022-12-25      По факту    15.0        0.0            25.5   \n",
       "1          2023-02-12      По факту    15.0        0.0            27.5   \n",
       "\n",
       "   consent_price  spec_price  volume_requested  volume_contracted  \\\n",
       "0           25.0        25.0              40.0               60.0   \n",
       "1           27.5        27.5              50.0               59.0   \n",
       "\n",
       "   bids_submitted  bids_contracted                                         id  \n",
       "0             1.0              1.0  50 ЛЕТ ОКТЯБРЯ ООО_Юг Руси, АО_2022-12-19  \n",
       "1             1.0              1.0  50 ЛЕТ ОКТЯБРЯ ООО_Юг Руси, АО_2023-01-24  "
      ]
     },
     "execution_count": 4,
     "metadata": {},
     "output_type": "execute_result"
    }
   ],
   "source": [
    "spec.head(2)"
   ]
  },
  {
   "cell_type": "code",
   "execution_count": 5,
   "id": "475a2f63-921e-4153-9491-803bd2ba0620",
   "metadata": {
    "tags": []
   },
   "outputs": [
    {
     "name": "stderr",
     "output_type": "stream",
     "text": [
      "100%|█████████████████████████████████████████████████████████████████████████████| 6519/6519 [00:27<00:00, 235.15it/s]\n"
     ]
    }
   ],
   "source": [
    "\"\"\"\n",
    "Создание эмбеддинга поставщика для спецификации:\n",
    "Эмбеддинг получается путём усреднения эмбеддингов по поставкам,\n",
    "которые закончились до начала рассматриваемой спецификации.\n",
    "\"\"\"\n",
    "\n",
    "spec_colums = ['id', 'supplier', 'spec_date', 'bids_contracted']\n",
    "data = pd.DataFrame(columns = list(embed_df.columns[3:]) + spec_colums)\n",
    "\n",
    "for i in tqdm(range(len(spec))):\n",
    "    supplier = spec.loc[i]['supplier']\n",
    "    date = spec.loc[i]['spec_date']\n",
    "    \n",
    "    embed = embed_df.loc[(embed_df['supplier'] == supplier) & (embed_df['date'] < date)] \\\n",
    "        [embed_df.columns[3:]].mean().values\n",
    "    \n",
    "    spec_info = spec.loc[i][spec_colums].values\n",
    "    \n",
    "    data.loc[len(data)] = np.concatenate((embed, spec_info))"
   ]
  },
  {
   "cell_type": "code",
   "execution_count": 6,
   "id": "1d4d2c6c-cdae-4c24-9e12-df704ddfd650",
   "metadata": {
    "tags": []
   },
   "outputs": [
    {
     "name": "stdout",
     "output_type": "stream",
     "text": [
      "У 34.0% поставщик не предсавлен в embed_d\n",
      "У 66.0% поставщика ещё не было поставок\n"
     ]
    }
   ],
   "source": [
    "\"\"\"\n",
    "Анализ пропущенных значений\n",
    "\"\"\"\n",
    "\n",
    "unknown_total = data['0'].isna().sum()\n",
    "unknown_supplier = len(spec[~spec['supplier'].isin(embed_df['supplier'])])\n",
    "supplier_first_spec = spec['supplier'].map(lambda x: embed_df.loc[embed_df['supplier'] == x]['date'].min())\n",
    "unknown_fist_spec = len(spec[spec['spec_date'] <= supplier_first_spec])\n",
    "\n",
    "print(f'У {unknown_supplier/unknown_total*100}% поставщик не предсавлен в embed_d\\n'\n",
    "      + f'У {unknown_fist_spec/unknown_total*100}% поставщика ещё не было поставок')\n",
    "\n",
    "data = data.dropna()"
   ]
  },
  {
   "cell_type": "code",
   "execution_count": 7,
   "id": "fa5b40c5-d7ba-4cb3-937f-bb49eb7fe6df",
   "metadata": {},
   "outputs": [],
   "source": [
    "X_train, X_test, spec_train, spec_test = train_test_split(\n",
    "    data.drop(spec_colums, 1), data[spec_colums],\n",
    "    test_size=0.33, random_state=42\n",
    ")\n",
    "\n",
    "y_train = spec_train['bids_contracted'].astype('int')\n",
    "y_test = spec_test['bids_contracted'].astype('int')"
   ]
  },
  {
   "cell_type": "code",
   "execution_count": 20,
   "id": "3dc415c7-f7a9-47ad-8cfe-49a132a37352",
   "metadata": {},
   "outputs": [
    {
     "name": "stdout",
     "output_type": "stream",
     "text": [
      "Accuracy: 0.6820809248554913\n",
      "ROC AUC: 0.6937069770408902\n"
     ]
    }
   ],
   "source": [
    "model = LogisticRegression().fit(X_train, y_train)\n",
    "\n",
    "accuracy = accuracy_score(y_test, model.predict(X_test))\n",
    "roc_auc = roc_auc_score(y_test, model.predict_proba(X_test)[:, 1])\n",
    "\n",
    "print(f'Accuracy: {accuracy}\\nROC AUC: {roc_auc}')"
   ]
  },
  {
   "cell_type": "code",
   "execution_count": 18,
   "id": "5e91bfaa-6c46-4ea9-97b5-f8d32d3fffbc",
   "metadata": {
    "tags": []
   },
   "outputs": [
    {
     "name": "stdout",
     "output_type": "stream",
     "text": [
      "Accuracy: 0.7241948802642444\n",
      "ROC AUC: 0.7455288018232745\n"
     ]
    }
   ],
   "source": [
    "model = CatBoostClassifier(verbose = 0).fit(X_train, y_train)\n",
    "\n",
    "accuracy = accuracy_score(y_test, model.predict(X_test))\n",
    "roc_auc = roc_auc_score(y_test, model.predict_proba(X_test)[:, 1])\n",
    "\n",
    "print(f'Accuracy: {accuracy}\\nROC AUC: {roc_auc}')"
   ]
  },
  {
   "cell_type": "code",
   "execution_count": 21,
   "id": "8630ee48-58f3-4d32-8d4a-2c1cf2117ea6",
   "metadata": {
    "tags": []
   },
   "outputs": [
    {
     "name": "stdout",
     "output_type": "stream",
     "text": [
      "Mean average precision: 0.7439275559830176\n"
     ]
    }
   ],
   "source": [
    "\"\"\"\n",
    "Собираем предсказания по каждому дню\n",
    "\"\"\"\n",
    "\n",
    "actual = []\n",
    "predicted = []\n",
    "days_indexes = spec_test.groupby('spec_date').apply(lambda x: x.index)\n",
    "\n",
    "for day in days_indexes:\n",
    "    actual.append(y_test.loc[day].values)\n",
    "    predicted.append(model.predict_proba(X_test.loc[day])[:, 1])\n",
    "\n",
    "def map_(actual, predicted):\n",
    "    return np.mean([average_precision_score(a,p) for a,p in zip(actual, predicted)])\n",
    "\n",
    "print(f'Mean average precision: {map_(actual, predicted)}')"
   ]
  },
  {
   "cell_type": "code",
   "execution_count": null,
   "id": "2783d558-714a-476e-9d35-354992ad9f1c",
   "metadata": {},
   "outputs": [],
   "source": []
  },
  {
   "cell_type": "code",
   "execution_count": null,
   "id": "6208d934-61a6-42ef-af4b-55c4c6ee9c13",
   "metadata": {},
   "outputs": [],
   "source": []
  },
  {
   "cell_type": "code",
   "execution_count": null,
   "id": "e49824ca-5e1c-4e80-b33c-8addd9b104ac",
   "metadata": {},
   "outputs": [],
   "source": []
  },
  {
   "cell_type": "code",
   "execution_count": null,
   "id": "62e8ad65-b40a-4bf0-98b6-843cf1d520ba",
   "metadata": {},
   "outputs": [],
   "source": []
  },
  {
   "cell_type": "code",
   "execution_count": null,
   "id": "522ded2f-6d05-4132-9e4d-f3bde9463424",
   "metadata": {},
   "outputs": [],
   "source": []
  },
  {
   "cell_type": "code",
   "execution_count": null,
   "id": "53b0f59d-8609-4d3c-a8d6-7c18fb8e16a2",
   "metadata": {},
   "outputs": [],
   "source": []
  },
  {
   "cell_type": "code",
   "execution_count": null,
   "id": "34611b50-1989-4a48-8697-59426ab08356",
   "metadata": {},
   "outputs": [],
   "source": []
  },
  {
   "cell_type": "code",
   "execution_count": null,
   "id": "be10516f-5b20-4665-b51b-50fb507350b2",
   "metadata": {},
   "outputs": [],
   "source": []
  }
 ],
 "metadata": {
  "kernelspec": {
   "display_name": "Python 3 (ipykernel)",
   "language": "python",
   "name": "python3"
  },
  "language_info": {
   "codemirror_mode": {
    "name": "ipython",
    "version": 3
   },
   "file_extension": ".py",
   "mimetype": "text/x-python",
   "name": "python",
   "nbconvert_exporter": "python",
   "pygments_lexer": "ipython3",
   "version": "3.11.3"
  }
 },
 "nbformat": 4,
 "nbformat_minor": 5
}
