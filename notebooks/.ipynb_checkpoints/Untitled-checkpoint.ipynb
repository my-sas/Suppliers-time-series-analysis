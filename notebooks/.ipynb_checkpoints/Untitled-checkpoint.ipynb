{
 "cells": [
  {
   "cell_type": "code",
   "execution_count": 1,
   "id": "7320ca01-8562-4da4-9c0d-4d747c426397",
   "metadata": {
    "tags": []
   },
   "outputs": [],
   "source": [
    "import random\n",
    "import numpy as np\n",
    "import pandas as pd\n",
    "\n",
    "import seaborn as sns\n",
    "import matplotlib.pyplot as plt\n",
    "import matplotlib.colors as mcolors\n",
    "import matplotlib.patches as mpatches\n",
    "\n",
    "from sklearn.metrics import confusion_matrix\n",
    "from sklearn.preprocessing import StandardScaler\n",
    "from sklearn.preprocessing import OneHotEncoder\n",
    "\n",
    "import sys\n",
    "import os\n",
    "sys.path.append(os.path.abspath('../data'))\n",
    "from preprocessing import Preprocessor\n",
    "\n",
    "import warnings\n",
    "warnings.filterwarnings('ignore')\n",
    "\n",
    "pd.set_option('display.max_columns', None)"
   ]
  },
  {
   "cell_type": "code",
   "execution_count": 2,
   "id": "123a1a51-3337-4be2-b9a0-461c69b4781b",
   "metadata": {
    "tags": []
   },
   "outputs": [
    {
     "name": "stderr",
     "output_type": "stream",
     "text": [
      "Duplicate rows cleaning: 620it [00:01, 331.26it/s]\n"
     ]
    }
   ],
   "source": [
    "preprocessor = Preprocessor()\n",
    "zpp4 = preprocessor.zpp4_preprocessing()\n",
    "spec = preprocessor.spec_preprocessing()"
   ]
  },
  {
   "cell_type": "code",
   "execution_count": 3,
   "id": "a0f12efb-1445-4c2a-a00a-fea12d7a8d08",
   "metadata": {
    "tags": []
   },
   "outputs": [
    {
     "data": {
      "text/html": [
       "<div>\n",
       "<style scoped>\n",
       "    .dataframe tbody tr th:only-of-type {\n",
       "        vertical-align: middle;\n",
       "    }\n",
       "\n",
       "    .dataframe tbody tr th {\n",
       "        vertical-align: top;\n",
       "    }\n",
       "\n",
       "    .dataframe thead th {\n",
       "        text-align: right;\n",
       "    }\n",
       "</style>\n",
       "<table border=\"1\" class=\"dataframe\">\n",
       "  <thead>\n",
       "    <tr style=\"text-align: right;\">\n",
       "      <th></th>\n",
       "      <th>date</th>\n",
       "      <th>supplier</th>\n",
       "      <th>basis</th>\n",
       "      <th>spec_date</th>\n",
       "      <th>contract_price</th>\n",
       "      <th>estimated_price</th>\n",
       "      <th>contract_price1</th>\n",
       "      <th>estimated_price1</th>\n",
       "      <th>quantity</th>\n",
       "      <th>sum</th>\n",
       "      <th>price_change</th>\n",
       "      <th>id</th>\n",
       "    </tr>\n",
       "  </thead>\n",
       "  <tbody>\n",
       "    <tr>\n",
       "      <th>0</th>\n",
       "      <td>2022-07-02</td>\n",
       "      <td>СОЮЗ ООО Ростов</td>\n",
       "      <td>Юг Руси, АО</td>\n",
       "      <td>2022-06-15</td>\n",
       "      <td>30.0</td>\n",
       "      <td>30.29</td>\n",
       "      <td>30.0</td>\n",
       "      <td>30.32</td>\n",
       "      <td>27.05</td>\n",
       "      <td>820156.0</td>\n",
       "      <td>1.07</td>\n",
       "      <td>СОЮЗ ООО Ростов_Юг Руси, АО_2022-06-15</td>\n",
       "    </tr>\n",
       "    <tr>\n",
       "      <th>1</th>\n",
       "      <td>2022-07-02</td>\n",
       "      <td>СОЮЗ ООО Ростов</td>\n",
       "      <td>Юг Руси, АО</td>\n",
       "      <td>2022-06-15</td>\n",
       "      <td>30.0</td>\n",
       "      <td>30.29</td>\n",
       "      <td>30.0</td>\n",
       "      <td>31.02</td>\n",
       "      <td>28.78</td>\n",
       "      <td>892755.6</td>\n",
       "      <td>3.40</td>\n",
       "      <td>СОЮЗ ООО Ростов_Юг Руси, АО_2022-06-15</td>\n",
       "    </tr>\n",
       "  </tbody>\n",
       "</table>\n",
       "</div>"
      ],
      "text/plain": [
       "        date         supplier        basis  spec_date  contract_price  \\\n",
       "0 2022-07-02  СОЮЗ ООО Ростов  Юг Руси, АО 2022-06-15            30.0   \n",
       "1 2022-07-02  СОЮЗ ООО Ростов  Юг Руси, АО 2022-06-15            30.0   \n",
       "\n",
       "   estimated_price  contract_price1  estimated_price1  quantity       sum  \\\n",
       "0            30.29             30.0             30.32     27.05  820156.0   \n",
       "1            30.29             30.0             31.02     28.78  892755.6   \n",
       "\n",
       "   price_change                                      id  \n",
       "0          1.07  СОЮЗ ООО Ростов_Юг Руси, АО_2022-06-15  \n",
       "1          3.40  СОЮЗ ООО Ростов_Юг Руси, АО_2022-06-15  "
      ]
     },
     "execution_count": 3,
     "metadata": {},
     "output_type": "execute_result"
    }
   ],
   "source": [
    "zpp4.head(2)"
   ]
  },
  {
   "cell_type": "code",
   "execution_count": 4,
   "id": "aa3fc8bc-ac4e-4610-897f-3cd7bc3123de",
   "metadata": {
    "tags": []
   },
   "outputs": [
    {
     "data": {
      "text/html": [
       "<div>\n",
       "<style scoped>\n",
       "    .dataframe tbody tr th:only-of-type {\n",
       "        vertical-align: middle;\n",
       "    }\n",
       "\n",
       "    .dataframe tbody tr th {\n",
       "        vertical-align: top;\n",
       "    }\n",
       "\n",
       "    .dataframe thead th {\n",
       "        text-align: right;\n",
       "    }\n",
       "</style>\n",
       "<table border=\"1\" class=\"dataframe\">\n",
       "  <thead>\n",
       "    <tr style=\"text-align: right;\">\n",
       "      <th></th>\n",
       "      <th>supplier</th>\n",
       "      <th>supplier_status</th>\n",
       "      <th>item</th>\n",
       "      <th>basis</th>\n",
       "      <th>spec_date</th>\n",
       "      <th>delivery_period_end</th>\n",
       "      <th>payment_terms</th>\n",
       "      <th>option</th>\n",
       "      <th>logistics</th>\n",
       "      <th>declared_price</th>\n",
       "      <th>consent_price</th>\n",
       "      <th>spec_price</th>\n",
       "      <th>volume_requested</th>\n",
       "      <th>volume_contracted</th>\n",
       "      <th>bids_submitted</th>\n",
       "      <th>bids_contracted</th>\n",
       "      <th>id</th>\n",
       "    </tr>\n",
       "  </thead>\n",
       "  <tbody>\n",
       "    <tr>\n",
       "      <th>0</th>\n",
       "      <td>50 ЛЕТ ОКТЯБРЯ ООО</td>\n",
       "      <td>СХТП</td>\n",
       "      <td>подсолнечник</td>\n",
       "      <td>Юг Руси, АО</td>\n",
       "      <td>2022-12-19</td>\n",
       "      <td>2022-12-25</td>\n",
       "      <td>По факту</td>\n",
       "      <td>15.0</td>\n",
       "      <td>0.0</td>\n",
       "      <td>25.5</td>\n",
       "      <td>25.0</td>\n",
       "      <td>25.0</td>\n",
       "      <td>40.0</td>\n",
       "      <td>60.0</td>\n",
       "      <td>1.0</td>\n",
       "      <td>1.0</td>\n",
       "      <td>50 ЛЕТ ОКТЯБРЯ ООО_Юг Руси, АО_2022-12-19</td>\n",
       "    </tr>\n",
       "    <tr>\n",
       "      <th>1</th>\n",
       "      <td>50 ЛЕТ ОКТЯБРЯ ООО</td>\n",
       "      <td>СХТП</td>\n",
       "      <td>подсолнечник</td>\n",
       "      <td>Юг Руси, АО</td>\n",
       "      <td>2023-01-24</td>\n",
       "      <td>2023-02-12</td>\n",
       "      <td>По факту</td>\n",
       "      <td>15.0</td>\n",
       "      <td>0.0</td>\n",
       "      <td>27.5</td>\n",
       "      <td>27.5</td>\n",
       "      <td>27.5</td>\n",
       "      <td>50.0</td>\n",
       "      <td>59.0</td>\n",
       "      <td>1.0</td>\n",
       "      <td>1.0</td>\n",
       "      <td>50 ЛЕТ ОКТЯБРЯ ООО_Юг Руси, АО_2023-01-24</td>\n",
       "    </tr>\n",
       "  </tbody>\n",
       "</table>\n",
       "</div>"
      ],
      "text/plain": [
       "             supplier supplier_status          item        basis  spec_date  \\\n",
       "0  50 ЛЕТ ОКТЯБРЯ ООО            СХТП  подсолнечник  Юг Руси, АО 2022-12-19   \n",
       "1  50 ЛЕТ ОКТЯБРЯ ООО            СХТП  подсолнечник  Юг Руси, АО 2023-01-24   \n",
       "\n",
       "  delivery_period_end payment_terms  option  logistics  declared_price  \\\n",
       "0          2022-12-25      По факту    15.0        0.0            25.5   \n",
       "1          2023-02-12      По факту    15.0        0.0            27.5   \n",
       "\n",
       "   consent_price  spec_price  volume_requested  volume_contracted  \\\n",
       "0           25.0        25.0              40.0               60.0   \n",
       "1           27.5        27.5              50.0               59.0   \n",
       "\n",
       "   bids_submitted  bids_contracted                                         id  \n",
       "0             1.0              1.0  50 ЛЕТ ОКТЯБРЯ ООО_Юг Руси, АО_2022-12-19  \n",
       "1             1.0              1.0  50 ЛЕТ ОКТЯБРЯ ООО_Юг Руси, АО_2023-01-24  "
      ]
     },
     "execution_count": 4,
     "metadata": {},
     "output_type": "execute_result"
    }
   ],
   "source": [
    "spec.head(2)"
   ]
  },
  {
   "cell_type": "code",
   "execution_count": 51,
   "id": "888574f7-e69f-4886-9a1d-e2f286ec6b2c",
   "metadata": {
    "tags": []
   },
   "outputs": [],
   "source": [
    "spec['late'] = spec.apply(lambda row: (zpp4.loc[zpp4['id'] == row['id']]['date'].max() - row['delivery_period_end']).days, axis=1)\n",
    "# spec['late'] = (spec['late'] > 0).astype(int)"
   ]
  },
  {
   "cell_type": "code",
   "execution_count": 37,
   "id": "8c377530-3f6c-4768-a561-2ff9dacdf751",
   "metadata": {
    "tags": []
   },
   "outputs": [],
   "source": [
    "# zpp4.to_csv('../data/processed_data/zpp4.csv', index=False)\n",
    "# spec.to_csv('../data/processed_data/specs.csv', index=False)"
   ]
  },
  {
   "cell_type": "code",
   "execution_count": 38,
   "id": "a4746b0e-032c-4bff-bbf5-a92b6f268f46",
   "metadata": {},
   "outputs": [
    {
     "name": "stdout",
     "output_type": "stream",
     "text": [
      "<class 'pandas.core.frame.DataFrame'>\n",
      "RangeIndex: 6519 entries, 0 to 6518\n",
      "Data columns (total 18 columns):\n",
      " #   Column               Non-Null Count  Dtype         \n",
      "---  ------               --------------  -----         \n",
      " 0   supplier             6519 non-null   object        \n",
      " 1   supplier_status      6519 non-null   object        \n",
      " 2   item                 6519 non-null   object        \n",
      " 3   basis                6519 non-null   object        \n",
      " 4   spec_date            6519 non-null   datetime64[ns]\n",
      " 5   delivery_period_end  6519 non-null   datetime64[ns]\n",
      " 6   payment_terms        6519 non-null   object        \n",
      " 7   option               6519 non-null   float64       \n",
      " 8   logistics            6519 non-null   float64       \n",
      " 9   declared_price       6519 non-null   float64       \n",
      " 10  consent_price        6519 non-null   float64       \n",
      " 11  spec_price           6519 non-null   float64       \n",
      " 12  volume_requested     6519 non-null   float64       \n",
      " 13  volume_contracted    6519 non-null   float64       \n",
      " 14  bids_submitted       6519 non-null   float64       \n",
      " 15  bids_contracted      6519 non-null   float64       \n",
      " 16  id                   6519 non-null   object        \n",
      " 17  late                 3507 non-null   float64       \n",
      "dtypes: datetime64[ns](2), float64(10), object(6)\n",
      "memory usage: 916.9+ KB\n"
     ]
    }
   ],
   "source": [
    "spec.info()"
   ]
  },
  {
   "cell_type": "code",
   "execution_count": 52,
   "id": "3c561d26-330e-49f6-9722-4a98fda1bfcd",
   "metadata": {},
   "outputs": [
    {
     "data": {
      "text/plain": [
       "<Axes: xlabel='late', ylabel='Count'>"
      ]
     },
     "execution_count": 52,
     "metadata": {},
     "output_type": "execute_result"
    },
    {
     "data": {
      "image/png": "[encoded data removed]",
      "text/plain": [
       "<Figure size 640x480 with 1 Axes>"
      ]
     },
     "metadata": {},
     "output_type": "display_data"
    }
   ],
   "source": [
    "sns.histplot(spec['late'])"
   ]
  },
  {
   "cell_type": "code",
   "execution_count": null,
   "id": "36b004b4-bd0c-46bf-987a-1a0b996888f4",
   "metadata": {},
   "outputs": [],
   "source": []
  },
  {
   "cell_type": "code",
   "execution_count": null,
   "id": "2211b33f-fe87-420e-9479-560c727b7cc8",
   "metadata": {},
   "outputs": [],
   "source": []
  },
  {
   "cell_type": "code",
   "execution_count": null,
   "id": "4756f894-d16d-4b59-9908-b3fcd3bfff5b",
   "metadata": {},
   "outputs": [],
   "source": []
  },
  {
   "cell_type": "code",
   "execution_count": null,
   "id": "047f42d0-5c34-4ee4-a04e-d93c82973a00",
   "metadata": {},
   "outputs": [],
   "source": []
  },
  {
   "cell_type": "code",
   "execution_count": null,
   "id": "fe473d2e-c84d-4490-837a-f25e1f8557e8",
   "metadata": {},
   "outputs": [],
   "source": []
  },
  {
   "cell_type": "code",
   "execution_count": null,
   "id": "4fd7dea9-a4c6-40e1-afaa-22bc698b54f6",
   "metadata": {},
   "outputs": [],
   "source": []
  },
  {
   "cell_type": "code",
   "execution_count": null,
   "id": "c5cf9499-3482-46c1-9de0-f40138b0ebcc",
   "metadata": {},
   "outputs": [],
   "source": []
  },
  {
   "cell_type": "code",
   "execution_count": null,
   "id": "6f6b3eb0-33d9-42ba-80cb-7ee71a9a8d97",
   "metadata": {},
   "outputs": [],
   "source": []
  }
 ],
 "metadata": {
  "kernelspec": {
   "display_name": "Python 3 (ipykernel)",
   "language": "python",
   "name": "python3"
  },
  "language_info": {
   "codemirror_mode": {
    "name": "ipython",
    "version": 3
   },
   "file_extension": ".py",
   "mimetype": "text/x-python",
   "name": "python",
   "nbconvert_exporter": "python",
   "pygments_lexer": "ipython3",
   "version": "3.11.3"
  }
 },
 "nbformat": 4,
 "nbformat_minor": 5
}
