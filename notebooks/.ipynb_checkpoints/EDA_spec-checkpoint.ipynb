{
 "cells": [
  {
   "cell_type": "code",
   "execution_count": 1,
   "id": "7320ca01-8562-4da4-9c0d-4d747c426397",
   "metadata": {
    "tags": []
   },
   "outputs": [],
   "source": [
    "import random\n",
    "import numpy as np\n",
    "import pandas as pd\n",
    "\n",
    "import seaborn as sns\n",
    "import matplotlib.pyplot as plt\n",
    "import matplotlib.colors as mcolors\n",
    "import matplotlib.patches as mpatches\n",
    "\n",
    "from sklearn.metrics import confusion_matrix\n",
    "from sklearn.preprocessing import StandardScaler\n",
    "from sklearn.preprocessing import OneHotEncoder\n",
    "\n",
    "import sys\n",
    "import os\n",
    "sys.path.append(os.path.abspath('../data'))\n",
    "from preprocessing import Preprocessor\n",
    "\n",
    "import warnings\n",
    "warnings.filterwarnings('ignore')\n",
    "\n",
    "pd.set_option('display.max_columns', None)"
   ]
  },
  {
   "cell_type": "code",
   "execution_count": 2,
   "id": "123a1a51-3337-4be2-b9a0-461c69b4781b",
   "metadata": {
    "tags": []
   },
   "outputs": [
    {
     "name": "stderr",
     "output_type": "stream",
     "text": [
      "Duplicate rows cleaning: 620it [00:02, 248.61it/s]\n"
     ]
    }
   ],
   "source": [
    "preprocessor = Preprocessor()\n",
    "zpp4 = preprocessor.zpp4_preprocessing()\n",
    "spec = preprocessor.spec_preprocessing()"
   ]
  },
  {
   "cell_type": "code",
   "execution_count": 3,
   "id": "a0f12efb-1445-4c2a-a00a-fea12d7a8d08",
   "metadata": {
    "tags": []
   },
   "outputs": [
    {
     "data": {
      "text/html": [
       "<div>\n",
       "<style scoped>\n",
       "    .dataframe tbody tr th:only-of-type {\n",
       "        vertical-align: middle;\n",
       "    }\n",
       "\n",
       "    .dataframe tbody tr th {\n",
       "        vertical-align: top;\n",
       "    }\n",
       "\n",
       "    .dataframe thead th {\n",
       "        text-align: right;\n",
       "    }\n",
       "</style>\n",
       "<table border=\"1\" class=\"dataframe\">\n",
       "  <thead>\n",
       "    <tr style=\"text-align: right;\">\n",
       "      <th></th>\n",
       "      <th>date</th>\n",
       "      <th>supplier</th>\n",
       "      <th>basis</th>\n",
       "      <th>spec_date</th>\n",
       "      <th>contract_price</th>\n",
       "      <th>estimated_price</th>\n",
       "      <th>contract_price1</th>\n",
       "      <th>estimated_price1</th>\n",
       "      <th>quantity</th>\n",
       "      <th>sum</th>\n",
       "      <th>price_change</th>\n",
       "      <th>id</th>\n",
       "    </tr>\n",
       "  </thead>\n",
       "  <tbody>\n",
       "    <tr>\n",
       "      <th>0</th>\n",
       "      <td>2022-07-02</td>\n",
       "      <td>СОЮЗ ООО Ростов</td>\n",
       "      <td>Юг Руси, АО</td>\n",
       "      <td>2022-06-15</td>\n",
       "      <td>30.0</td>\n",
       "      <td>30.29</td>\n",
       "      <td>30.0</td>\n",
       "      <td>30.32</td>\n",
       "      <td>27.05</td>\n",
       "      <td>820156.0</td>\n",
       "      <td>1.07</td>\n",
       "      <td>СОЮЗ ООО Ростов_Юг Руси, АО_2022-06-15</td>\n",
       "    </tr>\n",
       "    <tr>\n",
       "      <th>1</th>\n",
       "      <td>2022-07-02</td>\n",
       "      <td>СОЮЗ ООО Ростов</td>\n",
       "      <td>Юг Руси, АО</td>\n",
       "      <td>2022-06-15</td>\n",
       "      <td>30.0</td>\n",
       "      <td>30.29</td>\n",
       "      <td>30.0</td>\n",
       "      <td>31.02</td>\n",
       "      <td>28.78</td>\n",
       "      <td>892755.6</td>\n",
       "      <td>3.40</td>\n",
       "      <td>СОЮЗ ООО Ростов_Юг Руси, АО_2022-06-15</td>\n",
       "    </tr>\n",
       "  </tbody>\n",
       "</table>\n",
       "</div>"
      ],
      "text/plain": [
       "        date         supplier        basis  spec_date  contract_price  \\\n",
       "0 2022-07-02  СОЮЗ ООО Ростов  Юг Руси, АО 2022-06-15            30.0   \n",
       "1 2022-07-02  СОЮЗ ООО Ростов  Юг Руси, АО 2022-06-15            30.0   \n",
       "\n",
       "   estimated_price  contract_price1  estimated_price1  quantity       sum  \\\n",
       "0            30.29             30.0             30.32     27.05  820156.0   \n",
       "1            30.29             30.0             31.02     28.78  892755.6   \n",
       "\n",
       "   price_change                                      id  \n",
       "0          1.07  СОЮЗ ООО Ростов_Юг Руси, АО_2022-06-15  \n",
       "1          3.40  СОЮЗ ООО Ростов_Юг Руси, АО_2022-06-15  "
      ]
     },
     "execution_count": 3,
     "metadata": {},
     "output_type": "execute_result"
    }
   ],
   "source": [
    "zpp4.head(2)"
   ]
  },
  {
   "cell_type": "code",
   "execution_count": 4,
   "id": "aa3fc8bc-ac4e-4610-897f-3cd7bc3123de",
   "metadata": {
    "tags": []
   },
   "outputs": [
    {
     "data": {
      "text/html": [
       "<div>\n",
       "<style scoped>\n",
       "    .dataframe tbody tr th:only-of-type {\n",
       "        vertical-align: middle;\n",
       "    }\n",
       "\n",
       "    .dataframe tbody tr th {\n",
       "        vertical-align: top;\n",
       "    }\n",
       "\n",
       "    .dataframe thead th {\n",
       "        text-align: right;\n",
       "    }\n",
       "</style>\n",
       "<table border=\"1\" class=\"dataframe\">\n",
       "  <thead>\n",
       "    <tr style=\"text-align: right;\">\n",
       "      <th></th>\n",
       "      <th>supplier</th>\n",
       "      <th>supplier_status</th>\n",
       "      <th>item</th>\n",
       "      <th>basis</th>\n",
       "      <th>spec_date</th>\n",
       "      <th>delivery_period_end</th>\n",
       "      <th>payment_terms</th>\n",
       "      <th>option</th>\n",
       "      <th>logistics</th>\n",
       "      <th>declared_price</th>\n",
       "      <th>consent_price</th>\n",
       "      <th>spec_price</th>\n",
       "      <th>volume_requested</th>\n",
       "      <th>volume_contracted</th>\n",
       "      <th>bids_submitted</th>\n",
       "      <th>bids_contracted</th>\n",
       "      <th>id</th>\n",
       "    </tr>\n",
       "  </thead>\n",
       "  <tbody>\n",
       "    <tr>\n",
       "      <th>0</th>\n",
       "      <td>50 ЛЕТ ОКТЯБРЯ ООО</td>\n",
       "      <td>СХТП</td>\n",
       "      <td>подсолнечник</td>\n",
       "      <td>Юг Руси, АО</td>\n",
       "      <td>2022-12-19</td>\n",
       "      <td>2022-12-25</td>\n",
       "      <td>По факту</td>\n",
       "      <td>15.0</td>\n",
       "      <td>0.0</td>\n",
       "      <td>25.5</td>\n",
       "      <td>25.0</td>\n",
       "      <td>25.0</td>\n",
       "      <td>40.0</td>\n",
       "      <td>60.0</td>\n",
       "      <td>1.0</td>\n",
       "      <td>1.0</td>\n",
       "      <td>50 ЛЕТ ОКТЯБРЯ ООО_Юг Руси, АО_2022-12-19</td>\n",
       "    </tr>\n",
       "    <tr>\n",
       "      <th>1</th>\n",
       "      <td>50 ЛЕТ ОКТЯБРЯ ООО</td>\n",
       "      <td>СХТП</td>\n",
       "      <td>подсолнечник</td>\n",
       "      <td>Юг Руси, АО</td>\n",
       "      <td>2023-01-24</td>\n",
       "      <td>2023-02-12</td>\n",
       "      <td>По факту</td>\n",
       "      <td>15.0</td>\n",
       "      <td>0.0</td>\n",
       "      <td>27.5</td>\n",
       "      <td>27.5</td>\n",
       "      <td>27.5</td>\n",
       "      <td>50.0</td>\n",
       "      <td>59.0</td>\n",
       "      <td>1.0</td>\n",
       "      <td>1.0</td>\n",
       "      <td>50 ЛЕТ ОКТЯБРЯ ООО_Юг Руси, АО_2023-01-24</td>\n",
       "    </tr>\n",
       "  </tbody>\n",
       "</table>\n",
       "</div>"
      ],
      "text/plain": [
       "             supplier supplier_status          item        basis  spec_date  \\\n",
       "0  50 ЛЕТ ОКТЯБРЯ ООО            СХТП  подсолнечник  Юг Руси, АО 2022-12-19   \n",
       "1  50 ЛЕТ ОКТЯБРЯ ООО            СХТП  подсолнечник  Юг Руси, АО 2023-01-24   \n",
       "\n",
       "  delivery_period_end payment_terms  option  logistics  declared_price  \\\n",
       "0          2022-12-25      По факту    15.0        0.0            25.5   \n",
       "1          2023-02-12      По факту    15.0        0.0            27.5   \n",
       "\n",
       "   consent_price  spec_price  volume_requested  volume_contracted  \\\n",
       "0           25.0        25.0              40.0               60.0   \n",
       "1           27.5        27.5              50.0               59.0   \n",
       "\n",
       "   bids_submitted  bids_contracted                                         id  \n",
       "0             1.0              1.0  50 ЛЕТ ОКТЯБРЯ ООО_Юг Руси, АО_2022-12-19  \n",
       "1             1.0              1.0  50 ЛЕТ ОКТЯБРЯ ООО_Юг Руси, АО_2023-01-24  "
      ]
     },
     "execution_count": 4,
     "metadata": {},
     "output_type": "execute_result"
    }
   ],
   "source": [
    "spec.head(2)"
   ]
  },
  {
   "cell_type": "code",
   "execution_count": 10,
   "id": "36b004b4-bd0c-46bf-987a-1a0b996888f4",
   "metadata": {},
   "outputs": [
    {
     "data": {
      "text/plain": [
       "<Axes: xlabel='bids_contracted', ylabel='delivery_length'>"
      ]
     },
     "execution_count": 10,
     "metadata": {},
     "output_type": "execute_result"
    },
    {
     "data": {
      "image/png": "[encoded data removed]",
      "text/plain": [
       "<Figure size 640x480 with 1 Axes>"
      ]
     },
     "metadata": {},
     "output_type": "display_data"
    }
   ],
   "source": [
    "spec['delivery_length'] = (spec['delivery_period_end'] - spec['spec_date']).map(lambda x: x.days)\n",
    "\n",
    "sns.boxplot(x=spec['bids_contracted'], y=spec['delivery_length'], showfliers=False)"
   ]
  },
  {
   "cell_type": "code",
   "execution_count": 25,
   "id": "b7f13b9a-e3c7-43cd-a1ee-daa4b1c9a281",
   "metadata": {
    "tags": []
   },
   "outputs": [
    {
     "data": {
      "text/plain": [
       "<Axes: xlabel='supplier_status', ylabel='Count'>"
      ]
     },
     "execution_count": 25,
     "metadata": {},
     "output_type": "execute_result"
    },
    {
     "data": {
      "image/png": "[encoded data removed]",
      "text/plain": [
       "<Figure size 640x480 with 1 Axes>"
      ]
     },
     "metadata": {},
     "output_type": "display_data"
    }
   ],
   "source": [
    "sns.histplot(spec.loc[spec['bids_contracted'] == 0]['supplier_status'].astype(str))\n",
    "sns.histplot(spec.loc[spec['bids_contracted'] == 1]['supplier_status'].astype(str))"
   ]
  },
  {
   "cell_type": "code",
   "execution_count": 32,
   "id": "a3ddda77-3803-4934-aa52-edc40f53b263",
   "metadata": {
    "tags": []
   },
   "outputs": [
    {
     "data": {
      "text/plain": [
       "<Axes: xlabel='option', ylabel='Count'>"
      ]
     },
     "execution_count": 32,
     "metadata": {},
     "output_type": "execute_result"
    },
    {
     "data": {
      "image/png": "[encoded data removed]",
      "text/plain": [
       "<Figure size 640x480 with 1 Axes>"
      ]
     },
     "metadata": {},
     "output_type": "display_data"
    }
   ],
   "source": [
    "sns.histplot(spec.loc[spec['bids_contracted'] == 0]['option'].astype(str))\n",
    "sns.histplot(spec.loc[spec['bids_contracted'] == 1]['option'].astype(str))"
   ]
  },
  {
   "cell_type": "code",
   "execution_count": 43,
   "id": "87d06bc0-a490-44a4-a8b1-2729ded795ec",
   "metadata": {
    "tags": []
   },
   "outputs": [
    {
     "data": {
      "text/plain": [
       "<Axes: xlabel='bids_contracted', ylabel='declared_price'>"
      ]
     },
     "execution_count": 43,
     "metadata": {},
     "output_type": "execute_result"
    },
    {
     "data": {
      "image/png": "[encoded data removed]",
      "text/plain": [
       "<Figure size 640x480 with 1 Axes>"
      ]
     },
     "metadata": {},
     "output_type": "display_data"
    }
   ],
   "source": [
    "sns.boxplot(x=spec['bids_contracted'], y=spec['declared_price'], showfliers=False)"
   ]
  },
  {
   "cell_type": "code",
   "execution_count": 47,
   "id": "2b8c5e81-0b93-45ab-9e2f-764c1228767e",
   "metadata": {
    "tags": []
   },
   "outputs": [
    {
     "data": {
      "text/plain": [
       "<Axes: xlabel='bids_contracted', ylabel='volume_requested'>"
      ]
     },
     "execution_count": 47,
     "metadata": {},
     "output_type": "execute_result"
    },
    {
     "data": {
      "image/png": "[encoded data removed]",
      "text/plain": [
       "<Figure size 640x480 with 1 Axes>"
      ]
     },
     "metadata": {},
     "output_type": "display_data"
    }
   ],
   "source": [
    "sns.boxplot(x=spec['bids_contracted'], y=spec['volume_requested'], showfliers=False)"
   ]
  },
  {
   "cell_type": "code",
   "execution_count": 48,
   "id": "9cebf57f-152b-4fac-b3e0-3ae30be5effe",
   "metadata": {
    "tags": []
   },
   "outputs": [
    {
     "data": {
      "text/html": [
       "<div>\n",
       "<style scoped>\n",
       "    .dataframe tbody tr th:only-of-type {\n",
       "        vertical-align: middle;\n",
       "    }\n",
       "\n",
       "    .dataframe tbody tr th {\n",
       "        vertical-align: top;\n",
       "    }\n",
       "\n",
       "    .dataframe thead th {\n",
       "        text-align: right;\n",
       "    }\n",
       "</style>\n",
       "<table border=\"1\" class=\"dataframe\">\n",
       "  <thead>\n",
       "    <tr style=\"text-align: right;\">\n",
       "      <th></th>\n",
       "      <th>supplier</th>\n",
       "      <th>supplier_status</th>\n",
       "      <th>item</th>\n",
       "      <th>basis</th>\n",
       "      <th>spec_date</th>\n",
       "      <th>delivery_period_end</th>\n",
       "      <th>payment_terms</th>\n",
       "      <th>option</th>\n",
       "      <th>logistics</th>\n",
       "      <th>declared_price</th>\n",
       "      <th>consent_price</th>\n",
       "      <th>spec_price</th>\n",
       "      <th>volume_requested</th>\n",
       "      <th>volume_contracted</th>\n",
       "      <th>bids_submitted</th>\n",
       "      <th>bids_contracted</th>\n",
       "      <th>id</th>\n",
       "      <th>delivery_length</th>\n",
       "    </tr>\n",
       "  </thead>\n",
       "  <tbody>\n",
       "    <tr>\n",
       "      <th>0</th>\n",
       "      <td>50 ЛЕТ ОКТЯБРЯ ООО</td>\n",
       "      <td>СХТП</td>\n",
       "      <td>подсолнечник</td>\n",
       "      <td>Юг Руси, АО</td>\n",
       "      <td>2022-12-19</td>\n",
       "      <td>2022-12-25</td>\n",
       "      <td>По факту</td>\n",
       "      <td>15.0</td>\n",
       "      <td>0.0</td>\n",
       "      <td>25.5</td>\n",
       "      <td>25.0</td>\n",
       "      <td>25.0</td>\n",
       "      <td>40.0</td>\n",
       "      <td>60.0</td>\n",
       "      <td>1.0</td>\n",
       "      <td>1.0</td>\n",
       "      <td>50 ЛЕТ ОКТЯБРЯ ООО_Юг Руси, АО_2022-12-19</td>\n",
       "      <td>6</td>\n",
       "    </tr>\n",
       "    <tr>\n",
       "      <th>1</th>\n",
       "      <td>50 ЛЕТ ОКТЯБРЯ ООО</td>\n",
       "      <td>СХТП</td>\n",
       "      <td>подсолнечник</td>\n",
       "      <td>Юг Руси, АО</td>\n",
       "      <td>2023-01-24</td>\n",
       "      <td>2023-02-12</td>\n",
       "      <td>По факту</td>\n",
       "      <td>15.0</td>\n",
       "      <td>0.0</td>\n",
       "      <td>27.5</td>\n",
       "      <td>27.5</td>\n",
       "      <td>27.5</td>\n",
       "      <td>50.0</td>\n",
       "      <td>59.0</td>\n",
       "      <td>1.0</td>\n",
       "      <td>1.0</td>\n",
       "      <td>50 ЛЕТ ОКТЯБРЯ ООО_Юг Руси, АО_2023-01-24</td>\n",
       "      <td>19</td>\n",
       "    </tr>\n",
       "  </tbody>\n",
       "</table>\n",
       "</div>"
      ],
      "text/plain": [
       "             supplier supplier_status          item        basis  spec_date  \\\n",
       "0  50 ЛЕТ ОКТЯБРЯ ООО            СХТП  подсолнечник  Юг Руси, АО 2022-12-19   \n",
       "1  50 ЛЕТ ОКТЯБРЯ ООО            СХТП  подсолнечник  Юг Руси, АО 2023-01-24   \n",
       "\n",
       "  delivery_period_end payment_terms  option  logistics  declared_price  \\\n",
       "0          2022-12-25      По факту    15.0        0.0            25.5   \n",
       "1          2023-02-12      По факту    15.0        0.0            27.5   \n",
       "\n",
       "   consent_price  spec_price  volume_requested  volume_contracted  \\\n",
       "0           25.0        25.0              40.0               60.0   \n",
       "1           27.5        27.5              50.0               59.0   \n",
       "\n",
       "   bids_submitted  bids_contracted                                         id  \\\n",
       "0             1.0              1.0  50 ЛЕТ ОКТЯБРЯ ООО_Юг Руси, АО_2022-12-19   \n",
       "1             1.0              1.0  50 ЛЕТ ОКТЯБРЯ ООО_Юг Руси, АО_2023-01-24   \n",
       "\n",
       "   delivery_length  \n",
       "0                6  \n",
       "1               19  "
      ]
     },
     "execution_count": 48,
     "metadata": {},
     "output_type": "execute_result"
    }
   ],
   "source": [
    "spec.head(2)"
   ]
  },
  {
   "cell_type": "code",
   "execution_count": null,
   "id": "b1788d36-7a47-45b3-b286-3ec6c1413aa6",
   "metadata": {},
   "outputs": [],
   "source": []
  },
  {
   "cell_type": "code",
   "execution_count": null,
   "id": "98156663-0d74-40e8-9d2d-a85e7549d7ad",
   "metadata": {},
   "outputs": [],
   "source": []
  },
  {
   "cell_type": "code",
   "execution_count": null,
   "id": "91a23fc7-09b1-48e6-b850-5daeb5a61003",
   "metadata": {},
   "outputs": [],
   "source": []
  },
  {
   "cell_type": "code",
   "execution_count": null,
   "id": "1242a9af-9a09-4774-8f68-03a1b3f92d76",
   "metadata": {},
   "outputs": [],
   "source": []
  },
  {
   "cell_type": "code",
   "execution_count": null,
   "id": "13e9a7b2-cae9-4913-8da2-2234fb0417df",
   "metadata": {},
   "outputs": [],
   "source": []
  },
  {
   "cell_type": "code",
   "execution_count": null,
   "id": "e22fb9b1-4e4a-4c8f-8481-ef0eb2128ce5",
   "metadata": {},
   "outputs": [],
   "source": []
  },
  {
   "cell_type": "code",
   "execution_count": null,
   "id": "08301696-e97c-4b73-af14-46c137a3d125",
   "metadata": {},
   "outputs": [],
   "source": []
  },
  {
   "cell_type": "code",
   "execution_count": null,
   "id": "4b07f8f0-836a-4c45-b93c-957c11205150",
   "metadata": {},
   "outputs": [],
   "source": []
  },
  {
   "cell_type": "code",
   "execution_count": null,
   "id": "ac844726-c05e-44ac-bf14-4d58a7d0de8f",
   "metadata": {},
   "outputs": [],
   "source": []
  },
  {
   "cell_type": "code",
   "execution_count": null,
   "id": "e32d045e-6c7f-4ff6-95d6-a95be9f1efa0",
   "metadata": {},
   "outputs": [],
   "source": []
  },
  {
   "cell_type": "code",
   "execution_count": null,
   "id": "4756f894-d16d-4b59-9908-b3fcd3bfff5b",
   "metadata": {},
   "outputs": [],
   "source": []
  },
  {
   "cell_type": "code",
   "execution_count": null,
   "id": "047f42d0-5c34-4ee4-a04e-d93c82973a00",
   "metadata": {},
   "outputs": [],
   "source": []
  },
  {
   "cell_type": "code",
   "execution_count": null,
   "id": "fe473d2e-c84d-4490-837a-f25e1f8557e8",
   "metadata": {},
   "outputs": [],
   "source": []
  },
  {
   "cell_type": "code",
   "execution_count": null,
   "id": "4fd7dea9-a4c6-40e1-afaa-22bc698b54f6",
   "metadata": {},
   "outputs": [],
   "source": []
  },
  {
   "cell_type": "code",
   "execution_count": null,
   "id": "c5cf9499-3482-46c1-9de0-f40138b0ebcc",
   "metadata": {},
   "outputs": [],
   "source": []
  },
  {
   "cell_type": "code",
   "execution_count": null,
   "id": "6f6b3eb0-33d9-42ba-80cb-7ee71a9a8d97",
   "metadata": {},
   "outputs": [],
   "source": []
  }
 ],
 "metadata": {
  "kernelspec": {
   "display_name": "Python 3 (ipykernel)",
   "language": "python",
   "name": "python3"
  },
  "language_info": {
   "codemirror_mode": {
    "name": "ipython",
    "version": 3
   },
   "file_extension": ".py",
   "mimetype": "text/x-python",
   "name": "python",
   "nbconvert_exporter": "python",
   "pygments_lexer": "ipython3",
   "version": "3.11.3"
  }
 },
 "nbformat": 4,
 "nbformat_minor": 5
}
