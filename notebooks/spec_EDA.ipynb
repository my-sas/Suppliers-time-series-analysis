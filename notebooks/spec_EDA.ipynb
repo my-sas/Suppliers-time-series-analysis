{
 "cells": [
  {
   "cell_type": "code",
   "execution_count": 1,
   "id": "0684df1f-fd74-416b-98dd-d569e12e2157",
   "metadata": {
    "tags": []
   },
   "outputs": [],
   "source": [
    "\"\"\"\n",
    "В ноутбуке представлен анализ переменных сгенерированных для таблицы ЦК\n",
    "\"\"\"\n",
    "\n",
    "import numpy as np\n",
    "import pandas as pd\n",
    "\n",
    "import seaborn as sns\n",
    "import matplotlib.pyplot as plt\n",
    "\n",
    "import sys\n",
    "import os\n",
    "sys.path.append(os.path.abspath('..'))\n",
    "from data.preprocessing import Preprocessor\n",
    "from data.feature_generation import spec_agg_features\n",
    "\n",
    "import warnings\n",
    "warnings.filterwarnings('ignore')\n",
    "\n",
    "pd.set_option('display.max_columns', None)"
   ]
  },
  {
   "cell_type": "code",
   "execution_count": 2,
   "id": "6ab0c0da-67e0-4bea-8709-2bf20a48202b",
   "metadata": {
    "tags": []
   },
   "outputs": [
    {
     "name": "stderr",
     "output_type": "stream",
     "text": [
      "Duplicate rows cleaning: 620it [00:02, 281.94it/s]\n"
     ]
    }
   ],
   "source": [
    "preprocessor = Preprocessor()\n",
    "spec = preprocessor.spec_preprocessing()\n",
    "zpp4 = preprocessor.zpp4_preprocessing()"
   ]
  },
  {
   "cell_type": "code",
   "execution_count": 3,
   "id": "e3df393b-7d85-48b3-a6b1-fe234ecbbd8e",
   "metadata": {
    "tags": []
   },
   "outputs": [],
   "source": [
    "spec = spec_agg_features(spec)"
   ]
  },
  {
   "cell_type": "code",
   "execution_count": 4,
   "id": "efa20eed-7b26-49f1-90bb-3e09d0338d7b",
   "metadata": {
    "tags": []
   },
   "outputs": [
    {
     "data": {
      "text/html": [
       "<div>\n",
       "<style scoped>\n",
       "    .dataframe tbody tr th:only-of-type {\n",
       "        vertical-align: middle;\n",
       "    }\n",
       "\n",
       "    .dataframe tbody tr th {\n",
       "        vertical-align: top;\n",
       "    }\n",
       "\n",
       "    .dataframe thead th {\n",
       "        text-align: right;\n",
       "    }\n",
       "</style>\n",
       "<table border=\"1\" class=\"dataframe\">\n",
       "  <thead>\n",
       "    <tr style=\"text-align: right;\">\n",
       "      <th></th>\n",
       "      <th>supplier</th>\n",
       "      <th>supplier_status</th>\n",
       "      <th>spec_date</th>\n",
       "      <th>delivery_period_end</th>\n",
       "      <th>option</th>\n",
       "      <th>declared_price</th>\n",
       "      <th>consent_price</th>\n",
       "      <th>spec_price</th>\n",
       "      <th>volume_requested</th>\n",
       "      <th>volume_contracted</th>\n",
       "      <th>bids_submitted</th>\n",
       "      <th>bids_contracted</th>\n",
       "      <th>id</th>\n",
       "      <th>delivery_length</th>\n",
       "      <th>mean_delivery_length</th>\n",
       "      <th>delivery_length_diff</th>\n",
       "      <th>mean_volume</th>\n",
       "      <th>volume_diff</th>\n",
       "      <th>conversion</th>\n",
       "    </tr>\n",
       "  </thead>\n",
       "  <tbody>\n",
       "    <tr>\n",
       "      <th>0</th>\n",
       "      <td>50 ЛЕТ ОКТЯБРЯ ООО</td>\n",
       "      <td>1.0</td>\n",
       "      <td>2022-12-19</td>\n",
       "      <td>2022-12-25</td>\n",
       "      <td>15.0</td>\n",
       "      <td>25.5</td>\n",
       "      <td>25.0</td>\n",
       "      <td>25.0</td>\n",
       "      <td>40.0</td>\n",
       "      <td>60.0</td>\n",
       "      <td>1.0</td>\n",
       "      <td>1.0</td>\n",
       "      <td>50 ЛЕТ ОКТЯБРЯ ООО_Юг Руси, АО_2022-12-19</td>\n",
       "      <td>6</td>\n",
       "      <td>NaN</td>\n",
       "      <td>NaN</td>\n",
       "      <td>NaN</td>\n",
       "      <td>NaN</td>\n",
       "      <td>NaN</td>\n",
       "    </tr>\n",
       "    <tr>\n",
       "      <th>1</th>\n",
       "      <td>50 ЛЕТ ОКТЯБРЯ ООО</td>\n",
       "      <td>1.0</td>\n",
       "      <td>2023-01-24</td>\n",
       "      <td>2023-02-12</td>\n",
       "      <td>15.0</td>\n",
       "      <td>27.5</td>\n",
       "      <td>27.5</td>\n",
       "      <td>27.5</td>\n",
       "      <td>50.0</td>\n",
       "      <td>59.0</td>\n",
       "      <td>1.0</td>\n",
       "      <td>1.0</td>\n",
       "      <td>50 ЛЕТ ОКТЯБРЯ ООО_Юг Руси, АО_2023-01-24</td>\n",
       "      <td>19</td>\n",
       "      <td>6.0</td>\n",
       "      <td>13.0</td>\n",
       "      <td>40.0</td>\n",
       "      <td>10.0</td>\n",
       "      <td>1.0</td>\n",
       "    </tr>\n",
       "  </tbody>\n",
       "</table>\n",
       "</div>"
      ],
      "text/plain": [
       "             supplier  supplier_status  spec_date delivery_period_end  option  \\\n",
       "0  50 ЛЕТ ОКТЯБРЯ ООО              1.0 2022-12-19          2022-12-25    15.0   \n",
       "1  50 ЛЕТ ОКТЯБРЯ ООО              1.0 2023-01-24          2023-02-12    15.0   \n",
       "\n",
       "   declared_price  consent_price  spec_price  volume_requested  \\\n",
       "0            25.5           25.0        25.0              40.0   \n",
       "1            27.5           27.5        27.5              50.0   \n",
       "\n",
       "   volume_contracted  bids_submitted  bids_contracted  \\\n",
       "0               60.0             1.0              1.0   \n",
       "1               59.0             1.0              1.0   \n",
       "\n",
       "                                          id  delivery_length  \\\n",
       "0  50 ЛЕТ ОКТЯБРЯ ООО_Юг Руси, АО_2022-12-19                6   \n",
       "1  50 ЛЕТ ОКТЯБРЯ ООО_Юг Руси, АО_2023-01-24               19   \n",
       "\n",
       "   mean_delivery_length  delivery_length_diff  mean_volume  volume_diff  \\\n",
       "0                   NaN                   NaN          NaN          NaN   \n",
       "1                   6.0                  13.0         40.0         10.0   \n",
       "\n",
       "   conversion  \n",
       "0         NaN  \n",
       "1         1.0  "
      ]
     },
     "execution_count": 4,
     "metadata": {},
     "output_type": "execute_result"
    }
   ],
   "source": [
    "spec.head(2)"
   ]
  },
  {
   "cell_type": "code",
   "execution_count": 10,
   "id": "41bd38fb-ae8f-4e62-b154-b730482af732",
   "metadata": {
    "tags": []
   },
   "outputs": [
    {
     "data": {
      "image/png": "[encoded data removed]",
      "text/plain": [
       "<Figure size 640x480 with 2 Axes>"
      ]
     },
     "metadata": {},
     "output_type": "display_data"
    }
   ],
   "source": [
    "cols = ['delivery_length', 'mean_delivery_length', 'delivery_length_diff',\n",
    "        'mean_volume', 'volume_diff', 'conversion', 'bids_contracted']\n",
    "shape_plot = len(cols)\n",
    "mask = np.zeros((shape_plot, shape_plot))\n",
    "mask[np.triu_indices_from(mask)] = True\n",
    "\n",
    "sns.heatmap(spec[cols].corr(), cmap = 'coolwarm', annot = False, \n",
    "            mask=mask, vmin=-1, vmax=1)\n",
    "plt.savefig('../figures/correlation_matrix.jpg', bbox_inches='tight')\n",
    "# plt.show()"
   ]
  },
  {
   "cell_type": "code",
   "execution_count": null,
   "id": "d3263c14-9a2f-4ee5-ae4b-24f43e6c543b",
   "metadata": {},
   "outputs": [],
   "source": []
  },
  {
   "cell_type": "code",
   "execution_count": null,
   "id": "89362bd2-3cfe-4d44-8f22-724812cacdaa",
   "metadata": {},
   "outputs": [],
   "source": []
  },
  {
   "cell_type": "code",
   "execution_count": null,
   "id": "6547ad04-7d7c-41f5-a9a5-ec2fbddc7bdf",
   "metadata": {},
   "outputs": [],
   "source": []
  },
  {
   "cell_type": "code",
   "execution_count": null,
   "id": "517f9ef9-1725-4b5a-8ad7-74bafe2a902d",
   "metadata": {},
   "outputs": [],
   "source": []
  },
  {
   "cell_type": "code",
   "execution_count": null,
   "id": "e422edf8-abd8-4159-be0e-f109159c3674",
   "metadata": {},
   "outputs": [],
   "source": []
  },
  {
   "cell_type": "code",
   "execution_count": null,
   "id": "c415d577-ca07-4cd9-9d8d-643ce403aa09",
   "metadata": {},
   "outputs": [],
   "source": []
  },
  {
   "cell_type": "code",
   "execution_count": null,
   "id": "a15e6e35-3611-4de3-9fed-12dab6cd796b",
   "metadata": {},
   "outputs": [],
   "source": []
  },
  {
   "cell_type": "code",
   "execution_count": null,
   "id": "ef6922b6-5d8b-4048-a9e5-aa8fefdb312b",
   "metadata": {},
   "outputs": [],
   "source": []
  },
  {
   "cell_type": "code",
   "execution_count": null,
   "id": "e4a863d1-3bca-4735-aa8a-75ddc3212b6b",
   "metadata": {},
   "outputs": [],
   "source": []
  },
  {
   "cell_type": "code",
   "execution_count": null,
   "id": "39bb49d4-4d6f-43f1-8416-89f9b0d71871",
   "metadata": {},
   "outputs": [],
   "source": []
  }
 ],
 "metadata": {
  "kernelspec": {
   "display_name": "Python 3 (ipykernel)",
   "language": "python",
   "name": "python3"
  },
  "language_info": {
   "codemirror_mode": {
    "name": "ipython",
    "version": 3
   },
   "file_extension": ".py",
   "mimetype": "text/x-python",
   "name": "python",
   "nbconvert_exporter": "python",
   "pygments_lexer": "ipython3",
   "version": "3.11.5"
  }
 },
 "nbformat": 4,
 "nbformat_minor": 5
}
