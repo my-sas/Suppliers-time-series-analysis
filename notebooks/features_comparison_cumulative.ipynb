{
 "cells": [
  {
   "cell_type": "markdown",
   "id": "5c3bbd5c-d071-4532-8558-e8d5b30d22bd",
   "metadata": {},
   "source": [
    "## Предсказание законтрактованности путём агрегации данных о предыдущих поставках\n",
    "\n",
    "Мы проведём сравнение двух методов:\n",
    "1) Усреднение параметров поставок (таких как процент опоздания по поставкам и изменение качества)\n",
    "2) Усреднение эмбеддингов предыдущих поставок, полученных через LSTM автоэнкодер"
   ]
  },
  {
   "cell_type": "code",
   "execution_count": 1,
   "id": "535acbfa-b5b4-4db1-ba24-ba530fb7d17c",
   "metadata": {},
   "outputs": [],
   "source": [
    "import numpy as np\n",
    "import pandas as pd\n",
    "\n",
    "from catboost import CatBoostClassifier\n",
    "from sklearn.linear_model import LogisticRegression\n",
    "from sklearn.metrics import accuracy_score, roc_auc_score\n",
    "\n",
    "import seaborn as sns\n",
    "import matplotlib.pyplot as plt\n",
    "from tqdm import tqdm\n",
    "\n",
    "import sys\n",
    "import os\n",
    "sys.path.append(os.path.abspath('..'))\n",
    "from data import feature_generation\n",
    "from figures.plots import show_embeddings\n",
    "from src.metrics import mapk\n",
    "\n",
    "import warnings\n",
    "warnings.filterwarnings('ignore')"
   ]
  },
  {
   "cell_type": "code",
   "execution_count": 2,
   "id": "f98ec157-1282-4ba7-8483-dc7102aaa67c",
   "metadata": {},
   "outputs": [
    {
     "data": {
      "text/html": [
       "<div>\n",
       "<style scoped>\n",
       "    .dataframe tbody tr th:only-of-type {\n",
       "        vertical-align: middle;\n",
       "    }\n",
       "\n",
       "    .dataframe tbody tr th {\n",
       "        vertical-align: top;\n",
       "    }\n",
       "\n",
       "    .dataframe thead th {\n",
       "        text-align: right;\n",
       "    }\n",
       "</style>\n",
       "<table border=\"1\" class=\"dataframe\">\n",
       "  <thead>\n",
       "    <tr style=\"text-align: right;\">\n",
       "      <th></th>\n",
       "      <th>supplier</th>\n",
       "      <th>id</th>\n",
       "      <th>spec_date</th>\n",
       "      <th>delivery_period_end</th>\n",
       "      <th>bids_contracted</th>\n",
       "      <th>is_late</th>\n",
       "      <th>is_underweight</th>\n",
       "      <th>is_poorquality</th>\n",
       "      <th>supplier_status</th>\n",
       "      <th>option</th>\n",
       "      <th>...</th>\n",
       "      <th>6</th>\n",
       "      <th>7</th>\n",
       "      <th>8</th>\n",
       "      <th>9</th>\n",
       "      <th>10</th>\n",
       "      <th>11</th>\n",
       "      <th>12</th>\n",
       "      <th>13</th>\n",
       "      <th>14</th>\n",
       "      <th>15</th>\n",
       "    </tr>\n",
       "  </thead>\n",
       "  <tbody>\n",
       "    <tr>\n",
       "      <th>0</th>\n",
       "      <td>50 ЛЕТ ОКТЯБРЯ ООО</td>\n",
       "      <td>50 ЛЕТ ОКТЯБРЯ ООО_Юг Руси, АО_2022-12-19</td>\n",
       "      <td>2022-12-19</td>\n",
       "      <td>2022-12-25</td>\n",
       "      <td>1.0</td>\n",
       "      <td>0.0</td>\n",
       "      <td>1.0</td>\n",
       "      <td>1.0</td>\n",
       "      <td>1.0</td>\n",
       "      <td>15.0</td>\n",
       "      <td>...</td>\n",
       "      <td>NaN</td>\n",
       "      <td>NaN</td>\n",
       "      <td>NaN</td>\n",
       "      <td>NaN</td>\n",
       "      <td>NaN</td>\n",
       "      <td>NaN</td>\n",
       "      <td>NaN</td>\n",
       "      <td>NaN</td>\n",
       "      <td>NaN</td>\n",
       "      <td>NaN</td>\n",
       "    </tr>\n",
       "    <tr>\n",
       "      <th>1</th>\n",
       "      <td>50 ЛЕТ ОКТЯБРЯ ООО</td>\n",
       "      <td>50 ЛЕТ ОКТЯБРЯ ООО_Юг Руси, АО_2023-01-24</td>\n",
       "      <td>2023-01-24</td>\n",
       "      <td>2023-02-12</td>\n",
       "      <td>1.0</td>\n",
       "      <td>0.0</td>\n",
       "      <td>0.0</td>\n",
       "      <td>0.0</td>\n",
       "      <td>1.0</td>\n",
       "      <td>15.0</td>\n",
       "      <td>...</td>\n",
       "      <td>-0.610757</td>\n",
       "      <td>0.14691</td>\n",
       "      <td>-0.80265</td>\n",
       "      <td>0.722523</td>\n",
       "      <td>-0.47786</td>\n",
       "      <td>-0.424774</td>\n",
       "      <td>0.521571</td>\n",
       "      <td>-0.012061</td>\n",
       "      <td>0.157792</td>\n",
       "      <td>0.696974</td>\n",
       "    </tr>\n",
       "  </tbody>\n",
       "</table>\n",
       "<p>2 rows × 36 columns</p>\n",
       "</div>"
      ],
      "text/plain": [
       "             supplier                                         id  spec_date  \\\n",
       "0  50 ЛЕТ ОКТЯБРЯ ООО  50 ЛЕТ ОКТЯБРЯ ООО_Юг Руси, АО_2022-12-19 2022-12-19   \n",
       "1  50 ЛЕТ ОКТЯБРЯ ООО  50 ЛЕТ ОКТЯБРЯ ООО_Юг Руси, АО_2023-01-24 2023-01-24   \n",
       "\n",
       "  delivery_period_end  bids_contracted  is_late  is_underweight  \\\n",
       "0          2022-12-25              1.0      0.0             1.0   \n",
       "1          2023-02-12              1.0      0.0             0.0   \n",
       "\n",
       "   is_poorquality  supplier_status  option  ...         6        7        8  \\\n",
       "0             1.0              1.0    15.0  ...       NaN      NaN      NaN   \n",
       "1             0.0              1.0    15.0  ... -0.610757  0.14691 -0.80265   \n",
       "\n",
       "          9       10        11        12        13        14        15  \n",
       "0       NaN      NaN       NaN       NaN       NaN       NaN       NaN  \n",
       "1  0.722523 -0.47786 -0.424774  0.521571 -0.012061  0.157792  0.696974  \n",
       "\n",
       "[2 rows x 36 columns]"
      ]
     },
     "execution_count": 2,
     "metadata": {},
     "output_type": "execute_result"
    }
   ],
   "source": [
    "feature_generation.EMBED_PATH = '../data/processed_data/embed_df.csv'\n",
    "data = feature_generation.pipeline()\n",
    "data.head(2)"
   ]
  },
  {
   "cell_type": "code",
   "execution_count": 3,
   "id": "a24fbb02-7d92-4cf3-9a33-a9b7bd2084ff",
   "metadata": {},
   "outputs": [],
   "source": [
    "\"\"\"\n",
    "Разделение набора данных\n",
    "\"\"\"\n",
    "\n",
    "split_point = np.quantile(data['spec_date'], 0.9)\n",
    "train_spec = data.loc[data['spec_date'] < split_point]\n",
    "test_spec = data.loc[data['spec_date'] >= split_point]\n",
    "\n",
    "X_train = train_spec.drop(['bids_contracted', 'is_late', 'is_underweight', 'is_poorquality'], axis=1)\n",
    "y_train = train_spec['bids_contracted']\n",
    "\n",
    "X_test = test_spec.drop(['bids_contracted', 'is_late', 'is_underweight', 'is_poorquality'], axis=1)\n",
    "y_test = test_spec['bids_contracted']\n",
    "\n",
    "features = {'zpp4': ['supplier_lateness', 'supplier_underweight', 'supplier_price_change'],\n",
    "            'embed': [str(i) for i in range(16)],\n",
    "            'spec': ['mean_delivery_length', 'delivery_length_diff', 'mean_volume', 'volume_diff', 'conversion']}"
   ]
  },
  {
   "cell_type": "code",
   "execution_count": 4,
   "id": "6cabfb49-2615-493b-ad11-680fda627c21",
   "metadata": {},
   "outputs": [],
   "source": [
    "X = data.drop(['bids_contracted', 'is_late', 'is_underweight', 'is_poorquality'], axis=1)\n",
    "y = data['bids_contracted']"
   ]
  },
  {
   "cell_type": "markdown",
   "id": "998ada2f-9b70-4bb0-8ae2-9dbc3da2d4b7",
   "metadata": {},
   "source": [
    "## Предсказание законтрактованности независимо от даты"
   ]
  },
  {
   "cell_type": "code",
   "execution_count": 5,
   "id": "31d9999a-7516-45ad-a895-d928afc82e6a",
   "metadata": {},
   "outputs": [],
   "source": [
    "def dayseparately(X, y, features, predict_func):\n",
    "    actual = []\n",
    "    predicted = []\n",
    "    \n",
    "    days_indexes = X.groupby('spec_date').apply(lambda x: x.index)\n",
    "    for day in days_indexes:\n",
    "        actual.append(list(y.loc[day].values))\n",
    "        predicted.append(list(predict_func(X[features].loc[day])))\n",
    "    \n",
    "    return actual, predicted\n",
    "\n",
    "def sep_by(X, y, features, predict_func, series):\n",
    "    actual = []\n",
    "    predicted = []\n",
    "    \n",
    "    groups = X.groupby(series).apply(lambda x: x.index)\n",
    "    for group in groups:\n",
    "        actual.append(list(y.loc[group].values))\n",
    "        predicted.append(list(predict_func(X[features].loc[group])))\n",
    "    \n",
    "    return actual, predicted"
   ]
  },
  {
   "cell_type": "code",
   "execution_count": 6,
   "id": "eaad220f-1aae-4d7c-9dfd-03e239b1cc34",
   "metadata": {},
   "outputs": [],
   "source": [
    "groups = data.groupby(data['spec_date'].dt.to_period('M')).apply(lambda x: x.index)\n",
    "groups = groups.sort_index()"
   ]
  },
  {
   "cell_type": "code",
   "execution_count": 26,
   "id": "f1869b1d-81e5-4aab-850d-5a6d2d603f0e",
   "metadata": {},
   "outputs": [
    {
     "data": {
      "text/plain": [
       "spec_date\n",
       "2022-07    Int64Index([ 114,  376,  501,  502,  599,  715...\n",
       "2022-08    Int64Index([ 109,  115,  116,  183,  213,  377...\n",
       "2022-09    Int64Index([  83,   89,   90,   97,   98,  117...\n",
       "2022-10    Int64Index([   9,   13,   20,   21,   22,   23...\n",
       "2022-11    Int64Index([  10,   11,   14,   15,   24,   40...\n",
       "2022-12    Int64Index([   0,   43,   44,   61,   62,   63...\n",
       "2023-01    Int64Index([   1,   25,   45,   46,   71,  106...\n",
       "2023-02    Int64Index([   5,    6,    7,   12,   16,   17...\n",
       "2023-03    Int64Index([   2,    8,   18,   47,   48,   76...\n",
       "2023-04    Int64Index([   3,   27,   49,   50,   78,  110...\n",
       "2023-05    Int64Index([   4,   19,   28,   29,   30,   31...\n",
       "2023-06    Int64Index([  33,   34,   35,   36,   37,   38...\n",
       "2023-07    Int64Index([  39,   88,  270,  407,  481,  662...\n",
       "Freq: M, dtype: object"
      ]
     },
     "execution_count": 26,
     "metadata": {},
     "output_type": "execute_result"
    }
   ],
   "source": [
    "groups"
   ]
  },
  {
   "cell_type": "code",
   "execution_count": 7,
   "id": "42cc8904-a9bd-4871-9757-7de346a35fe8",
   "metadata": {},
   "outputs": [],
   "source": [
    "X_train = pd.concat([X.loc[group] for group in groups[:7]])\n",
    "y_train = pd.concat([y.loc[group] for group in groups[:7]])\n",
    "\n",
    "group_predictions = []\n",
    "\n",
    "for group in groups[7:]:\n",
    "    X_test = X.loc[group]\n",
    "    y_test = y.loc[group]\n",
    "    \n",
    "    model = CatBoostClassifier(verbose = 0, random_state=42).fit(X_train[features['embed'] + features['spec']], y_train)\n",
    "\n",
    "    actual, predicted = dayseparately(X_test, y_test, features['embed'] + features['spec'], lambda x: model.predict_proba(x)[:, 1])\n",
    "    \n",
    "    group_predictions.append(mapk(actual, predicted))\n",
    "    \n",
    "    X_train = pd.concat([X_train, X_test])\n",
    "    y_train = pd.concat([y_train, y_test])"
   ]
  },
  {
   "cell_type": "code",
   "execution_count": 8,
   "id": "762a5706-ee68-4178-880f-b649f36e017d",
   "metadata": {},
   "outputs": [
    {
     "data": {
      "text/plain": [
       "[<matplotlib.lines.Line2D at 0x18101aa4b50>]"
      ]
     },
     "execution_count": 8,
     "metadata": {},
     "output_type": "execute_result"
    },
    {
     "data": {
      "image/png": "[encoded data removed]",
      "text/plain": [
       "<Figure size 640x480 with 1 Axes>"
      ]
     },
     "metadata": {},
     "output_type": "display_data"
    }
   ],
   "source": [
    "plt.title('MAP@10')\n",
    "plt.plot(groups.index[7:].to_timestamp(), group_predictions)\n",
    "# plt.savefig('../figures/map@10.jpg', bbox_inches='tight')"
   ]
  },
  {
   "cell_type": "code",
   "execution_count": 9,
   "id": "06519fe2-1780-4fbc-bc57-15699f7ea191",
   "metadata": {},
   "outputs": [
    {
     "data": {
      "text/plain": [
       "[[1.0, 0.0, 0.0],\n",
       " [0.0, 1.0],\n",
       " [0.0, 0.0, 0.0, 1.0, 0.0, 0.0, 1.0, 0.0],\n",
       " [0.0, 0.0, 1.0, 0.0, 0.0, 0.0, 0.0, 0.0],\n",
       " [0.0, 1.0, 1.0, 1.0, 0.0, 0.0, 0.0, 0.0, 0.0, 1.0, 0.0],\n",
       " [1.0, 0.0, 1.0, 0.0, 0.0, 1.0, 0.0, 1.0, 1.0],\n",
       " [0.0, 0.0],\n",
       " [1.0, 0.0],\n",
       " [1.0, 0.0, 0.0, 1.0, 1.0],\n",
       " [0.0, 0.0, 0.0, 0.0, 1.0, 0.0, 0.0, 0.0, 0.0, 0.0],\n",
       " [1.0, 0.0, 0.0, 0.0, 0.0, 0.0],\n",
       " [0.0, 0.0, 0.0, 0.0, 0.0, 1.0, 0.0, 0.0],\n",
       " [1.0, 0.0],\n",
       " [0.0, 0.0, 1.0, 1.0],\n",
       " [1.0, 1.0, 0.0, 0.0, 1.0],\n",
       " [0.0, 1.0, 0.0, 0.0, 0.0, 0.0, 1.0, 0.0],\n",
       " [0.0, 0.0, 0.0, 1.0, 0.0, 0.0, 0.0],\n",
       " [0.0, 0.0]]"
      ]
     },
     "execution_count": 9,
     "metadata": {},
     "output_type": "execute_result"
    }
   ],
   "source": [
    "actual"
   ]
  },
  {
   "cell_type": "code",
   "execution_count": 10,
   "id": "97464ac6-2fd0-4dcd-91c3-b2d531722bac",
   "metadata": {},
   "outputs": [
    {
     "data": {
      "text/plain": [
       "[[0.392672153308768, 0.31425522114149845, 0.3113486970626611],\n",
       " [0.7077726081618865, 0.8065436578425813],\n",
       " [0.6541467494342288,\n",
       "  0.7470677255100309,\n",
       "  0.20751112989392212,\n",
       "  0.6732883974117,\n",
       "  0.5682323313594019,\n",
       "  0.30333791088844003,\n",
       "  0.4704020424566272,\n",
       "  0.3943012571797782],\n",
       " [0.8584100467252268,\n",
       "  0.30333791088844003,\n",
       "  0.8533520263676506,\n",
       "  0.36013296619902985,\n",
       "  0.19040815340001563,\n",
       "  0.4946796666975256,\n",
       "  0.34691841528487916,\n",
       "  0.38814631421887685],\n",
       " [0.3061639095402806,\n",
       "  0.666664644947646,\n",
       "  0.20470189975238837,\n",
       "  0.5135519762388675,\n",
       "  0.34604155707856027,\n",
       "  0.30333791088844003,\n",
       "  0.17264500738392327,\n",
       "  0.34696184507537936,\n",
       "  0.17264500738392327,\n",
       "  0.16622388121660867,\n",
       "  0.3567367225142843],\n",
       " [0.3633767907176467,\n",
       "  0.24234230404591434,\n",
       "  0.16057375920938233,\n",
       "  0.28789312598745503,\n",
       "  0.28789312598745503,\n",
       "  0.8661019033571143,\n",
       "  0.6135928820482294,\n",
       "  0.615086748123282,\n",
       "  0.37610598361478825],\n",
       " [0.8499016799599164, 0.6713050587695106],\n",
       " [0.7747024594817593, 0.2904037728632602],\n",
       " [0.6680780288268358,\n",
       "  0.28954894552808425,\n",
       "  0.28954894552808425,\n",
       "  0.4571125600865949,\n",
       "  0.7510109815968754],\n",
       " [0.17365132619602802,\n",
       "  0.27222871444648433,\n",
       "  0.28856011373465207,\n",
       "  0.28856011373465207,\n",
       "  0.6408317996635329,\n",
       "  0.7164283388545194,\n",
       "  0.6326997174605944,\n",
       "  0.4516972738828907,\n",
       "  0.17298683638413145,\n",
       "  0.5916331803003967],\n",
       " [0.8147805640642835,\n",
       "  0.5792160383491385,\n",
       "  0.25333175311716605,\n",
       "  0.2938108373884089,\n",
       "  0.2938108373884089,\n",
       "  0.23836260909075635],\n",
       " [0.8975296627925373,\n",
       "  0.15606171457052978,\n",
       "  0.25783184051285674,\n",
       "  0.28996857619778754,\n",
       "  0.30689402977247676,\n",
       "  0.560837664745466,\n",
       "  0.6661027221830877,\n",
       "  0.576302599561726],\n",
       " [0.4886860282970333, 0.6858554348965425],\n",
       " [0.2177856315895849,\n",
       "  0.5850219299151422,\n",
       "  0.7998121362408532,\n",
       "  0.915330107539057],\n",
       " [0.7306984185519341,\n",
       "  0.31300238549530335,\n",
       "  0.337187560779472,\n",
       "  0.33438488739254946,\n",
       "  0.7293410820245653],\n",
       " [0.3474700455186064,\n",
       "  0.6096309236987879,\n",
       "  0.6004476936010552,\n",
       "  0.486101569076614,\n",
       "  0.26231188454668314,\n",
       "  0.3200557780249393,\n",
       "  0.32708163675705043,\n",
       "  0.19300606538388793],\n",
       " [0.30710459462435546,\n",
       "  0.529876070844027,\n",
       "  0.7845315698845207,\n",
       "  0.7979940693410692,\n",
       "  0.2679811936826663,\n",
       "  0.6771263172091729,\n",
       "  0.8618258589397836],\n",
       " [0.5047797459569119, 0.8558208701374999]]"
      ]
     },
     "execution_count": 10,
     "metadata": {},
     "output_type": "execute_result"
    }
   ],
   "source": [
    "predicted"
   ]
  },
  {
   "cell_type": "code",
   "execution_count": null,
   "id": "eeed9f37-85a3-4154-9116-75e8e7a1874a",
   "metadata": {},
   "outputs": [],
   "source": []
  },
  {
   "cell_type": "code",
   "execution_count": null,
   "id": "2ce59ed0-fce7-4316-beda-ee2c45cbc05f",
   "metadata": {},
   "outputs": [],
   "source": []
  },
  {
   "cell_type": "code",
   "execution_count": null,
   "id": "de103ce0-5339-47ca-848d-5403460869d5",
   "metadata": {},
   "outputs": [],
   "source": []
  },
  {
   "cell_type": "code",
   "execution_count": null,
   "id": "00bb29b0-8593-45c7-b806-af313eab773a",
   "metadata": {},
   "outputs": [],
   "source": []
  },
  {
   "cell_type": "code",
   "execution_count": null,
   "id": "70008d22-7d4c-413b-8a42-e82597c83cd0",
   "metadata": {},
   "outputs": [],
   "source": []
  },
  {
   "cell_type": "code",
   "execution_count": null,
   "id": "b3b2caa4-ce4b-4f70-955b-035c89f30e4c",
   "metadata": {},
   "outputs": [],
   "source": []
  },
  {
   "cell_type": "code",
   "execution_count": null,
   "id": "c15ca5d0-5df3-4e12-8c35-23aedf3f776f",
   "metadata": {},
   "outputs": [],
   "source": []
  },
  {
   "cell_type": "code",
   "execution_count": null,
   "id": "49fbbfc9-ef61-47a3-bf2e-1959e4d7283e",
   "metadata": {},
   "outputs": [],
   "source": []
  },
  {
   "cell_type": "code",
   "execution_count": null,
   "id": "0ed2987e-5199-4984-8349-421552f23d0b",
   "metadata": {},
   "outputs": [],
   "source": []
  },
  {
   "cell_type": "code",
   "execution_count": null,
   "id": "7e7754df-817c-4b95-a7da-4d50fbee2008",
   "metadata": {},
   "outputs": [],
   "source": []
  },
  {
   "cell_type": "code",
   "execution_count": 17,
   "id": "25017402-3f78-4d65-a137-4b33b780d356",
   "metadata": {},
   "outputs": [
    {
     "name": "stdout",
     "output_type": "stream",
     "text": [
      "Бустинг (Средние параметры поставок):\n",
      "Accuracy: 0.6047904191616766\n",
      "ROC AUC: 0.6295572916666665\n"
     ]
    }
   ],
   "source": [
    "\"\"\"\n",
    "Предсказание законтрактованности (Средние параметры поставок)\n",
    "\"\"\"\n",
    "\n",
    "def estimate(model, X_test, y_test):\n",
    "    accuracy = accuracy_score(y_test, model.predict(X_test))\n",
    "    roc_auc = roc_auc_score(y_test, model.predict_proba(X_test)[:, 1])\n",
    "    print(f'Accuracy: {accuracy}\\nROC AUC: {roc_auc}')\n",
    "\n",
    "print('Бустинг (Средние параметры поставок):')\n",
    "model = CatBoostClassifier(verbose = 0, random_state=42).fit(X_train[features['zpp4']], y_train)\n",
    "estimate(model, X_test[features['zpp4']], y_test)"
   ]
  },
  {
   "cell_type": "code",
   "execution_count": 18,
   "id": "31fa95eb-3743-41ae-97d2-76ed50d0ec02",
   "metadata": {},
   "outputs": [
    {
     "name": "stdout",
     "output_type": "stream",
     "text": [
      "Бустинг (эмбеддинг):\n",
      "Accuracy: 0.6182634730538922\n",
      "ROC AUC: 0.6661413433908046\n"
     ]
    }
   ],
   "source": [
    "\"\"\"\n",
    "Предсказание законтрактованности (Эмбеддинг)\n",
    "\"\"\"\n",
    "\n",
    "print('Бустинг (эмбеддинг):')\n",
    "model = CatBoostClassifier(verbose = 0, random_state=42).fit(X_train[features['embed']], y_train)\n",
    "estimate(model, X_test[features['embed']], y_test)"
   ]
  },
  {
   "cell_type": "code",
   "execution_count": null,
   "id": "b5fb1c37-aa08-4c32-a8be-84a9f1978b47",
   "metadata": {},
   "outputs": [],
   "source": []
  },
  {
   "cell_type": "code",
   "execution_count": 19,
   "id": "9707054b-080c-4414-b10d-36968640d654",
   "metadata": {},
   "outputs": [
    {
     "name": "stdout",
     "output_type": "stream",
     "text": [
      "Бустинг (Средние параметры поставок + средние параметры спецификаций):\n",
      "Accuracy: 0.6586826347305389\n",
      "ROC AUC: 0.7257543103448275\n"
     ]
    }
   ],
   "source": [
    "\"\"\"\n",
    "Предсказание законтрактованности (Средние параметры поставок + средние параметры спецификаций)\n",
    "\"\"\"\n",
    "print('Бустинг (Средние параметры поставок + средние параметры спецификаций):')\n",
    "model = CatBoostClassifier(verbose = 0, random_state=42).fit(X_train[features['zpp4'] + features['spec']], y_train)\n",
    "estimate(model, X_test[features['zpp4'] + features['spec']], y_test)"
   ]
  },
  {
   "cell_type": "code",
   "execution_count": null,
   "id": "d1973bca-40cb-4dd3-bed1-f2de8bf612f6",
   "metadata": {},
   "outputs": [],
   "source": []
  },
  {
   "cell_type": "code",
   "execution_count": 20,
   "id": "41b28f55-4b21-42ee-ba86-39947193bdbc",
   "metadata": {},
   "outputs": [
    {
     "name": "stdout",
     "output_type": "stream",
     "text": [
      "Бустинг (Эмбеддинг + средние параметры спецификаций):\n",
      "Accuracy: 0.6736526946107785\n",
      "ROC AUC: 0.7300152658045976\n"
     ]
    }
   ],
   "source": [
    "\"\"\"\n",
    "Предсказание законтрактованности (Эмбеддинг + средние параметры спецификаций)\n",
    "\"\"\"\n",
    "print('Бустинг (Эмбеддинг + средние параметры спецификаций):')\n",
    "model = CatBoostClassifier(verbose = 0, random_state=32).fit(X_train[features['embed'] + features['spec']], y_train)\n",
    "estimate(model, X_test[features['embed'] + features['spec']], y_test)"
   ]
  },
  {
   "cell_type": "code",
   "execution_count": null,
   "id": "5bb9edde-2990-440e-b961-8d5d8717e9e8",
   "metadata": {},
   "outputs": [],
   "source": []
  },
  {
   "cell_type": "code",
   "execution_count": null,
   "id": "97f09684-612e-49b6-a942-efda37361670",
   "metadata": {},
   "outputs": [],
   "source": []
  },
  {
   "cell_type": "markdown",
   "id": "4b6c1c7c-df2c-40a9-acbd-44aeccd0a811",
   "metadata": {},
   "source": [
    "## Предсказание законтрактованности отдельно по дням"
   ]
  },
  {
   "cell_type": "code",
   "execution_count": 5,
   "id": "9e7fe03f-0173-47e3-b8b3-6f8dbc2070c0",
   "metadata": {},
   "outputs": [
    {
     "name": "stdout",
     "output_type": "stream",
     "text": [
      "Бустинг (Агрегации поставок):\n",
      "0.277136351808483\n"
     ]
    }
   ],
   "source": [
    "print('Бустинг (Агрегации поставок):')\n",
    "model = CatBoostClassifier(verbose = 0, random_state=42).fit(X_train[features['zpp4']], y_train)\n",
    "actual, predicted = dayseparately(X_test, y_test, features['zpp4'], lambda x: model.predict(x))\n",
    "print(f'MAP@k: {mapk(actual, predicted)}')"
   ]
  },
  {
   "cell_type": "code",
   "execution_count": 6,
   "id": "11ef3983-549b-4e27-9676-bcb1411c6aa4",
   "metadata": {},
   "outputs": [
    {
     "name": "stdout",
     "output_type": "stream",
     "text": [
      "Бустинг (Эмбеддинг):\n",
      "0.29171675774134787\n"
     ]
    }
   ],
   "source": [
    "print('Бустинг (Эмбеддинг):')\n",
    "model = CatBoostClassifier(verbose = 0, random_state=42).fit(X_train[features['embed']], y_train)\n",
    "actual, predicted = dayseparately(X_test, y_test, features['embed'], lambda x: model.predict(x))\n",
    "print(f'MAP@k: {mapk(actual, predicted)}')"
   ]
  },
  {
   "cell_type": "code",
   "execution_count": null,
   "id": "aa19f99d-41e2-47d4-b2f3-666ba053145f",
   "metadata": {},
   "outputs": [],
   "source": []
  },
  {
   "cell_type": "code",
   "execution_count": null,
   "id": "1c80efa1-1f98-4193-92ab-1d6965e757ac",
   "metadata": {},
   "outputs": [],
   "source": []
  },
  {
   "cell_type": "code",
   "execution_count": null,
   "id": "5b49dc36-e9c9-44e8-a2da-1c09fbb80bba",
   "metadata": {},
   "outputs": [],
   "source": []
  },
  {
   "cell_type": "code",
   "execution_count": null,
   "id": "a0650521-52b9-446e-988d-7a05fa397497",
   "metadata": {},
   "outputs": [],
   "source": []
  },
  {
   "cell_type": "code",
   "execution_count": 16,
   "id": "026c25fd-e243-4f46-9a90-aa7bf7ea83f1",
   "metadata": {},
   "outputs": [
    {
     "name": "stdout",
     "output_type": "stream",
     "text": [
      "Бустинг (Агрегации поставок):\n",
      "ROC AUC: 0.7348193960789928\n"
     ]
    }
   ],
   "source": [
    "def batch_roc_auc(actual, predicted):\n",
    "    return np.mean([(roc_auc_score(real, pred) if len(np.unique(real)) > 1 else 1.) for (real, pred) in zip(actual, predicted)])\n",
    "\n",
    "print('Бустинг (Средние параметры поставок):')\n",
    "model = CatBoostClassifier(verbose = 0, random_state=42).fit(X_train[features['zpp4']], y_train)\n",
    "actual, predicted = dayseparately(X_test, y_test, features['zpp4'], lambda x: model.predict_proba(x)[:, 1])\n",
    "print(f'ROC AUC: {batch_roc_auc(actual, predicted)}')"
   ]
  },
  {
   "cell_type": "code",
   "execution_count": 17,
   "id": "34f476a5-8ee0-41e2-b881-4120c691cbe0",
   "metadata": {},
   "outputs": [
    {
     "name": "stdout",
     "output_type": "stream",
     "text": [
      "Бустинг (Эмбеддинг):\n",
      "ROC AUC: 0.7514586790542302\n"
     ]
    }
   ],
   "source": [
    "print('Бустинг (Эмбеддинг):')\n",
    "model = CatBoostClassifier(verbose = 0, random_state=42).fit(X_train[features['embed']], y_train)\n",
    "actual, predicted = dayseparately(X_test, y_test, features['embed'], lambda x: model.predict_proba(x)[:, 1])\n",
    "print(f'ROC AUC: {batch_roc_auc(actual, predicted)}')"
   ]
  },
  {
   "cell_type": "code",
   "execution_count": null,
   "id": "6c718e26-c1ba-4e27-bf72-4a2d50d5f649",
   "metadata": {},
   "outputs": [],
   "source": []
  },
  {
   "cell_type": "code",
   "execution_count": 22,
   "id": "9b470f8d-8e0f-4458-a34a-3ace57ae3453",
   "metadata": {},
   "outputs": [
    {
     "name": "stdout",
     "output_type": "stream",
     "text": [
      "Бустинг (Средние параметры поставок + средние параметры спецификаций):\n",
      "MAP@k: 0.3014133923150316\n"
     ]
    }
   ],
   "source": [
    "print('Бустинг (Средние параметры поставок + средние параметры спецификаций):')\n",
    "model = CatBoostClassifier(verbose = 0, random_state=42).fit(X_train[features['zpp4'] + features['spec']], y_train)\n",
    "actual, predicted = dayseparately(X_test, y_test, features['zpp4'] + features['spec'], lambda x: model.predict(x))\n",
    "print(f'MAP@k: {mapk(actual, predicted)}')"
   ]
  },
  {
   "cell_type": "code",
   "execution_count": 23,
   "id": "dc3792b3-c417-49f7-a422-bda99f6e1344",
   "metadata": {},
   "outputs": [
    {
     "name": "stdout",
     "output_type": "stream",
     "text": [
      "Бустинг (Эмбеддинг + средние параметры спецификаций):\n",
      "MAP@k: 0.29130410269754525\n"
     ]
    }
   ],
   "source": [
    "print('Бустинг (Эмбеддинг + средние параметры спецификаций):')\n",
    "model = CatBoostClassifier(verbose = 0, random_state=32).fit(X_train[features['embed'] + features['spec']], y_train)\n",
    "actual, predicted = dayseparately(X_test, y_test, features['embed'] + features['spec'], lambda x: model.predict(x))\n",
    "print(f'MAP@k: {mapk(actual, predicted)}')"
   ]
  },
  {
   "cell_type": "code",
   "execution_count": null,
   "id": "735840bf-364f-40e6-b8ed-cddba7c35363",
   "metadata": {},
   "outputs": [],
   "source": []
  },
  {
   "cell_type": "code",
   "execution_count": null,
   "id": "7a296012-ef8f-4d21-b29b-a1dbdf03b1a8",
   "metadata": {},
   "outputs": [],
   "source": []
  },
  {
   "cell_type": "code",
   "execution_count": 18,
   "id": "4dd60030-2860-4fcd-9dca-3aef8380472b",
   "metadata": {},
   "outputs": [
    {
     "name": "stdout",
     "output_type": "stream",
     "text": [
      "Бустинг (Средние параметры поставок + средние параметры спецификаций):\n",
      "ROC AUC: 0.7868132120249683\n"
     ]
    }
   ],
   "source": [
    "print('Бустинг (Средние параметры поставок + средние параметры спецификаций):')\n",
    "model = CatBoostClassifier(verbose = 0, random_state=42).fit(X_train[features['zpp4'] + features['spec']], y_train)\n",
    "actual, predicted = dayseparately(X_test, y_test, features['zpp4'] + features['spec'], lambda x: model.predict_proba(x)[:, 1])\n",
    "print(f'ROC AUC: {batch_roc_auc(actual, predicted)}')"
   ]
  },
  {
   "cell_type": "code",
   "execution_count": 19,
   "id": "13e2b7bb-a859-4c45-81a7-e8da89631824",
   "metadata": {},
   "outputs": [
    {
     "name": "stdout",
     "output_type": "stream",
     "text": [
      "Бустинг (Эмбеддинг + средние параметры спецификаций):\n",
      "ROC AUC: 0.7904219128897612\n"
     ]
    }
   ],
   "source": [
    "print('Бустинг (Эмбеддинг + средние параметры спецификаций):')\n",
    "model = CatBoostClassifier(verbose = 0, random_state=42).fit(X_train[features['embed'] + features['spec']], y_train)\n",
    "actual, predicted = dayseparately(X_test, y_test, features['embed'] + features['spec'], lambda x: model.predict_proba(x)[:, 1])\n",
    "print(f'ROC AUC: {batch_roc_auc(actual, predicted)}')"
   ]
  },
  {
   "cell_type": "code",
   "execution_count": null,
   "id": "911e0269-885a-4232-af4f-17c7b5f98c03",
   "metadata": {},
   "outputs": [],
   "source": []
  },
  {
   "cell_type": "code",
   "execution_count": null,
   "id": "c3eef443-5b9a-4c97-9dde-175866c2a795",
   "metadata": {},
   "outputs": [],
   "source": []
  },
  {
   "cell_type": "code",
   "execution_count": null,
   "id": "951a5634-5b11-43a8-aabe-b501977288ea",
   "metadata": {},
   "outputs": [],
   "source": []
  },
  {
   "cell_type": "code",
   "execution_count": null,
   "id": "2389a285-fe1c-4482-88ac-d182861fe6ea",
   "metadata": {},
   "outputs": [],
   "source": []
  },
  {
   "cell_type": "code",
   "execution_count": null,
   "id": "c2ae5f4a-3a8b-41fd-88d2-4c29d342e4a9",
   "metadata": {},
   "outputs": [],
   "source": []
  },
  {
   "cell_type": "code",
   "execution_count": null,
   "id": "dc4b2f09-d6cf-4d11-a5ed-05bbf59e9d80",
   "metadata": {},
   "outputs": [],
   "source": []
  },
  {
   "cell_type": "code",
   "execution_count": null,
   "id": "0b4348a7-842c-4821-b6d8-79426cec6537",
   "metadata": {},
   "outputs": [],
   "source": []
  },
  {
   "cell_type": "code",
   "execution_count": null,
   "id": "4941f084-d688-4fb4-bb0c-941b1392526c",
   "metadata": {},
   "outputs": [],
   "source": []
  },
  {
   "cell_type": "markdown",
   "id": "cc3f4580-483b-48da-bee8-9e90e35f8467",
   "metadata": {},
   "source": [
    "## Комбинирование переменных"
   ]
  },
  {
   "cell_type": "code",
   "execution_count": 10,
   "id": "87600f05-9a3b-4cd6-b063-c734fd319c72",
   "metadata": {},
   "outputs": [
    {
     "name": "stdout",
     "output_type": "stream",
     "text": [
      "Accuracy: 0.6586826347305389\n",
      "ROC AUC: 0.7257543103448275\n"
     ]
    }
   ],
   "source": [
    "\"\"\"\n",
    "Предсказание законтрактованности (Простые агрегации + агрегации спецификаций)\n",
    "\"\"\"\n",
    "\n",
    "model = CatBoostClassifier(verbose = 0, random_state=42).fit(X_train[features['zpp4'] + features['spec']], y_train)\n",
    "estimate(model, X_test[features['zpp4'] + features['spec']], y_test)"
   ]
  },
  {
   "cell_type": "code",
   "execution_count": 11,
   "id": "5bf68ef9-4302-46b2-8092-fa442113cc47",
   "metadata": {},
   "outputs": [
    {
     "name": "stdout",
     "output_type": "stream",
     "text": [
      "Accuracy: 0.6631736526946108\n",
      "ROC AUC: 0.7190283764367816\n"
     ]
    }
   ],
   "source": [
    "\"\"\"\n",
    "Предсказание законтрактованности (Эмбеддинг + агрегации спецификаций)\n",
    "\"\"\"\n",
    "\n",
    "model = CatBoostClassifier(verbose = 0, random_state=42).fit(X_train[features['embed'] + features['spec']], y_train)\n",
    "estimate(model, X_test[features['embed'] + features['spec']], y_test)"
   ]
  },
  {
   "cell_type": "markdown",
   "id": "a9b18c8f-3f62-4584-9f2d-e07b3a898eff",
   "metadata": {},
   "source": [
    "## Комбинирование переменных (отдельно по дням)"
   ]
  },
  {
   "cell_type": "code",
   "execution_count": 12,
   "id": "093f4ab4-4b90-4205-91bc-8bcf9980fb7b",
   "metadata": {},
   "outputs": [
    {
     "name": "stdout",
     "output_type": "stream",
     "text": [
      "0.3014133923150316\n"
     ]
    }
   ],
   "source": [
    "\"\"\"\n",
    "Предсказание законтрактованности (Простые агрегации + агрегации спецификаций)\n",
    "\"\"\"\n",
    "\n",
    "model = CatBoostClassifier(verbose = 0, random_state=42).fit(X_train[features['zpp4'] + features['spec']], y_train)\n",
    "actual, predicted = dayseparately(X_test, y_test, features['zpp4'] + features['spec'], lambda x: model.predict(x))\n",
    "print(f'{mapk(actual, predicted)}')"
   ]
  },
  {
   "cell_type": "code",
   "execution_count": 13,
   "id": "fad68712-56a5-4674-981e-f5dace234a89",
   "metadata": {},
   "outputs": [
    {
     "name": "stdout",
     "output_type": "stream",
     "text": [
      "0.2902112065226819\n"
     ]
    }
   ],
   "source": [
    "\"\"\"\n",
    "Предсказание законтрактованности (Эмбеддинг + агрегации спецификаций)\n",
    "\"\"\"\n",
    "\n",
    "model = CatBoostClassifier(verbose = 0, random_state=42).fit(X_train[features['embed'] + features['spec']], y_train)\n",
    "actual, predicted = dayseparately(X_test, y_test, features['embed'] + features['spec'], lambda x: model.predict(x))\n",
    "print(f'{mapk(actual, predicted)}')"
   ]
  },
  {
   "cell_type": "code",
   "execution_count": null,
   "id": "5a21d930-7656-4cd3-86bb-3227100d7797",
   "metadata": {},
   "outputs": [],
   "source": []
  },
  {
   "cell_type": "code",
   "execution_count": null,
   "id": "4341952a-4d1c-431c-9f13-ad7feceb2041",
   "metadata": {},
   "outputs": [],
   "source": []
  },
  {
   "cell_type": "code",
   "execution_count": null,
   "id": "8c5a107d-8053-4cec-b5ae-d0b3230f4b8c",
   "metadata": {},
   "outputs": [],
   "source": []
  },
  {
   "cell_type": "code",
   "execution_count": null,
   "id": "a8478588-efa7-4d09-9200-9d304804feec",
   "metadata": {},
   "outputs": [],
   "source": []
  },
  {
   "cell_type": "code",
   "execution_count": null,
   "id": "0f28ae5c-e7cc-4c28-b0e7-b01e64139061",
   "metadata": {},
   "outputs": [],
   "source": []
  },
  {
   "cell_type": "code",
   "execution_count": null,
   "id": "5c63742c-a261-4225-9690-0bfad3366e9d",
   "metadata": {},
   "outputs": [],
   "source": []
  },
  {
   "cell_type": "code",
   "execution_count": null,
   "id": "8d4407d0-cb01-4a0d-90cc-6439d55f46a2",
   "metadata": {},
   "outputs": [],
   "source": []
  },
  {
   "cell_type": "code",
   "execution_count": null,
   "id": "cb1891f5-67af-4706-9793-3b803e355f38",
   "metadata": {},
   "outputs": [],
   "source": []
  },
  {
   "cell_type": "code",
   "execution_count": null,
   "id": "bb4ba65c-2369-47be-af7e-d069302a538b",
   "metadata": {},
   "outputs": [],
   "source": []
  },
  {
   "cell_type": "code",
   "execution_count": null,
   "id": "6c16cd46-2162-4bb5-8b9e-52f9f89dbdc1",
   "metadata": {},
   "outputs": [],
   "source": []
  },
  {
   "cell_type": "code",
   "execution_count": null,
   "id": "15e53177-480f-4391-834d-c631a291c371",
   "metadata": {},
   "outputs": [],
   "source": []
  },
  {
   "cell_type": "code",
   "execution_count": null,
   "id": "9c92a5c4-1ac2-4206-b817-387e4594afe3",
   "metadata": {},
   "outputs": [],
   "source": []
  },
  {
   "cell_type": "code",
   "execution_count": null,
   "id": "9c6e59d0-5172-4c70-a2f6-587caff49044",
   "metadata": {},
   "outputs": [],
   "source": []
  }
 ],
 "metadata": {
  "kernelspec": {
   "display_name": "Python 3 (ipykernel)",
   "language": "python",
   "name": "python3"
  },
  "language_info": {
   "codemirror_mode": {
    "name": "ipython",
    "version": 3
   },
   "file_extension": ".py",
   "mimetype": "text/x-python",
   "name": "python",
   "nbconvert_exporter": "python",
   "pygments_lexer": "ipython3",
   "version": "3.11.5"
  }
 },
 "nbformat": 4,
 "nbformat_minor": 5
}
