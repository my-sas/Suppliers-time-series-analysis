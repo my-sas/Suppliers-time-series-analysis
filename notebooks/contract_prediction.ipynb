{
 "cells": [
  {
   "cell_type": "code",
   "execution_count": 1,
   "id": "e493f3ce-0860-48d9-bbcc-8ed9175974c6",
   "metadata": {
    "tags": []
   },
   "outputs": [],
   "source": [
    "import numpy as np\n",
    "import pandas as pd\n",
    "\n",
    "from catboost import CatBoostClassifier\n",
    "from sklearn.linear_model import LogisticRegression\n",
    "from sklearn.model_selection import train_test_split\n",
    "from sklearn.metrics import accuracy_score, roc_auc_score, f1_score, recall_score, precision_score, average_precision_score, confusion_matrix\n",
    "\n",
    "import seaborn as sns\n",
    "import matplotlib.pyplot as plt\n",
    "from tqdm import tqdm\n",
    "\n",
    "import sys\n",
    "import os\n",
    "sys.path.append(os.path.abspath('..'))\n",
    "from data.preprocessing import Preprocessor\n",
    "from figures.plots import show_embeddings\n",
    "\n",
    "import warnings\n",
    "warnings.filterwarnings('ignore')"
   ]
  },
  {
   "cell_type": "code",
   "execution_count": 2,
   "id": "8516749f-828d-4c24-b2f1-7a56e3044a72",
   "metadata": {
    "tags": []
   },
   "outputs": [],
   "source": [
    "# Загрузка данных\n",
    "\n",
    "embed_df = pd.read_csv('../data/final_data/embed_df.csv')\n",
    "embed_df['date'] = pd.to_datetime(embed_df['date'], format='%Y-%m-%d')\n",
    "\n",
    "spec = pd.read_csv('../data/processed_data/specs.csv')\n",
    "spec['spec_date'] = pd.to_datetime(spec['spec_date'], format='%Y-%m-%d')\n",
    "spec['delivery_period_end'] = pd.to_datetime(spec['delivery_period_end'], format='%Y-%m-%d')"
   ]
  },
  {
   "cell_type": "code",
   "execution_count": 3,
   "id": "cf6a98e7-1808-4891-ad44-a039f6471488",
   "metadata": {
    "tags": []
   },
   "outputs": [
    {
     "data": {
      "text/html": [
       "<div>\n",
       "<style scoped>\n",
       "    .dataframe tbody tr th:only-of-type {\n",
       "        vertical-align: middle;\n",
       "    }\n",
       "\n",
       "    .dataframe tbody tr th {\n",
       "        vertical-align: top;\n",
       "    }\n",
       "\n",
       "    .dataframe thead th {\n",
       "        text-align: right;\n",
       "    }\n",
       "</style>\n",
       "<table border=\"1\" class=\"dataframe\">\n",
       "  <thead>\n",
       "    <tr style=\"text-align: right;\">\n",
       "      <th></th>\n",
       "      <th>spec_id</th>\n",
       "      <th>supplier</th>\n",
       "      <th>date</th>\n",
       "      <th>0</th>\n",
       "      <th>1</th>\n",
       "      <th>2</th>\n",
       "      <th>3</th>\n",
       "      <th>4</th>\n",
       "      <th>5</th>\n",
       "      <th>6</th>\n",
       "      <th>7</th>\n",
       "      <th>8</th>\n",
       "      <th>9</th>\n",
       "      <th>10</th>\n",
       "      <th>11</th>\n",
       "      <th>12</th>\n",
       "      <th>13</th>\n",
       "      <th>14</th>\n",
       "      <th>15</th>\n",
       "    </tr>\n",
       "  </thead>\n",
       "  <tbody>\n",
       "    <tr>\n",
       "      <th>0</th>\n",
       "      <td>Рязанова А.В. ИП Глава К(Ф)Х_ЮР Валуйский МЭЗ ...</td>\n",
       "      <td>Рязанова А.В. ИП Глава К(Ф)Х</td>\n",
       "      <td>2022-07-06</td>\n",
       "      <td>0.460300</td>\n",
       "      <td>0.649141</td>\n",
       "      <td>0.256292</td>\n",
       "      <td>0.226665</td>\n",
       "      <td>0.298206</td>\n",
       "      <td>0.243263</td>\n",
       "      <td>0.432830</td>\n",
       "      <td>0.537985</td>\n",
       "      <td>0.033385</td>\n",
       "      <td>-0.456144</td>\n",
       "      <td>0.204552</td>\n",
       "      <td>0.202015</td>\n",
       "      <td>0.571657</td>\n",
       "      <td>-0.111501</td>\n",
       "      <td>-0.32077</td>\n",
       "      <td>-0.280780</td>\n",
       "    </tr>\n",
       "    <tr>\n",
       "      <th>1</th>\n",
       "      <td>Осипов Л.А. ИП Глава К(Ф)Х_Юг Руси, АО_2022-07-12</td>\n",
       "      <td>Осипов Л.А. ИП Глава К(Ф)Х</td>\n",
       "      <td>2022-07-20</td>\n",
       "      <td>0.147884</td>\n",
       "      <td>0.501117</td>\n",
       "      <td>-0.019148</td>\n",
       "      <td>0.211857</td>\n",
       "      <td>0.282511</td>\n",
       "      <td>0.243049</td>\n",
       "      <td>0.585474</td>\n",
       "      <td>0.022697</td>\n",
       "      <td>0.036378</td>\n",
       "      <td>-0.523893</td>\n",
       "      <td>0.021263</td>\n",
       "      <td>0.373732</td>\n",
       "      <td>0.441343</td>\n",
       "      <td>-0.137962</td>\n",
       "      <td>0.29929</td>\n",
       "      <td>-0.600176</td>\n",
       "    </tr>\n",
       "  </tbody>\n",
       "</table>\n",
       "</div>"
      ],
      "text/plain": [
       "                                             spec_id  \\\n",
       "0  Рязанова А.В. ИП Глава К(Ф)Х_ЮР Валуйский МЭЗ ...   \n",
       "1  Осипов Л.А. ИП Глава К(Ф)Х_Юг Руси, АО_2022-07-12   \n",
       "\n",
       "                       supplier       date         0         1         2  \\\n",
       "0  Рязанова А.В. ИП Глава К(Ф)Х 2022-07-06  0.460300  0.649141  0.256292   \n",
       "1    Осипов Л.А. ИП Глава К(Ф)Х 2022-07-20  0.147884  0.501117 -0.019148   \n",
       "\n",
       "          3         4         5         6         7         8         9  \\\n",
       "0  0.226665  0.298206  0.243263  0.432830  0.537985  0.033385 -0.456144   \n",
       "1  0.211857  0.282511  0.243049  0.585474  0.022697  0.036378 -0.523893   \n",
       "\n",
       "         10        11        12        13       14        15  \n",
       "0  0.204552  0.202015  0.571657 -0.111501 -0.32077 -0.280780  \n",
       "1  0.021263  0.373732  0.441343 -0.137962  0.29929 -0.600176  "
      ]
     },
     "execution_count": 3,
     "metadata": {},
     "output_type": "execute_result"
    }
   ],
   "source": [
    "embed_df.head(2)"
   ]
  },
  {
   "cell_type": "code",
   "execution_count": 4,
   "id": "c10fc136-c0ec-4119-91c3-f5314bc36b9d",
   "metadata": {
    "tags": []
   },
   "outputs": [
    {
     "data": {
      "text/html": [
       "<div>\n",
       "<style scoped>\n",
       "    .dataframe tbody tr th:only-of-type {\n",
       "        vertical-align: middle;\n",
       "    }\n",
       "\n",
       "    .dataframe tbody tr th {\n",
       "        vertical-align: top;\n",
       "    }\n",
       "\n",
       "    .dataframe thead th {\n",
       "        text-align: right;\n",
       "    }\n",
       "</style>\n",
       "<table border=\"1\" class=\"dataframe\">\n",
       "  <thead>\n",
       "    <tr style=\"text-align: right;\">\n",
       "      <th></th>\n",
       "      <th>supplier</th>\n",
       "      <th>supplier_status</th>\n",
       "      <th>item</th>\n",
       "      <th>basis</th>\n",
       "      <th>spec_date</th>\n",
       "      <th>delivery_period_end</th>\n",
       "      <th>payment_terms</th>\n",
       "      <th>option</th>\n",
       "      <th>logistics</th>\n",
       "      <th>declared_price</th>\n",
       "      <th>consent_price</th>\n",
       "      <th>spec_price</th>\n",
       "      <th>volume_requested</th>\n",
       "      <th>volume_contracted</th>\n",
       "      <th>bids_submitted</th>\n",
       "      <th>bids_contracted</th>\n",
       "      <th>id</th>\n",
       "      <th>late</th>\n",
       "    </tr>\n",
       "  </thead>\n",
       "  <tbody>\n",
       "    <tr>\n",
       "      <th>0</th>\n",
       "      <td>50 ЛЕТ ОКТЯБРЯ ООО</td>\n",
       "      <td>СХТП</td>\n",
       "      <td>подсолнечник</td>\n",
       "      <td>Юг Руси, АО</td>\n",
       "      <td>2022-12-19</td>\n",
       "      <td>2022-12-25</td>\n",
       "      <td>По факту</td>\n",
       "      <td>15.0</td>\n",
       "      <td>0.0</td>\n",
       "      <td>25.5</td>\n",
       "      <td>25.0</td>\n",
       "      <td>25.0</td>\n",
       "      <td>40.0</td>\n",
       "      <td>60.0</td>\n",
       "      <td>1.0</td>\n",
       "      <td>1.0</td>\n",
       "      <td>50 ЛЕТ ОКТЯБРЯ ООО_Юг Руси, АО_2022-12-19</td>\n",
       "      <td>0</td>\n",
       "    </tr>\n",
       "    <tr>\n",
       "      <th>1</th>\n",
       "      <td>50 ЛЕТ ОКТЯБРЯ ООО</td>\n",
       "      <td>СХТП</td>\n",
       "      <td>подсолнечник</td>\n",
       "      <td>Юг Руси, АО</td>\n",
       "      <td>2023-01-24</td>\n",
       "      <td>2023-02-12</td>\n",
       "      <td>По факту</td>\n",
       "      <td>15.0</td>\n",
       "      <td>0.0</td>\n",
       "      <td>27.5</td>\n",
       "      <td>27.5</td>\n",
       "      <td>27.5</td>\n",
       "      <td>50.0</td>\n",
       "      <td>59.0</td>\n",
       "      <td>1.0</td>\n",
       "      <td>1.0</td>\n",
       "      <td>50 ЛЕТ ОКТЯБРЯ ООО_Юг Руси, АО_2023-01-24</td>\n",
       "      <td>0</td>\n",
       "    </tr>\n",
       "  </tbody>\n",
       "</table>\n",
       "</div>"
      ],
      "text/plain": [
       "             supplier supplier_status          item        basis  spec_date  \\\n",
       "0  50 ЛЕТ ОКТЯБРЯ ООО            СХТП  подсолнечник  Юг Руси, АО 2022-12-19   \n",
       "1  50 ЛЕТ ОКТЯБРЯ ООО            СХТП  подсолнечник  Юг Руси, АО 2023-01-24   \n",
       "\n",
       "  delivery_period_end payment_terms  option  logistics  declared_price  \\\n",
       "0          2022-12-25      По факту    15.0        0.0            25.5   \n",
       "1          2023-02-12      По факту    15.0        0.0            27.5   \n",
       "\n",
       "   consent_price  spec_price  volume_requested  volume_contracted  \\\n",
       "0           25.0        25.0              40.0               60.0   \n",
       "1           27.5        27.5              50.0               59.0   \n",
       "\n",
       "   bids_submitted  bids_contracted                                         id  \\\n",
       "0             1.0              1.0  50 ЛЕТ ОКТЯБРЯ ООО_Юг Руси, АО_2022-12-19   \n",
       "1             1.0              1.0  50 ЛЕТ ОКТЯБРЯ ООО_Юг Руси, АО_2023-01-24   \n",
       "\n",
       "   late  \n",
       "0     0  \n",
       "1     0  "
      ]
     },
     "execution_count": 4,
     "metadata": {},
     "output_type": "execute_result"
    }
   ],
   "source": [
    "spec.head(2)"
   ]
  },
  {
   "cell_type": "code",
   "execution_count": 5,
   "id": "475a2f63-921e-4153-9491-803bd2ba0620",
   "metadata": {
    "tags": []
   },
   "outputs": [
    {
     "name": "stderr",
     "output_type": "stream",
     "text": [
      "100%|█████████████████████████████████████████████████████████████████████████████| 6519/6519 [00:21<00:00, 301.44it/s]\n"
     ]
    }
   ],
   "source": [
    "\"\"\"\n",
    "Создание эмбеддинга поставщика для спецификации:\n",
    "Эмбеддинг получается путём усреднения эмбеддингов по поставкам,\n",
    "которые закончились до начала рассматриваемой спецификации.\n",
    "\"\"\"\n",
    "\n",
    "spec_colums = ['id', 'supplier', 'spec_date', 'bids_contracted', 'late']\n",
    "data = pd.DataFrame(columns = list(embed_df.columns[3:]) + spec_colums)\n",
    "\n",
    "for i in tqdm(range(len(spec))):\n",
    "    supplier = spec.loc[i]['supplier']\n",
    "    date = spec.loc[i]['spec_date']\n",
    "    \n",
    "    embed = embed_df.loc[(embed_df['supplier'] == supplier) & (embed_df['date'] < date)] \\\n",
    "        [embed_df.columns[3:]].mean().values\n",
    "    \n",
    "    spec_info = spec.loc[i][spec_colums].values\n",
    "    \n",
    "    data.loc[len(data)] = np.concatenate((embed, spec_info))"
   ]
  },
  {
   "cell_type": "code",
   "execution_count": 6,
   "id": "1d4d2c6c-cdae-4c24-9e12-df704ddfd650",
   "metadata": {
    "tags": []
   },
   "outputs": [],
   "source": [
    "\"\"\"\n",
    "Анализ пропущенных значений\n",
    "\"\"\"\n",
    "\n",
    "# unknown_total = data['0'].isna().sum()\n",
    "# unknown_supplier = len(spec[~spec['supplier'].isin(embed_df['supplier'])])\n",
    "# supplier_first_spec = spec['supplier'].map(lambda x: embed_df.loc[embed_df['supplier'] == x]['date'].min())\n",
    "# unknown_fist_spec = len(spec[spec['spec_date'] <= supplier_first_spec])\n",
    "\n",
    "# print(f'У {unknown_supplier/unknown_total*100}% поставщик не предсавлен в embed_d\\n'\n",
    "#       + f'У {unknown_fist_spec/unknown_total*100}% поставщика ещё не было поставок')\n",
    "\n",
    "data = data.dropna()"
   ]
  },
  {
   "cell_type": "code",
   "execution_count": 7,
   "id": "fa5b40c5-d7ba-4cb3-937f-bb49eb7fe6df",
   "metadata": {},
   "outputs": [],
   "source": [
    "\"\"\"\n",
    "Разделение набора данных\n",
    "\"\"\"\n",
    "\n",
    "X_train, X_test, spec_train, spec_test = train_test_split(\n",
    "    data.drop(spec_colums, 1), data[spec_colums],\n",
    "    test_size=0.33, random_state=42\n",
    ")\n",
    "\n",
    "# законтрактованность\n",
    "y_train = spec_train['bids_contracted'].astype('int')\n",
    "y_test = spec_test['bids_contracted'].astype('int')\n",
    "\n",
    "# опоздал/не опоздал\n",
    "late_train = spec_train['late'].astype('int')\n",
    "late_test = spec_test['late'].astype('int')"
   ]
  },
  {
   "cell_type": "code",
   "execution_count": 8,
   "id": "46047e9f-9b0b-46e3-9048-e46a0a55ecae",
   "metadata": {
    "tags": []
   },
   "outputs": [
    {
     "name": "stdout",
     "output_type": "stream",
     "text": [
      "Логистическая регрессия:\n",
      "Accuracy: 0.6746490503715937\n",
      "ROC AUC: 0.6972329024513301\n",
      "\n",
      "\n",
      "Бустинг:\n",
      "Accuracy: 0.7225433526011561\n",
      "ROC AUC: 0.7368676676119394\n"
     ]
    }
   ],
   "source": [
    "\"\"\"\n",
    "Предсказание законтрактованности\n",
    "\"\"\"\n",
    "\n",
    "def estimate(model, X_test, y_test):\n",
    "    accuracy = accuracy_score(y_test, model.predict(X_test))\n",
    "    roc_auc = roc_auc_score(y_test, model.predict_proba(X_test)[:, 1])\n",
    "    print(f'Accuracy: {accuracy}\\nROC AUC: {roc_auc}')\n",
    "\n",
    "print('Логистическая регрессия:')\n",
    "model = LogisticRegression().fit(X_train, y_train)\n",
    "estimate(model, X_test, y_test)\n",
    "print('\\n')\n",
    "\n",
    "print('Бустинг:')\n",
    "model = CatBoostClassifier(verbose = 0).fit(X_train, y_train)\n",
    "estimate(model, X_test, y_test)"
   ]
  },
  {
   "cell_type": "code",
   "execution_count": 9,
   "id": "8630ee48-58f3-4d32-8d4a-2c1cf2117ea6",
   "metadata": {
    "tags": []
   },
   "outputs": [
    {
     "name": "stdout",
     "output_type": "stream",
     "text": [
      "Mean average precision: 0.7551898120373108\n"
     ]
    }
   ],
   "source": [
    "\"\"\"\n",
    "Оцениваем ранжирование по каждому дню отдельно\n",
    "\"\"\"\n",
    "\n",
    "actual = []\n",
    "predicted = []\n",
    "days_indexes = spec_test.groupby('spec_date').apply(lambda x: x.index)\n",
    "\n",
    "for day in days_indexes:\n",
    "    actual.append(y_test.loc[day].values)\n",
    "    predicted.append(model.predict_proba(X_test.loc[day])[:, 1])\n",
    "\n",
    "def map_(actual, predicted):\n",
    "    return np.mean([average_precision_score(a,p) for a,p in zip(actual, predicted)])\n",
    "\n",
    "print(f'Mean average precision: {map_(actual, predicted)}')"
   ]
  },
  {
   "cell_type": "code",
   "execution_count": 10,
   "id": "6208d934-61a6-42ef-af4b-55c4c6ee9c13",
   "metadata": {},
   "outputs": [
    {
     "name": "stdout",
     "output_type": "stream",
     "text": [
      "Accuracy: 0.9512799339388934\n",
      "ROC AUC: 0.5366463826910075\n"
     ]
    }
   ],
   "source": [
    "\"\"\"\n",
    "Предсказание опаздывания\n",
    "\"\"\"\n",
    "\n",
    "late_model = CatBoostClassifier(class_weights=[0.1, 0.1], verbose = 0).fit(X_train, late_train)\n",
    "estimate(late_model, X_test, late_test)"
   ]
  },
  {
   "cell_type": "code",
   "execution_count": 11,
   "id": "4bb37715-0e5f-4f0f-8bdd-2e996cd29e6e",
   "metadata": {
    "tags": []
   },
   "outputs": [
    {
     "data": {
      "text/plain": [
       "Text(33.22222222222222, 0.5, 'Truth')"
      ]
     },
     "execution_count": 11,
     "metadata": {},
     "output_type": "execute_result"
    },
    {
     "data": {
      "image/png": "[encoded data removed]",
      "text/plain": [
       "<Figure size 500x400 with 2 Axes>"
      ]
     },
     "metadata": {},
     "output_type": "display_data"
    }
   ],
   "source": [
    "\"\"\"\n",
    "Матрица предсказаний опаздывания \n",
    "\"\"\"\n",
    "\n",
    "cm = confusion_matrix(late_test, late_model.predict(X_test))\n",
    "\n",
    "plt.figure(figsize=(5,4))\n",
    "sns.heatmap(cm, annot=True, fmt='d')\n",
    "plt.xlabel('Predicted')\n",
    "plt.ylabel('Truth')"
   ]
  },
  {
   "cell_type": "code",
   "execution_count": 12,
   "id": "12f6d9cb-6a4b-49c0-b3c2-8cfa67b0d914",
   "metadata": {
    "tags": []
   },
   "outputs": [
    {
     "data": {
      "image/png": "[encoded data removed]",
      "text/plain": [
       "<Figure size 640x480 with 1 Axes>"
      ]
     },
     "metadata": {},
     "output_type": "display_data"
    }
   ],
   "source": [
    "show_embeddings(data.values[:, :16], data['late'])"
   ]
  },
  {
   "cell_type": "code",
   "execution_count": null,
   "id": "8bd48245-c1af-42ea-8a82-a499fe4a2c45",
   "metadata": {},
   "outputs": [],
   "source": []
  },
  {
   "cell_type": "code",
   "execution_count": null,
   "id": "cb50d3bc-1835-44ec-8ccb-9be6586bebd3",
   "metadata": {},
   "outputs": [],
   "source": []
  },
  {
   "cell_type": "code",
   "execution_count": null,
   "id": "25882f8b-4772-4448-b0ad-32be58134e42",
   "metadata": {},
   "outputs": [],
   "source": []
  },
  {
   "cell_type": "code",
   "execution_count": null,
   "id": "66ecefd1-524e-4cad-b6d8-e0388752871b",
   "metadata": {},
   "outputs": [],
   "source": []
  },
  {
   "cell_type": "code",
   "execution_count": null,
   "id": "934864c0-5c8a-441d-b353-e95fe149e8b7",
   "metadata": {},
   "outputs": [],
   "source": []
  },
  {
   "cell_type": "code",
   "execution_count": null,
   "id": "14eadf78-e9b2-43ff-9e5d-5d7903ce3bdd",
   "metadata": {},
   "outputs": [],
   "source": []
  },
  {
   "cell_type": "code",
   "execution_count": null,
   "id": "121c271c-a2c7-4d0c-91c2-1e0695d9d10c",
   "metadata": {},
   "outputs": [],
   "source": []
  },
  {
   "cell_type": "code",
   "execution_count": null,
   "id": "521cee54-1a54-4ca1-bdf4-f88b7296d3bd",
   "metadata": {},
   "outputs": [],
   "source": []
  },
  {
   "cell_type": "code",
   "execution_count": null,
   "id": "cc232a98-e851-4f80-8fb6-e8b1a7c0aba2",
   "metadata": {},
   "outputs": [],
   "source": []
  },
  {
   "cell_type": "code",
   "execution_count": null,
   "id": "cebf0741-4a64-4005-9efb-ad096a60a089",
   "metadata": {},
   "outputs": [],
   "source": []
  },
  {
   "cell_type": "code",
   "execution_count": null,
   "id": "0fa2239f-8423-4293-adfc-85b4f1f0b128",
   "metadata": {},
   "outputs": [],
   "source": []
  },
  {
   "cell_type": "code",
   "execution_count": null,
   "id": "076d27b4-e7e2-41f5-a822-4b69a2c47689",
   "metadata": {},
   "outputs": [],
   "source": []
  },
  {
   "cell_type": "code",
   "execution_count": null,
   "id": "4ec1feea-9e2c-4c61-b2a2-fcbd18938767",
   "metadata": {},
   "outputs": [],
   "source": []
  },
  {
   "cell_type": "code",
   "execution_count": null,
   "id": "53b0f59d-8609-4d3c-a8d6-7c18fb8e16a2",
   "metadata": {},
   "outputs": [],
   "source": []
  },
  {
   "cell_type": "code",
   "execution_count": null,
   "id": "34611b50-1989-4a48-8697-59426ab08356",
   "metadata": {},
   "outputs": [],
   "source": []
  },
  {
   "cell_type": "code",
   "execution_count": null,
   "id": "be10516f-5b20-4665-b51b-50fb507350b2",
   "metadata": {},
   "outputs": [],
   "source": []
  }
 ],
 "metadata": {
  "kernelspec": {
   "display_name": "Python 3 (ipykernel)",
   "language": "python",
   "name": "python3"
  },
  "language_info": {
   "codemirror_mode": {
    "name": "ipython",
    "version": 3
   },
   "file_extension": ".py",
   "mimetype": "text/x-python",
   "name": "python",
   "nbconvert_exporter": "python",
   "pygments_lexer": "ipython3",
   "version": "3.11.5"
  }
 },
 "nbformat": 4,
 "nbformat_minor": 5
}
