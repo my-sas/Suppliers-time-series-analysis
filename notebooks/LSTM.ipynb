{
 "cells": [
  {
   "cell_type": "code",
   "execution_count": 1,
   "id": "14fe7655-5508-4254-b2e0-22d1980890d7",
   "metadata": {
    "tags": []
   },
   "outputs": [],
   "source": [
    "import random\n",
    "import numpy as np\n",
    "import pandas as pd\n",
    "import seaborn as sns\n",
    "from tqdm import tqdm\n",
    "import matplotlib.pyplot as plt\n",
    "\n",
    "import torch\n",
    "import torch.nn as nn\n",
    "from torch.utils.data import Dataset, DataLoader, Subset\n",
    "\n",
    "import sys\n",
    "import os\n",
    "sys.path.append(os.path.abspath('../utils'))\n",
    "from preprocessing import Preprocessor\n",
    "\n",
    "import warnings\n",
    "warnings.filterwarnings('ignore')\n",
    "\n",
    "pd.set_option('display.max_columns', None)"
   ]
  },
  {
   "cell_type": "code",
   "execution_count": 2,
   "id": "3ab4bcfc-95bc-4179-bec3-cc4245203d79",
   "metadata": {
    "tags": []
   },
   "outputs": [
    {
     "name": "stderr",
     "output_type": "stream",
     "text": [
      "Duplicate rows cleaning: 620it [00:02, 279.37it/s]\n"
     ]
    }
   ],
   "source": [
    "preprocessor = Preprocessor()\n",
    "zpp4 = preprocessor.zpp4_preprocessing()\n",
    "spec = preprocessor.spec_preprocessing()"
   ]
  },
  {
   "cell_type": "code",
   "execution_count": 3,
   "id": "e6d55997-429c-4caa-8f7a-866b7a1a1e3c",
   "metadata": {},
   "outputs": [],
   "source": [
    "# class SuppliersDataset(Dataset):\n",
    "#     def __init__(self, df):\n",
    "#         self.df = df\n",
    "#         self.dataset = df['supplier'].unique()\n",
    "    \n",
    "#     def __getitem__(self, index):\n",
    "#         supplier = self.dataset[index]\n",
    "        \n",
    "#         return \n",
    "    \n",
    "#     def __len__(self):\n",
    "#         return len(self.dataset)"
   ]
  },
  {
   "cell_type": "code",
   "execution_count": 4,
   "id": "ce6e3d0c-e479-4e2a-bc28-2787a9550b4d",
   "metadata": {},
   "outputs": [],
   "source": [
    "# def preprocess(df):\n",
    "#     zpp4['day'] = zpp4['day'].map(lambda x: x.day)\n",
    "#     zpp4['month'] = zpp4['month'].map(lambda x: x.month)\n",
    "#     # zpp4['weekday'] = zpp4['weekday'].map(lambda x: x.year)\n",
    "#     zpp4['weekday'] = zpp4['weekday'].map(lambda x: x.weekday())\n",
    "    \n",
    "#     zpp4.drop([\n",
    "#         'date', 'basis', 'spec_date',\n",
    "#         'contract_price', 'estimated_price',\n",
    "#         'estimated_price1', 'sum', 'id'], 1)"
   ]
  },
  {
   "cell_type": "code",
   "execution_count": 5,
   "id": "352ab184-2622-4806-ad18-3d277016cd68",
   "metadata": {},
   "outputs": [],
   "source": [
    "# zpp4.drop([\n",
    "#     'date', 'basis', 'spec_date',\n",
    "#     'contract_price', 'estimated_price',\n",
    "#     'estimated_price1', 'sum', 'id'], 1)"
   ]
  },
  {
   "cell_type": "code",
   "execution_count": 6,
   "id": "0f40983d-1bf2-48c8-a9ce-bc5ba2c9ed54",
   "metadata": {},
   "outputs": [
    {
     "data": {
      "text/html": [
       "<div>\n",
       "<style scoped>\n",
       "    .dataframe tbody tr th:only-of-type {\n",
       "        vertical-align: middle;\n",
       "    }\n",
       "\n",
       "    .dataframe tbody tr th {\n",
       "        vertical-align: top;\n",
       "    }\n",
       "\n",
       "    .dataframe thead th {\n",
       "        text-align: right;\n",
       "    }\n",
       "</style>\n",
       "<table border=\"1\" class=\"dataframe\">\n",
       "  <thead>\n",
       "    <tr style=\"text-align: right;\">\n",
       "      <th></th>\n",
       "      <th>date</th>\n",
       "      <th>supplier</th>\n",
       "      <th>basis</th>\n",
       "      <th>spec_date</th>\n",
       "      <th>contract_price</th>\n",
       "      <th>estimated_price</th>\n",
       "      <th>contract_price1</th>\n",
       "      <th>estimated_price1</th>\n",
       "      <th>quantity</th>\n",
       "      <th>sum</th>\n",
       "      <th>price_change</th>\n",
       "      <th>id</th>\n",
       "    </tr>\n",
       "  </thead>\n",
       "  <tbody>\n",
       "    <tr>\n",
       "      <th>0</th>\n",
       "      <td>2022-07-02</td>\n",
       "      <td>СОЮЗ ООО Ростов</td>\n",
       "      <td>Юг Руси, АО</td>\n",
       "      <td>2022-06-15</td>\n",
       "      <td>30.0</td>\n",
       "      <td>30.29</td>\n",
       "      <td>30.0</td>\n",
       "      <td>30.32</td>\n",
       "      <td>27.05</td>\n",
       "      <td>820156.0</td>\n",
       "      <td>1.07</td>\n",
       "      <td>СОЮЗ ООО Ростов_Юг Руси, АО_2022-06-15</td>\n",
       "    </tr>\n",
       "    <tr>\n",
       "      <th>1</th>\n",
       "      <td>2022-07-02</td>\n",
       "      <td>СОЮЗ ООО Ростов</td>\n",
       "      <td>Юг Руси, АО</td>\n",
       "      <td>2022-06-15</td>\n",
       "      <td>30.0</td>\n",
       "      <td>30.29</td>\n",
       "      <td>30.0</td>\n",
       "      <td>31.02</td>\n",
       "      <td>28.78</td>\n",
       "      <td>892755.6</td>\n",
       "      <td>3.40</td>\n",
       "      <td>СОЮЗ ООО Ростов_Юг Руси, АО_2022-06-15</td>\n",
       "    </tr>\n",
       "  </tbody>\n",
       "</table>\n",
       "</div>"
      ],
      "text/plain": [
       "        date         supplier        basis  spec_date  contract_price  \\\n",
       "0 2022-07-02  СОЮЗ ООО Ростов  Юг Руси, АО 2022-06-15            30.0   \n",
       "1 2022-07-02  СОЮЗ ООО Ростов  Юг Руси, АО 2022-06-15            30.0   \n",
       "\n",
       "   estimated_price  contract_price1  estimated_price1  quantity       sum  \\\n",
       "0            30.29             30.0             30.32     27.05  820156.0   \n",
       "1            30.29             30.0             31.02     28.78  892755.6   \n",
       "\n",
       "   price_change                                      id  \n",
       "0          1.07  СОЮЗ ООО Ростов_Юг Руси, АО_2022-06-15  \n",
       "1          3.40  СОЮЗ ООО Ростов_Юг Руси, АО_2022-06-15  "
      ]
     },
     "execution_count": 6,
     "metadata": {},
     "output_type": "execute_result"
    }
   ],
   "source": [
    "zpp4.head(2)"
   ]
  },
  {
   "cell_type": "code",
   "execution_count": 7,
   "id": "67125054-1bc9-44d2-adb3-2aecb5f3773d",
   "metadata": {},
   "outputs": [
    {
     "data": {
      "text/html": [
       "<div>\n",
       "<style scoped>\n",
       "    .dataframe tbody tr th:only-of-type {\n",
       "        vertical-align: middle;\n",
       "    }\n",
       "\n",
       "    .dataframe tbody tr th {\n",
       "        vertical-align: top;\n",
       "    }\n",
       "\n",
       "    .dataframe thead th {\n",
       "        text-align: right;\n",
       "    }\n",
       "</style>\n",
       "<table border=\"1\" class=\"dataframe\">\n",
       "  <thead>\n",
       "    <tr style=\"text-align: right;\">\n",
       "      <th></th>\n",
       "      <th>supplier</th>\n",
       "      <th>supplier_status</th>\n",
       "      <th>item</th>\n",
       "      <th>basis</th>\n",
       "      <th>spec_date</th>\n",
       "      <th>delivery_period_end</th>\n",
       "      <th>payment_terms</th>\n",
       "      <th>option</th>\n",
       "      <th>logistics</th>\n",
       "      <th>declared_price</th>\n",
       "      <th>consent_price</th>\n",
       "      <th>spec_price</th>\n",
       "      <th>volume_requested</th>\n",
       "      <th>volume_contracted</th>\n",
       "      <th>bids_submitted</th>\n",
       "      <th>bids_contracted</th>\n",
       "      <th>id</th>\n",
       "    </tr>\n",
       "  </thead>\n",
       "  <tbody>\n",
       "    <tr>\n",
       "      <th>0</th>\n",
       "      <td>50 ЛЕТ ОКТЯБРЯ ООО</td>\n",
       "      <td>СХТП</td>\n",
       "      <td>подсолнечник</td>\n",
       "      <td>Юг Руси, АО</td>\n",
       "      <td>2022-12-19</td>\n",
       "      <td>2022-12-25</td>\n",
       "      <td>По факту</td>\n",
       "      <td>15.0</td>\n",
       "      <td>0.0</td>\n",
       "      <td>25.5</td>\n",
       "      <td>25.0</td>\n",
       "      <td>25.0</td>\n",
       "      <td>40.0</td>\n",
       "      <td>60.0</td>\n",
       "      <td>1.0</td>\n",
       "      <td>1.0</td>\n",
       "      <td>50 ЛЕТ ОКТЯБРЯ ООО_Юг Руси, АО_2022-12-19</td>\n",
       "    </tr>\n",
       "    <tr>\n",
       "      <th>1</th>\n",
       "      <td>50 ЛЕТ ОКТЯБРЯ ООО</td>\n",
       "      <td>СХТП</td>\n",
       "      <td>подсолнечник</td>\n",
       "      <td>Юг Руси, АО</td>\n",
       "      <td>2023-01-24</td>\n",
       "      <td>2023-02-12</td>\n",
       "      <td>По факту</td>\n",
       "      <td>15.0</td>\n",
       "      <td>0.0</td>\n",
       "      <td>27.5</td>\n",
       "      <td>27.5</td>\n",
       "      <td>27.5</td>\n",
       "      <td>50.0</td>\n",
       "      <td>59.0</td>\n",
       "      <td>1.0</td>\n",
       "      <td>1.0</td>\n",
       "      <td>50 ЛЕТ ОКТЯБРЯ ООО_Юг Руси, АО_2023-01-24</td>\n",
       "    </tr>\n",
       "  </tbody>\n",
       "</table>\n",
       "</div>"
      ],
      "text/plain": [
       "             supplier supplier_status          item        basis  spec_date  \\\n",
       "0  50 ЛЕТ ОКТЯБРЯ ООО            СХТП  подсолнечник  Юг Руси, АО 2022-12-19   \n",
       "1  50 ЛЕТ ОКТЯБРЯ ООО            СХТП  подсолнечник  Юг Руси, АО 2023-01-24   \n",
       "\n",
       "  delivery_period_end payment_terms  option  logistics  declared_price  \\\n",
       "0          2022-12-25      По факту    15.0        0.0            25.5   \n",
       "1          2023-02-12      По факту    15.0        0.0            27.5   \n",
       "\n",
       "   consent_price  spec_price  volume_requested  volume_contracted  \\\n",
       "0           25.0        25.0              40.0               60.0   \n",
       "1           27.5        27.5              50.0               59.0   \n",
       "\n",
       "   bids_submitted  bids_contracted                                         id  \n",
       "0             1.0              1.0  50 ЛЕТ ОКТЯБРЯ ООО_Юг Руси, АО_2022-12-19  \n",
       "1             1.0              1.0  50 ЛЕТ ОКТЯБРЯ ООО_Юг Руси, АО_2023-01-24  "
      ]
     },
     "execution_count": 7,
     "metadata": {},
     "output_type": "execute_result"
    }
   ],
   "source": [
    "spec.head(2)"
   ]
  },
  {
   "cell_type": "code",
   "execution_count": 8,
   "id": "1ed0969e-63e9-4fbc-a7f5-ac88ad611e4a",
   "metadata": {
    "tags": []
   },
   "outputs": [
    {
     "data": {
      "text/html": [
       "<div>\n",
       "<style scoped>\n",
       "    .dataframe tbody tr th:only-of-type {\n",
       "        vertical-align: middle;\n",
       "    }\n",
       "\n",
       "    .dataframe tbody tr th {\n",
       "        vertical-align: top;\n",
       "    }\n",
       "\n",
       "    .dataframe thead th {\n",
       "        text-align: right;\n",
       "    }\n",
       "</style>\n",
       "<table border=\"1\" class=\"dataframe\">\n",
       "  <thead>\n",
       "    <tr style=\"text-align: right;\">\n",
       "      <th></th>\n",
       "      <th>date</th>\n",
       "      <th>supplier</th>\n",
       "      <th>basis</th>\n",
       "      <th>spec_date</th>\n",
       "      <th>contract_price</th>\n",
       "      <th>estimated_price</th>\n",
       "      <th>contract_price1</th>\n",
       "      <th>estimated_price1</th>\n",
       "      <th>quantity</th>\n",
       "      <th>sum</th>\n",
       "      <th>price_change</th>\n",
       "      <th>id</th>\n",
       "      <th>supplier_status</th>\n",
       "      <th>item</th>\n",
       "      <th>delivery_period_end</th>\n",
       "      <th>payment_terms</th>\n",
       "      <th>option</th>\n",
       "      <th>logistics</th>\n",
       "      <th>declared_price</th>\n",
       "      <th>consent_price</th>\n",
       "      <th>spec_price</th>\n",
       "      <th>volume_requested</th>\n",
       "      <th>volume_contracted</th>\n",
       "      <th>bids_submitted</th>\n",
       "      <th>bids_contracted</th>\n",
       "    </tr>\n",
       "  </thead>\n",
       "  <tbody>\n",
       "    <tr>\n",
       "      <th>0</th>\n",
       "      <td>2022-07-06</td>\n",
       "      <td>Рязанова А.В. ИП Глава К(Ф)Х</td>\n",
       "      <td>ЮР Валуйский МЭЗ ф-л, ООО</td>\n",
       "      <td>2022-07-06</td>\n",
       "      <td>25.0</td>\n",
       "      <td>24.78</td>\n",
       "      <td>25.0</td>\n",
       "      <td>24.78</td>\n",
       "      <td>27.44</td>\n",
       "      <td>679963.2</td>\n",
       "      <td>-0.88</td>\n",
       "      <td>Рязанова А.В. ИП Глава К(Ф)Х_ЮР Валуйский МЭЗ ...</td>\n",
       "      <td>Трейдер</td>\n",
       "      <td>подсолнечник</td>\n",
       "      <td>2022-07-09</td>\n",
       "      <td>По факту</td>\n",
       "      <td>10.0</td>\n",
       "      <td>0.0</td>\n",
       "      <td>0.0</td>\n",
       "      <td>25.0</td>\n",
       "      <td>25.0</td>\n",
       "      <td>30.0</td>\n",
       "      <td>30.0</td>\n",
       "      <td>1.0</td>\n",
       "      <td>1.0</td>\n",
       "    </tr>\n",
       "    <tr>\n",
       "      <th>1</th>\n",
       "      <td>2022-07-12</td>\n",
       "      <td>Осипов Л.А. ИП Глава К(Ф)Х</td>\n",
       "      <td>Юг Руси, АО</td>\n",
       "      <td>2022-07-12</td>\n",
       "      <td>25.0</td>\n",
       "      <td>24.68</td>\n",
       "      <td>25.0</td>\n",
       "      <td>24.55</td>\n",
       "      <td>31.43</td>\n",
       "      <td>771606.5</td>\n",
       "      <td>-1.80</td>\n",
       "      <td>Осипов Л.А. ИП Глава К(Ф)Х_Юг Руси, АО_2022-07-12</td>\n",
       "      <td>СХТП</td>\n",
       "      <td>подсолнечник</td>\n",
       "      <td>2022-07-22</td>\n",
       "      <td>По факту</td>\n",
       "      <td>10.0</td>\n",
       "      <td>0.0</td>\n",
       "      <td>25.0</td>\n",
       "      <td>25.0</td>\n",
       "      <td>25.0</td>\n",
       "      <td>220.0</td>\n",
       "      <td>170.0</td>\n",
       "      <td>1.0</td>\n",
       "      <td>1.0</td>\n",
       "    </tr>\n",
       "  </tbody>\n",
       "</table>\n",
       "</div>"
      ],
      "text/plain": [
       "        date                      supplier                      basis  \\\n",
       "0 2022-07-06  Рязанова А.В. ИП Глава К(Ф)Х  ЮР Валуйский МЭЗ ф-л, ООО   \n",
       "1 2022-07-12    Осипов Л.А. ИП Глава К(Ф)Х                Юг Руси, АО   \n",
       "\n",
       "   spec_date  contract_price  estimated_price  contract_price1  \\\n",
       "0 2022-07-06            25.0            24.78             25.0   \n",
       "1 2022-07-12            25.0            24.68             25.0   \n",
       "\n",
       "   estimated_price1  quantity       sum  price_change  \\\n",
       "0             24.78     27.44  679963.2         -0.88   \n",
       "1             24.55     31.43  771606.5         -1.80   \n",
       "\n",
       "                                                  id supplier_status  \\\n",
       "0  Рязанова А.В. ИП Глава К(Ф)Х_ЮР Валуйский МЭЗ ...         Трейдер   \n",
       "1  Осипов Л.А. ИП Глава К(Ф)Х_Юг Руси, АО_2022-07-12            СХТП   \n",
       "\n",
       "           item delivery_period_end payment_terms  option  logistics  \\\n",
       "0  подсолнечник          2022-07-09      По факту    10.0        0.0   \n",
       "1  подсолнечник          2022-07-22      По факту    10.0        0.0   \n",
       "\n",
       "   declared_price  consent_price  spec_price  volume_requested  \\\n",
       "0             0.0           25.0        25.0              30.0   \n",
       "1            25.0           25.0        25.0             220.0   \n",
       "\n",
       "   volume_contracted  bids_submitted  bids_contracted  \n",
       "0               30.0             1.0              1.0  \n",
       "1              170.0             1.0              1.0  "
      ]
     },
     "execution_count": 8,
     "metadata": {},
     "output_type": "execute_result"
    }
   ],
   "source": [
    "# inner join zpp4 и spec, таким образом получаем, только те поставки,\n",
    "# для которых есть данные о спецификации\n",
    "\n",
    "data = pd.merge(zpp4, spec, how='inner', on=['id', 'id'], suffixes = ('', '_DROP'))\n",
    "data = data.drop(['supplier_DROP', 'basis_DROP', 'spec_date_DROP'], 1)\n",
    "data.head(2)"
   ]
  },
  {
   "cell_type": "code",
   "execution_count": null,
   "id": "6095ae66-827a-49d9-8e49-c8fc81017671",
   "metadata": {},
   "outputs": [],
   "source": []
  },
  {
   "cell_type": "code",
   "execution_count": 9,
   "id": "28d07dc4-2513-4d0b-ab18-dedc812fa719",
   "metadata": {
    "tags": []
   },
   "outputs": [
    {
     "data": {
      "image/png": "[encoded data removed]",
      "text/plain": [
       "<Figure size 1200x600 with 1 Axes>"
      ]
     },
     "metadata": {},
     "output_type": "display_data"
    }
   ],
   "source": [
    "# Распределение поставок по шкале, где 0 - начало спецификации,\n",
    "# а 1 - конец поставок\n",
    "\n",
    "data['lateness_percentage'] = list(map(\n",
    "    lambda x: (x[1]-x[0])/(x[2]-x[0]),\n",
    "    data[['spec_date', 'date', 'delivery_period_end']].values\n",
    "))\n",
    "\n",
    "# Удаление артефактов\n",
    "\n",
    "# спецификация и конец поставки в тот же день, поэтому получился inf\n",
    "data = data.drop(data.loc[data['lateness_percentage'] == np.inf].index)\n",
    "# поставка раньше спецификации\n",
    "data.loc[data['lateness_percentage'] < 0, 'lateness_percentage'] = 0.\n",
    "\n",
    "plt.figure(figsize=(12, 6))\n",
    "g = sns.histplot(data['lateness_percentage']).set(\n",
    "    title='Распределение поставок по доле времени, оставшегося до завершения поставки',\n",
    "    xticks = range(11)\n",
    ")"
   ]
  },
  {
   "cell_type": "code",
   "execution_count": null,
   "id": "a2708761-b503-49cd-8c81-a03a7cb8f788",
   "metadata": {},
   "outputs": [],
   "source": []
  },
  {
   "cell_type": "code",
   "execution_count": 28,
   "id": "0a6402c2-ee5f-4389-b8b7-f72c892ff4e2",
   "metadata": {
    "tags": []
   },
   "outputs": [],
   "source": [
    "# Доля уже доставленного товара от всего законтрактованого договору\n",
    "\n",
    "# data['weight_percentage'] = data.groupby('id')['quantity'].cumsum() / data['volume_contracted']\n",
    "\n",
    "# Удаление артефактов\n",
    "\n",
    "# volume_contracted равное 0\n",
    "data = data.drop(data.loc[data['weight_percentage'] == np.inf].index)"
   ]
  },
  {
   "cell_type": "code",
   "execution_count": 36,
   "id": "65b5a02e-0efa-44e8-a657-f3dc90bb8ad6",
   "metadata": {
    "tags": []
   },
   "outputs": [
    {
     "data": {
      "text/plain": [
       "[<matplotlib.lines.Line2D at 0x277956c5310>]"
      ]
     },
     "execution_count": 36,
     "metadata": {},
     "output_type": "execute_result"
    },
    {
     "data": {
      "image/png": "[encoded data removed]",
      "text/plain": [
       "<Figure size 640x480 with 1 Axes>"
      ]
     },
     "metadata": {},
     "output_type": "display_data"
    }
   ],
   "source": [
    "# можно посмотреть динамику поставки товара,\n",
    "# 1 - товар доставлен в полном объёме\n",
    "\n",
    "history = data[data['id'] == data['id'].unique()[133]]\n",
    "plt.plot(history['lateness_percentage'], history['weight_percentage'])"
   ]
  },
  {
   "cell_type": "code",
   "execution_count": 39,
   "id": "87089e5c-6c64-4162-8ab8-87d644642c5d",
   "metadata": {},
   "outputs": [],
   "source": [
    "common_x = np.linspace(0, data['lateness_percentage'].max(), num=10000)"
   ]
  },
  {
   "cell_type": "code",
   "execution_count": 31,
   "id": "3a9c0531-4f3e-4c01-9b73-0b207821b96e",
   "metadata": {
    "tags": []
   },
   "outputs": [],
   "source": [
    "data_series = [\n",
    "    (data[data['lateness_percentage'] == spec_id].values, data[data['id'] == spec_id].values)\n",
    "    for spec_id in data['id'].unique()\n",
    "]"
   ]
  },
  {
   "cell_type": "code",
   "execution_count": 41,
   "id": "5b7aeaef-af2e-4e1a-8916-416376931311",
   "metadata": {},
   "outputs": [],
   "source": [
    "# interpolated_series = []\n",
    "# for series in data_series:\n",
    "#     time, y = series\n",
    "#     interpolated_y = np.interp(common_x, time, y, left=np.nan, right=np.nan)\n",
    "#     interpolated_series.append(interpolated_y)"
   ]
  },
  {
   "cell_type": "code",
   "execution_count": null,
   "id": "0247072a-d93b-4551-bd9c-c03ab5a7cdc1",
   "metadata": {},
   "outputs": [],
   "source": []
  },
  {
   "cell_type": "code",
   "execution_count": 52,
   "id": "1f118b7c-01fa-4e09-9715-77d526e6769b",
   "metadata": {
    "tags": []
   },
   "outputs": [],
   "source": [
    "global_max_x = 5.\n",
    "step = 0.01\n",
    "\n",
    "supply_id = data['id'].unique()[133]\n",
    "common_x = np.linspace(0, data[data['id'] == supply_id]['lateness_percentage'].max(), num=10)\n",
    "interpolated_y = np.interp(\n",
    "    common_x,\n",
    "    data[data['id'] == supply_id]['lateness_percentage'].values,\n",
    "    data[data['id'] == supply_id]['weight_percentage'].values,\n",
    "    left=np.nan,\n",
    "    right=np.nan\n",
    ")"
   ]
  },
  {
   "cell_type": "code",
   "execution_count": null,
   "id": "a4965920-4229-4188-987f-c974a2c2d203",
   "metadata": {},
   "outputs": [],
   "source": []
  },
  {
   "cell_type": "code",
   "execution_count": 53,
   "id": "b66fc14e-4799-4389-a822-4331ce0e8199",
   "metadata": {},
   "outputs": [
    {
     "data": {
      "text/plain": [
       "[<matplotlib.lines.Line2D at 0x27799c4d250>]"
      ]
     },
     "execution_count": 53,
     "metadata": {},
     "output_type": "execute_result"
    },
    {
     "data": {
      "image/png": "[encoded data removed]",
      "text/plain": [
       "<Figure size 640x480 with 1 Axes>"
      ]
     },
     "metadata": {},
     "output_type": "display_data"
    }
   ],
   "source": [
    "plt.plot(common_x, interpolated)"
   ]
  },
  {
   "cell_type": "code",
   "execution_count": null,
   "id": "39da7807-40e7-4a67-b303-fd4ae27906f3",
   "metadata": {},
   "outputs": [],
   "source": []
  },
  {
   "cell_type": "code",
   "execution_count": null,
   "id": "2badeb9c-f6ab-40d0-b98d-89c474179e7f",
   "metadata": {},
   "outputs": [],
   "source": []
  },
  {
   "cell_type": "code",
   "execution_count": null,
   "id": "e691fd26-1b52-4483-902e-1ef10ccac733",
   "metadata": {},
   "outputs": [],
   "source": []
  },
  {
   "cell_type": "code",
   "execution_count": null,
   "id": "5714ff67-28e6-4c3e-9852-34a2ebc424af",
   "metadata": {},
   "outputs": [],
   "source": []
  },
  {
   "cell_type": "code",
   "execution_count": null,
   "id": "14c58077-a573-4489-8781-3c1799b3d23d",
   "metadata": {},
   "outputs": [],
   "source": []
  },
  {
   "cell_type": "code",
   "execution_count": null,
   "id": "a0994092-83bc-4117-aac3-09d081742e31",
   "metadata": {},
   "outputs": [],
   "source": []
  },
  {
   "cell_type": "code",
   "execution_count": null,
   "id": "088a656d-21ef-4d47-a469-b32a34e0af52",
   "metadata": {},
   "outputs": [],
   "source": []
  },
  {
   "cell_type": "code",
   "execution_count": null,
   "id": "3175e2e6-0ece-44f4-8557-2f51309eb58e",
   "metadata": {},
   "outputs": [],
   "source": []
  },
  {
   "cell_type": "code",
   "execution_count": null,
   "id": "d408ef6c-fe9b-4d1d-8b35-60c03e4834ab",
   "metadata": {},
   "outputs": [],
   "source": []
  },
  {
   "cell_type": "code",
   "execution_count": null,
   "id": "7e5cb89a-e8bd-4e3d-bb2a-2a04abebd94e",
   "metadata": {},
   "outputs": [],
   "source": []
  },
  {
   "cell_type": "code",
   "execution_count": null,
   "id": "06edf0ec-b805-441d-a55f-59d1c91fa7ac",
   "metadata": {},
   "outputs": [],
   "source": []
  },
  {
   "cell_type": "code",
   "execution_count": null,
   "id": "4392fb8d-ad87-4d1d-987f-868c82d2b433",
   "metadata": {},
   "outputs": [],
   "source": []
  },
  {
   "cell_type": "code",
   "execution_count": null,
   "id": "b2851643-645d-412c-a6fd-7bcc1b449043",
   "metadata": {},
   "outputs": [],
   "source": []
  },
  {
   "cell_type": "code",
   "execution_count": null,
   "id": "5cd449f8-76b3-408d-be39-3fafc8576be9",
   "metadata": {},
   "outputs": [],
   "source": []
  },
  {
   "cell_type": "code",
   "execution_count": null,
   "id": "a5dfb29d-db6a-49ab-81fe-44d2e5984bb5",
   "metadata": {},
   "outputs": [],
   "source": []
  },
  {
   "cell_type": "code",
   "execution_count": null,
   "id": "5dc68ae1-dd0b-4d91-962f-8937ab9d1aec",
   "metadata": {},
   "outputs": [],
   "source": []
  },
  {
   "cell_type": "code",
   "execution_count": null,
   "id": "bf89759a-5209-4dfa-bc7e-b26e97d7ad46",
   "metadata": {},
   "outputs": [],
   "source": []
  }
 ],
 "metadata": {
  "kernelspec": {
   "display_name": "Python 3 (ipykernel)",
   "language": "python",
   "name": "python3"
  },
  "language_info": {
   "codemirror_mode": {
    "name": "ipython",
    "version": 3
   },
   "file_extension": ".py",
   "mimetype": "text/x-python",
   "name": "python",
   "nbconvert_exporter": "python",
   "pygments_lexer": "ipython3",
   "version": "3.11.3"
  }
 },
 "nbformat": 4,
 "nbformat_minor": 5
}
