{
 "cells": [
  {
   "cell_type": "code",
   "execution_count": 99,
   "id": "14fe7655-5508-4254-b2e0-22d1980890d7",
   "metadata": {
    "tags": []
   },
   "outputs": [],
   "source": [
    "import os\n",
    "import numpy as np\n",
    "import pandas as pd\n",
    "import matplotlib.pyplot as plt\n",
    "import matplotlib.patches as mpatches\n",
    "\n",
    "import torch\n",
    "import torch.nn as nn\n",
    "from torch.nn.utils.rnn import pad_sequence\n",
    "from torch.utils.data import Dataset, DataLoader, Subset, BatchSampler, SequentialSampler, Sampler\n",
    "\n",
    "from sklearn.manifold import TSNE\n",
    "\n",
    "import warnings\n",
    "warnings.filterwarnings('ignore')"
   ]
  },
  {
   "cell_type": "code",
   "execution_count": 2,
   "id": "93748924-7172-4f86-8523-8c8ffdc2c082",
   "metadata": {
    "tags": []
   },
   "outputs": [],
   "source": [
    "def show_embeddings(vectors, y=None):\n",
    "    \n",
    "    # reduce dimensions with TSNE\n",
    "    trans_vectors = TSNE(\n",
    "        n_components=2, learning_rate='auto', init='random', perplexity=5\n",
    "    ).fit_transform(vectors)\n",
    "    \n",
    "    # create legend if labels are known\n",
    "    colors = None\n",
    "    if y is not None:\n",
    "        \n",
    "        # create color map from unique labels\n",
    "        labels = np.unique(y)\n",
    "        label_idx = {k: v for k, v in zip(labels, range(len(labels)))}\n",
    "        cmap = plt.cm.get_cmap('gist_rainbow', len(labels))\n",
    "        colors = [cmap(label_idx[i]) for i in y]\n",
    "        \n",
    "        # add legend labels manually\n",
    "        patches = [mpatches.Patch(color=cmap(i), label=label) for i, label in enumerate(labels)]\n",
    "        plt.legend(handles=patches, bbox_to_anchor=(1.02, 1), loc='upper left', borderaxespad=0)\n",
    "    \n",
    "    plt.scatter(\n",
    "        trans_vectors[:, 0],\n",
    "        trans_vectors[:, 1],\n",
    "        c=colors, alpha=1\n",
    "    )\n",
    "    return\n",
    "\n",
    "def cutpad(arr):\n",
    "    \"\"\"\n",
    "    Removes padding from array\n",
    "    \"\"\"\n",
    "    return arr[arr != 0]"
   ]
  },
  {
   "cell_type": "code",
   "execution_count": 3,
   "id": "1987288d-bb8d-4a32-8d69-c54cc81f98fd",
   "metadata": {
    "tags": []
   },
   "outputs": [],
   "source": [
    "spec_cols = ['supplier_status', 'volume_contracted', 'spec_price', 'delivery_period_lenght']\n",
    "delivery_cols = ['price_change', 'lateness_percentage', 'weight_percentage']\n",
    "time_cols = ['month', 'day', 'weekday']"
   ]
  },
  {
   "cell_type": "code",
   "execution_count": 5,
   "id": "7b544971-1be8-4b92-b5ba-42832edb6f1f",
   "metadata": {
    "tags": []
   },
   "outputs": [
    {
     "data": {
      "text/html": [
       "<div>\n",
       "<style scoped>\n",
       "    .dataframe tbody tr th:only-of-type {\n",
       "        vertical-align: middle;\n",
       "    }\n",
       "\n",
       "    .dataframe tbody tr th {\n",
       "        vertical-align: top;\n",
       "    }\n",
       "\n",
       "    .dataframe thead th {\n",
       "        text-align: right;\n",
       "    }\n",
       "</style>\n",
       "<table border=\"1\" class=\"dataframe\">\n",
       "  <thead>\n",
       "    <tr style=\"text-align: right;\">\n",
       "      <th></th>\n",
       "      <th>supplier</th>\n",
       "      <th>id</th>\n",
       "      <th>supplier_status</th>\n",
       "      <th>volume_contracted</th>\n",
       "      <th>spec_price</th>\n",
       "      <th>delivery_period_lenght</th>\n",
       "      <th>price_change</th>\n",
       "      <th>lateness_percentage</th>\n",
       "      <th>weight_percentage</th>\n",
       "      <th>month</th>\n",
       "      <th>day</th>\n",
       "      <th>weekday</th>\n",
       "    </tr>\n",
       "  </thead>\n",
       "  <tbody>\n",
       "    <tr>\n",
       "      <th>0</th>\n",
       "      <td>Рязанова А.В. ИП Глава К(Ф)Х</td>\n",
       "      <td>Рязанова А.В. ИП Глава К(Ф)Х_ЮР Валуйский МЭЗ ...</td>\n",
       "      <td>0</td>\n",
       "      <td>-0.799088</td>\n",
       "      <td>-0.254878</td>\n",
       "      <td>-1.951154</td>\n",
       "      <td>0.455259</td>\n",
       "      <td>0.0</td>\n",
       "      <td>0.914667</td>\n",
       "      <td>7</td>\n",
       "      <td>6</td>\n",
       "      <td>2</td>\n",
       "    </tr>\n",
       "    <tr>\n",
       "      <th>1</th>\n",
       "      <td>Осипов Л.А. ИП Глава К(Ф)Х</td>\n",
       "      <td>Осипов Л.А. ИП Глава К(Ф)Х_Юг Руси, АО_2022-07-12</td>\n",
       "      <td>1</td>\n",
       "      <td>-0.722675</td>\n",
       "      <td>-0.254878</td>\n",
       "      <td>-1.369456</td>\n",
       "      <td>0.263534</td>\n",
       "      <td>0.0</td>\n",
       "      <td>0.184882</td>\n",
       "      <td>7</td>\n",
       "      <td>12</td>\n",
       "      <td>1</td>\n",
       "    </tr>\n",
       "    <tr>\n",
       "      <th>2</th>\n",
       "      <td>Осипов Л.А. ИП Глава К(Ф)Х</td>\n",
       "      <td>Осипов Л.А. ИП Глава К(Ф)Х_Юг Руси, АО_2022-07-12</td>\n",
       "      <td>1</td>\n",
       "      <td>-0.722675</td>\n",
       "      <td>-0.254878</td>\n",
       "      <td>-1.369456</td>\n",
       "      <td>0.480267</td>\n",
       "      <td>0.0</td>\n",
       "      <td>0.363412</td>\n",
       "      <td>7</td>\n",
       "      <td>12</td>\n",
       "      <td>1</td>\n",
       "    </tr>\n",
       "  </tbody>\n",
       "</table>\n",
       "</div>"
      ],
      "text/plain": [
       "                       supplier  \\\n",
       "0  Рязанова А.В. ИП Глава К(Ф)Х   \n",
       "1    Осипов Л.А. ИП Глава К(Ф)Х   \n",
       "2    Осипов Л.А. ИП Глава К(Ф)Х   \n",
       "\n",
       "                                                  id  supplier_status  \\\n",
       "0  Рязанова А.В. ИП Глава К(Ф)Х_ЮР Валуйский МЭЗ ...                0   \n",
       "1  Осипов Л.А. ИП Глава К(Ф)Х_Юг Руси, АО_2022-07-12                1   \n",
       "2  Осипов Л.А. ИП Глава К(Ф)Х_Юг Руси, АО_2022-07-12                1   \n",
       "\n",
       "   volume_contracted  spec_price  delivery_period_lenght  price_change  \\\n",
       "0          -0.799088   -0.254878               -1.951154      0.455259   \n",
       "1          -0.722675   -0.254878               -1.369456      0.263534   \n",
       "2          -0.722675   -0.254878               -1.369456      0.480267   \n",
       "\n",
       "   lateness_percentage  weight_percentage  month  day  weekday  \n",
       "0                  0.0           0.914667      7    6        2  \n",
       "1                  0.0           0.184882      7   12        1  \n",
       "2                  0.0           0.363412      7   12        1  "
      ]
     },
     "execution_count": 5,
     "metadata": {},
     "output_type": "execute_result"
    }
   ],
   "source": [
    "data.head(3)"
   ]
  },
  {
   "cell_type": "code",
   "execution_count": 80,
   "id": "e6d55997-429c-4caa-8f7a-866b7a1a1e3c",
   "metadata": {},
   "outputs": [],
   "source": [
    "class TimeSeriesDataset(Dataset):\n",
    "    def __init__(self, df, spec_cols, series_cols, time_cols):\n",
    "        self.df = df\n",
    "        self.spec_cols = spec_cols\n",
    "        self.series_cols = series_cols\n",
    "        self.time_cols = time_cols\n",
    "        self.specs = df['id'].unique()\n",
    "        self.supplier = [\n",
    "            df.loc[df['id'] == spec_id]['supplier'].iloc[0]\n",
    "            for spec_id in self.specs\n",
    "        ]\n",
    "\n",
    "    def __len__(self):\n",
    "        return len(self.specs)\n",
    "\n",
    "    def __getitem__(self, idx):\n",
    "        data = self.df.loc[self.df['id'] == self.specs[idx]]\n",
    "        \n",
    "        h = torch.tensor(data[self.spec_cols].iloc[0].values, dtype=torch.float)\n",
    "        x = torch.tensor(data[self.series_cols].values, dtype=torch.float)\n",
    "        t = torch.tensor(data[self.time_cols].values, dtype=torch.float)\n",
    "        \n",
    "        return h, x, t\n",
    "\n",
    "def pad_collate(batch):\n",
    "    max_len = max([len(sample[1]) for sample in batch])\n",
    "    new_batch = []\n",
    "    for sample in batch:\n",
    "        repeat_n = max_len - len(sample[1])\n",
    "        \n",
    "        sample_h = sample[0]\n",
    "        sample_x = torch.cat((sample[1], sample[1][-1].unsqueeze(0).repeat(repeat_n, 1)))\n",
    "        sample_t = torch.cat((sample[2], sample[2][-1].unsqueeze(0).repeat(repeat_n, 1)))\n",
    "        \n",
    "        new_batch.append((\n",
    "            sample_h, \n",
    "            sample_x,\n",
    "            sample_t\n",
    "        ))\n",
    "    \n",
    "    h = torch.stack([sample[0] for sample in new_batch])\n",
    "    x = torch.stack([sample[1] for sample in new_batch])\n",
    "    t = torch.stack([sample[2] for sample in new_batch])\n",
    "    return h, x, t"
   ]
  },
  {
   "cell_type": "code",
   "execution_count": 81,
   "id": "443b8ac0-6c7f-4278-be01-5a51171eff57",
   "metadata": {
    "tags": []
   },
   "outputs": [],
   "source": [
    "class Seq2SeqAutoencoder(nn.Module):\n",
    "    def __init__(self, input_dim, hidden_dim, num_layers):\n",
    "        super(Seq2SeqAutoencoder, self).__init__()\n",
    "        self.input_dim = input_dim\n",
    "        self.hidden_dim = hidden_dim\n",
    "        self.num_layers = num_layers\n",
    "        \n",
    "        self.encoder = nn.LSTM(input_dim, hidden_dim, num_layers, batch_first=True)\n",
    "        self.decoder = nn.LSTM(hidden_dim, input_dim, num_layers, batch_first=True)\n",
    "\n",
    "    def forward(self, x):\n",
    "        _, (hidden, _) = self.encoder(x)\n",
    "        hidden = hidden.repeat(x.shape[1], 1, 1).permute(1, 0, 2)\n",
    "        output, _ = self.decoder(hidden)\n",
    "        return output"
   ]
  },
  {
   "cell_type": "code",
   "execution_count": 82,
   "id": "2badeb9c-f6ab-40d0-b98d-89c474179e7f",
   "metadata": {},
   "outputs": [],
   "source": [
    "data = pd.read_csv('../data/final_data/data.csv')\n",
    "dataset = TimeSeriesDataset(data, spec_cols, delivery_cols, time_cols)\n",
    "dataloader = DataLoader(dataset, batch_size=8, collate_fn=pad_collate, shuffle=False)"
   ]
  },
  {
   "cell_type": "code",
   "execution_count": null,
   "id": "5c8217c9-0584-40dc-ad96-858097c7df36",
   "metadata": {},
   "outputs": [],
   "source": []
  },
  {
   "cell_type": "code",
   "execution_count": null,
   "id": "2ba8fa4e-7709-4418-b394-3df0f951ad39",
   "metadata": {},
   "outputs": [],
   "source": []
  },
  {
   "cell_type": "code",
   "execution_count": null,
   "id": "03d0bba8-f0bb-4ae0-bdf7-782b438779ca",
   "metadata": {},
   "outputs": [],
   "source": []
  },
  {
   "cell_type": "code",
   "execution_count": null,
   "id": "38b8f866-38ab-40a8-b293-bd99a041a44b",
   "metadata": {},
   "outputs": [],
   "source": []
  },
  {
   "cell_type": "code",
   "execution_count": 11,
   "id": "410360ec-b8ac-4eaa-bc7b-d1bfb1e3b3b4",
   "metadata": {
    "tags": []
   },
   "outputs": [],
   "source": [
    "model = Seq2SeqAutoencoder(5, 10, 1)"
   ]
  },
  {
   "cell_type": "code",
   "execution_count": 12,
   "id": "c7cef657-f8cb-4fff-9d85-0cca33fdd3c2",
   "metadata": {
    "tags": []
   },
   "outputs": [],
   "source": [
    "criterion = nn.MSELoss()\n",
    "optimizer = torch.optim.Adam(model.parameters(), lr=0.0005)"
   ]
  },
  {
   "cell_type": "code",
   "execution_count": 13,
   "id": "4e6c6886-17e7-4b0a-86fc-c1b95f5ff9ff",
   "metadata": {
    "tags": []
   },
   "outputs": [],
   "source": [
    "for epoch in range(500):\n",
    "    for sequences in dataloader:\n",
    "        output = model(sequences)\n",
    "        loss = criterion(output, sequences)\n",
    "\n",
    "        optimizer.zero_grad()\n",
    "        loss.backward()\n",
    "        optimizer.step()\n",
    "        \n",
    "    # print(loss.item())"
   ]
  },
  {
   "cell_type": "code",
   "execution_count": 43,
   "id": "4f69a5e8-2109-4ad3-b079-050bf56bad2c",
   "metadata": {
    "tags": []
   },
   "outputs": [
    {
     "data": {
      "text/plain": [
       "[<matplotlib.lines.Line2D at 0x1a752f44910>]"
      ]
     },
     "execution_count": 43,
     "metadata": {},
     "output_type": "execute_result"
    },
    {
     "data": {
      "image/png": "[encoded data removed]",
      "text/plain": [
       "<Figure size 640x480 with 1 Axes>"
      ]
     },
     "metadata": {},
     "output_type": "display_data"
    }
   ],
   "source": [
    "i = 5\n",
    "plt.plot(cutpad(sequences[i, :, -2]), cutpad(sequences[i, :, -1]))\n",
    "plt.plot(cutpad(output[i, :, -2].detach()), cutpad(output[i, :, -1].detach()))"
   ]
  },
  {
   "cell_type": "code",
   "execution_count": 18,
   "id": "06bc41cd-4987-4287-9445-0716a50e35e1",
   "metadata": {
    "tags": []
   },
   "outputs": [],
   "source": [
    "supplier_set = {\n",
    "    'Барсукова Е.С. ИП Глава К(Ф)Х',\n",
    "    'Донченко В.С. ИП Глава К(Ф)Х',\n",
    "    'АГРОПРОМ ООО', 'ИНТЕРПРОМ ООО', 'ДОНСКИЕ ЗОРИ ООО'\n",
    "}\n",
    "indexes = np.where([\n",
    "    (supplier in supplier_set) for supplier in dataset.supplier\n",
    "])[0]"
   ]
  },
  {
   "cell_type": "code",
   "execution_count": 19,
   "id": "a12b6cd5-f0df-4912-8fa6-178bc9a5bb7f",
   "metadata": {},
   "outputs": [],
   "source": [
    "seqs = [dataset[i] for i in indexes]\n",
    "suppliers = [dataset.supplier[i] for i in indexes]\n",
    "embs = np.stack([model.encoder(seq.unsqueeze(0))[1][0].squeeze().detach().numpy() for seq in seqs])"
   ]
  },
  {
   "cell_type": "code",
   "execution_count": 21,
   "id": "e3bdee6c-8898-4097-8923-bc2cabfb86c3",
   "metadata": {
    "tags": []
   },
   "outputs": [
    {
     "data": {
      "image/png": "[encoded data removed]",
      "text/plain": [
       "<Figure size 640x480 with 1 Axes>"
      ]
     },
     "metadata": {},
     "output_type": "display_data"
    }
   ],
   "source": [
    "plt.title('Отображение эмбеддингов поставок на двумерную плоскость')\n",
    "show_embeddings(embs, suppliers)\n",
    "plt.savefig('../figures/tsne_spec_embedings.jpg', bbox_inches='tight')"
   ]
  },
  {
   "cell_type": "code",
   "execution_count": null,
   "id": "bf89759a-5209-4dfa-bc7e-b26e97d7ad46",
   "metadata": {},
   "outputs": [],
   "source": []
  },
  {
   "cell_type": "code",
   "execution_count": null,
   "id": "4588f12d-638f-4bd4-a031-01dfa4111196",
   "metadata": {},
   "outputs": [],
   "source": []
  },
  {
   "cell_type": "code",
   "execution_count": null,
   "id": "d3870ff6-502a-4b45-8cd2-86200da5310c",
   "metadata": {},
   "outputs": [],
   "source": []
  },
  {
   "cell_type": "code",
   "execution_count": 117,
   "id": "1050ff10-1dd4-487f-bbd3-90f34860fd21",
   "metadata": {
    "tags": []
   },
   "outputs": [],
   "source": [
    "class LengthBatchSampler(BatchSampler):\n",
    "    def __iter__(self):\n",
    "        indices = np.arange(len(self.sampler))\n",
    "        np.random.shuffle(indices)\n",
    "        bins = [indices[i:i + self.batch_size] for i in range(0, len(indices), self.batch_size)]\n",
    "        sorted_bins = sorted(bins, key=lambda x: max(len(self.sampler.data[j]) for j in x))\n",
    "        batch_indices = [item for sublist in sorted_bins for item in sublist]\n",
    "        yield from torch.split(torch.tensor(batch_indices), self.batch_size)\n",
    "\n",
    "class MyDataset(Dataset):\n",
    "    def __init__(self, X, y):\n",
    "        self.X = X\n",
    "        self.y = y\n",
    "    \n",
    "    def __len__(self):\n",
    "        return len(self.y)\n",
    "\n",
    "    def __getitem__(self, idx):\n",
    "        return self.X[idx], self.y[idx]\n",
    "\n",
    "def pad_collate(batch):\n",
    "    max_len = max([len(sample[0]) for sample in batch])\n",
    "    return (\n",
    "        torch.stack([torch.cat((\n",
    "            X_i, torch.zeros(\n",
    "                tuple(max_len-size if i==0 else size for i, size in enumerate(X_i.shape)),\n",
    "                dtype=torch.float\n",
    "            )\n",
    "        )) for X_i, _ in batch]),\n",
    "        torch.stack([y_i for _, y_i in batch])\n",
    "    )"
   ]
  },
  {
   "cell_type": "code",
   "execution_count": 118,
   "id": "8b654966-889a-4688-ae87-0221e44548dc",
   "metadata": {
    "tags": []
   },
   "outputs": [],
   "source": [
    "data = [\n",
    "    torch.tensor([1, 2, 3]),\n",
    "    torch.tensor([1, 2, 3, 4, 5]),\n",
    "    torch.tensor([1, 2]),\n",
    "    torch.tensor([1, 2, 3, 4]),\n",
    "    # Add more sequences...\n",
    "]\n",
    "labels = torch.tensor([\n",
    "    1,\n",
    "    0,\n",
    "    1,\n",
    "    0,\n",
    "    # Add more labels...\n",
    "])\n",
    "\n",
    "dataset = MyDataset(data, labels)\n",
    "# batch_sampler = LengthBatchSampler(SequentialSampler(dataset), batch_size=2)\n",
    "# dataloader = DataLoader(dataset, batch_size=2,\n",
    "#                         # batch_sampler=batch_sampler,\n",
    "#                         collate_fn=pad_collate)"
   ]
  },
  {
   "cell_type": "code",
   "execution_count": 93,
   "id": "d63d39e0-f675-48d1-bed9-72728c26f427",
   "metadata": {
    "tags": []
   },
   "outputs": [],
   "source": [
    "X, y = next(iter(dataloader))"
   ]
  },
  {
   "cell_type": "code",
   "execution_count": null,
   "id": "9ebcdc61-7991-4a40-953e-7f802a629722",
   "metadata": {},
   "outputs": [],
   "source": []
  },
  {
   "cell_type": "code",
   "execution_count": 123,
   "id": "ea73b569-455d-4512-9cf0-fa500a51c2ac",
   "metadata": {
    "tags": []
   },
   "outputs": [],
   "source": [
    "class BucketBatchSampler(torch.utils.data.Sampler):\n",
    "    def __init__(self, lengths, batch_size, shuffle=True):\n",
    "        self.indices = torch.argsort(lengths)\n",
    "        self.batch_size = batch_size\n",
    "        self.shuffle = shuffle\n",
    "\n",
    "    def __iter__(self):\n",
    "        if self.shuffle:\n",
    "            batch = []\n",
    "            for index in self.indices[torch.randperm(len(self.indices))]:\n",
    "                batch.append(index)\n",
    "                if len(batch) == self.batch_size:\n",
    "                    yield batch\n",
    "                    batch = []\n",
    "            if len(batch) > 0:\n",
    "                yield batch\n",
    "        else:\n",
    "            return iter(self.indices[i:i+self.batch_size] for i in range(0, len(self.indices), self.batch_size))\n",
    "\n",
    "    def __len__(self):\n",
    "        return len(self.indices)"
   ]
  },
  {
   "cell_type": "code",
   "execution_count": 124,
   "id": "7301b4dd-8b55-4847-a176-cfe3746b52af",
   "metadata": {
    "tags": []
   },
   "outputs": [],
   "source": [
    "lengths = torch.tensor([len(item) for item in data])\n",
    "sampler = BucketBatchSampler(lengths, batch_size=2)\n",
    "loader = torch.utils.data.DataLoader(dataset, batch_sampler=sampler, collate_fn=pad_collate)"
   ]
  },
  {
   "cell_type": "code",
   "execution_count": 125,
   "id": "0870a6cc-b6c9-46d1-8e3b-b0e2c5eeab42",
   "metadata": {
    "tags": []
   },
   "outputs": [
    {
     "data": {
      "text/plain": [
       "tensor([3, 5, 2, 4])"
      ]
     },
     "execution_count": 125,
     "metadata": {},
     "output_type": "execute_result"
    }
   ],
   "source": [
    "lengths"
   ]
  },
  {
   "cell_type": "code",
   "execution_count": 126,
   "id": "df866de8-b53c-47bb-b02f-881bdc67b91d",
   "metadata": {
    "tags": []
   },
   "outputs": [],
   "source": [
    "X, y = next(iter(loader))"
   ]
  },
  {
   "cell_type": "code",
   "execution_count": 127,
   "id": "c816c79b-e0d6-44d1-9f35-555d1aa4dc44",
   "metadata": {
    "tags": []
   },
   "outputs": [
    {
     "data": {
      "text/plain": [
       "tensor([[1., 2., 0., 0.],\n",
       "        [1., 2., 3., 4.]])"
      ]
     },
     "execution_count": 127,
     "metadata": {},
     "output_type": "execute_result"
    }
   ],
   "source": [
    "X"
   ]
  },
  {
   "cell_type": "code",
   "execution_count": 133,
   "id": "14870cda-d113-4331-bb72-ffa603fcbbd8",
   "metadata": {
    "tags": []
   },
   "outputs": [
    {
     "name": "stdout",
     "output_type": "stream",
     "text": [
      "tensor([[1., 2., 3., 4., 0.],\n",
      "        [1., 2., 3., 4., 5.]])\n",
      "tensor([[1., 2., 3.],\n",
      "        [1., 2., 0.]])\n"
     ]
    }
   ],
   "source": [
    "for X, y in loader:\n",
    "    print(X)"
   ]
  },
  {
   "cell_type": "code",
   "execution_count": null,
   "id": "8f74465d-9474-4d28-b612-3a0c67f0cfee",
   "metadata": {},
   "outputs": [],
   "source": []
  },
  {
   "cell_type": "code",
   "execution_count": null,
   "id": "17750f40-1000-4571-90cd-b5b0ed09b288",
   "metadata": {},
   "outputs": [],
   "source": []
  },
  {
   "cell_type": "code",
   "execution_count": null,
   "id": "e6133e54-2241-4476-8be3-ad97a0067b45",
   "metadata": {},
   "outputs": [],
   "source": []
  },
  {
   "cell_type": "code",
   "execution_count": null,
   "id": "dd076ee9-6197-4f7e-8232-1db79b26e183",
   "metadata": {},
   "outputs": [],
   "source": []
  },
  {
   "cell_type": "code",
   "execution_count": null,
   "id": "1791d5e5-e92b-47a9-bc2d-9b6b3b8a65a8",
   "metadata": {},
   "outputs": [],
   "source": []
  },
  {
   "cell_type": "code",
   "execution_count": null,
   "id": "9a3d84a8-57d8-4bde-bfea-faf15327184f",
   "metadata": {},
   "outputs": [],
   "source": []
  },
  {
   "cell_type": "code",
   "execution_count": null,
   "id": "058ab980-a603-48ad-b1db-0901f07407de",
   "metadata": {},
   "outputs": [],
   "source": []
  },
  {
   "cell_type": "code",
   "execution_count": null,
   "id": "c5d96666-baf8-496a-a7ae-754878ce279f",
   "metadata": {},
   "outputs": [],
   "source": []
  }
 ],
 "metadata": {
  "kernelspec": {
   "display_name": "Python 3 (ipykernel)",
   "language": "python",
   "name": "python3"
  },
  "language_info": {
   "codemirror_mode": {
    "name": "ipython",
    "version": 3
   },
   "file_extension": ".py",
   "mimetype": "text/x-python",
   "name": "python",
   "nbconvert_exporter": "python",
   "pygments_lexer": "ipython3",
   "version": "3.11.3"
  }
 },
 "nbformat": 4,
 "nbformat_minor": 5
}
