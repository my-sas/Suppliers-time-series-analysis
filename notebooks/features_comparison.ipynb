{
 "cells": [
  {
   "cell_type": "markdown",
   "id": "5c3bbd5c-d071-4532-8558-e8d5b30d22bd",
   "metadata": {},
   "source": [
    "## Предсказание законтрактованности путём агрегации данных о предыдущих поставках\n",
    "\n",
    "Мы проведём сравнение двух методов:\n",
    "1) Усреднение параметров поставок (таких как процент опоздания по поставкам и изменение качества)\n",
    "2) Усреднение эмбеддингов предыдущих поставок, полученных через LSTM автоэнкодер"
   ]
  },
  {
   "cell_type": "code",
   "execution_count": 4,
   "id": "535acbfa-b5b4-4db1-ba24-ba530fb7d17c",
   "metadata": {},
   "outputs": [],
   "source": [
    "import numpy as np\n",
    "import pandas as pd\n",
    "\n",
    "from catboost import CatBoostClassifier\n",
    "from sklearn.linear_model import LogisticRegression\n",
    "from sklearn.model_selection import train_test_split\n",
    "from sklearn.metrics import accuracy_score, roc_auc_score\n",
    "\n",
    "import seaborn as sns\n",
    "import matplotlib.pyplot as plt\n",
    "from tqdm import tqdm\n",
    "\n",
    "import sys\n",
    "import os\n",
    "sys.path.append(os.path.abspath('..'))\n",
    "from data.preprocessing import Preprocessor\n",
    "from data.feature_generation import zpp4_agg_features, zpp4_embed_agg, spec_agg_features\n",
    "from figures.plots import show_embeddings\n",
    "from src.metrics import mapk\n",
    "\n",
    "import warnings\n",
    "warnings.filterwarnings('ignore')"
   ]
  },
  {
   "cell_type": "code",
   "execution_count": 2,
   "id": "583c90ef-60b5-4c67-9c8a-33c23b5e505f",
   "metadata": {},
   "outputs": [],
   "source": [
    "\"\"\"\n",
    "Загрузка данных\n",
    "\"\"\"\n",
    "\n",
    "# таблица со спецификациями\n",
    "spec = pd.read_csv('../data/processed_data/specs.csv')\n",
    "spec['spec_date'] = pd.to_datetime(spec['spec_date'], format='%Y-%m-%d')\n",
    "spec['delivery_period_end'] = pd.to_datetime(spec['delivery_period_end'], format='%Y-%m-%d')\n",
    "\n",
    "# таблица с доставками\n",
    "zpp4 = pd.read_csv('../data/processed_data/zpp4.csv')\n",
    "zpp4['date'] = pd.to_datetime(zpp4['date'], format='%Y-%m-%d')\n",
    "zpp4['spec_date'] = pd.to_datetime(zpp4['spec_date'], format='%Y-%m-%d')"
   ]
  },
  {
   "cell_type": "code",
   "execution_count": 5,
   "id": "a24fbb02-7d92-4cf3-9a33-a9b7bd2084ff",
   "metadata": {},
   "outputs": [],
   "source": [
    "\"\"\"\n",
    "Генерация фичей\n",
    "\"\"\"\n",
    "\n",
    "# фичи аггрегации\n",
    "spec = zpp4_agg_features(spec, zpp4)\n",
    "\n",
    "# фичи эмбеддинги\n",
    "spec = zpp4_embed_agg(spec)\n",
    "\n",
    "# агрегация из прошлых спецификаций\n",
    "spec = spec_agg_features(spec)\n",
    "\n",
    "features = [['lateness', 'underweight', 'price_change'],\n",
    "            [str(i) for i in range(16)],\n",
    "            ['delivery_length', 'mean_delivery_length', 'delivery_length_diff', 'mean_volume', 'volume_diff', 'conversion']]\n",
    "\n",
    "spec = spec.dropna()\n",
    "\n",
    "# разделение на трейн и тест\n",
    "X_train, X_test, y_train, y_test = train_test_split(\n",
    "        spec.drop('bids_contracted', axis=1),\n",
    "        spec['bids_contracted'],\n",
    "        test_size=0.2, random_state=42\n",
    ")"
   ]
  },
  {
   "cell_type": "code",
   "execution_count": 4,
   "id": "25017402-3f78-4d65-a137-4b33b780d356",
   "metadata": {},
   "outputs": [
    {
     "name": "stdout",
     "output_type": "stream",
     "text": [
      "Бустинг (Простые агрегации):\n",
      "Accuracy: 0.7167785234899329\n",
      "ROC AUC: 0.6969916077947941\n"
     ]
    }
   ],
   "source": [
    "\"\"\"\n",
    "Предсказание законтрактованности (Простые агрегации)\n",
    "\"\"\"\n",
    "\n",
    "def estimate(model, X_test, y_test):\n",
    "    accuracy = accuracy_score(y_test, model.predict(X_test))\n",
    "    roc_auc = roc_auc_score(y_test, model.predict_proba(X_test)[:, 1])\n",
    "    print(f'Accuracy: {accuracy}\\nROC AUC: {roc_auc}')\n",
    "\n",
    "print('Бустинг (Простые агрегации):')\n",
    "model = CatBoostClassifier(verbose = 0, random_state=42).fit(X_train[features[0]], y_train)\n",
    "estimate(model, X_test[features[0]], y_test)"
   ]
  },
  {
   "cell_type": "code",
   "execution_count": 5,
   "id": "31fa95eb-3743-41ae-97d2-76ed50d0ec02",
   "metadata": {},
   "outputs": [
    {
     "name": "stdout",
     "output_type": "stream",
     "text": [
      "Бустинг (агрегация эмбеддингов):\n",
      "Accuracy: 0.7449664429530202\n",
      "ROC AUC: 0.763362729758349\n"
     ]
    }
   ],
   "source": [
    "\"\"\"\n",
    "Предсказание законтрактованности (агрегация эмбеддингов)\n",
    "\"\"\"\n",
    "\n",
    "print('Бустинг (агрегация эмбеддингов):')\n",
    "model = CatBoostClassifier(verbose = 0, random_state=42).fit(X_train[features[1]], y_train)\n",
    "estimate(model, X_test[features[1]], y_test)"
   ]
  },
  {
   "cell_type": "code",
   "execution_count": 14,
   "id": "c7427d7b-ee5a-46a0-a5a1-23faaee88498",
   "metadata": {},
   "outputs": [],
   "source": [
    "def split_by_day(X, y, features, model):\n",
    "    actual = []\n",
    "    predicted = []\n",
    "    \n",
    "    days_indexes = X.groupby('spec_date').apply(lambda x: x.index)\n",
    "    for day in days_indexes:\n",
    "        actual.append(list(y.loc[day].values))\n",
    "        predicted.append(list(model.predict(X[features].loc[day])))\n",
    "    \n",
    "    return actual, predicted"
   ]
  },
  {
   "cell_type": "code",
   "execution_count": 7,
   "id": "42fe1e16-df8a-46dc-98a1-9bd89f50816e",
   "metadata": {},
   "outputs": [],
   "source": [
    "split_point = np.quantile(spec['spec_date'], 0.8)\n",
    "train_spec = spec.loc[spec['spec_date'] < split_point]\n",
    "test_spec = spec.loc[spec['spec_date'] >= split_point]\n",
    "\n",
    "X_train = train_spec.drop('bids_contracted', axis=1)\n",
    "y_train = train_spec['bids_contracted']\n",
    "\n",
    "X_test = test_spec.drop('bids_contracted', axis=1)\n",
    "y_test = test_spec['bids_contracted']"
   ]
  },
  {
   "cell_type": "code",
   "execution_count": 8,
   "id": "2db80947-a476-453c-aaf4-cf59e9821a3b",
   "metadata": {},
   "outputs": [
    {
     "name": "stdout",
     "output_type": "stream",
     "text": [
      "Бустинг (Простые агрегации):\n"
     ]
    },
    {
     "data": {
      "text/plain": [
       "0.2955131090578852"
      ]
     },
     "execution_count": 8,
     "metadata": {},
     "output_type": "execute_result"
    }
   ],
   "source": [
    "print('Бустинг (Простые агрегации):')\n",
    "model = CatBoostClassifier(verbose = 0, random_state=42).fit(X_train[features[0]], y_train)\n",
    "actual, predicted = split_by_day(X_test, y_test, features[0], model)\n",
    "print(f'{mapk(actual, predicted)}')"
   ]
  },
  {
   "cell_type": "code",
   "execution_count": 9,
   "id": "6cf06c81-b72e-4b07-8c76-a69dc24f1263",
   "metadata": {},
   "outputs": [
    {
     "name": "stdout",
     "output_type": "stream",
     "text": [
      "Бустинг (агрегация эмбеддингов):\n"
     ]
    },
    {
     "data": {
      "text/plain": [
       "0.29464621337755664"
      ]
     },
     "execution_count": 9,
     "metadata": {},
     "output_type": "execute_result"
    }
   ],
   "source": [
    "print('Бустинг (агрегация эмбеддингов):')\n",
    "model = CatBoostClassifier(verbose = 0, random_state=42).fit(X_train[features[1]], y_train)\n",
    "actual, predicted = split_by_day(X_test, y_test, features[1], model)\n",
    "print(f'{mapk(actual, predicted)}')"
   ]
  },
  {
   "cell_type": "markdown",
   "id": "cc3f4580-483b-48da-bee8-9e90e35f8467",
   "metadata": {},
   "source": [
    "## Комбинирование переменных"
   ]
  },
  {
   "cell_type": "code",
   "execution_count": 10,
   "id": "87600f05-9a3b-4cd6-b063-c734fd319c72",
   "metadata": {},
   "outputs": [
    {
     "name": "stdout",
     "output_type": "stream",
     "text": [
      "Бустинг (Простые агрегации):\n",
      "Accuracy: 0.7476510067114094\n",
      "ROC AUC: 0.7976704123401768\n"
     ]
    }
   ],
   "source": [
    "\"\"\"\n",
    "Предсказание законтрактованности (Простые агрегации + агрегации спецификаций)\n",
    "\"\"\"\n",
    "\n",
    "def estimate(model, X_test, y_test):\n",
    "    accuracy = accuracy_score(y_test, model.predict(X_test))\n",
    "    roc_auc = roc_auc_score(y_test, model.predict_proba(X_test)[:, 1])\n",
    "    print(f'Accuracy: {accuracy}\\nROC AUC: {roc_auc}')\n",
    "\n",
    "print('Бустинг (Простые агрегации):')\n",
    "model = CatBoostClassifier(verbose = 0, random_state=42).fit(X_train[features[0] + features[2]], y_train)\n",
    "estimate(model, X_test[features[0] + features[2]], y_test)"
   ]
  },
  {
   "cell_type": "code",
   "execution_count": null,
   "id": "c0c8959e-92bb-4edb-92d4-8f34fab98427",
   "metadata": {},
   "outputs": [],
   "source": []
  },
  {
   "cell_type": "code",
   "execution_count": 11,
   "id": "5bf68ef9-4302-46b2-8092-fa442113cc47",
   "metadata": {},
   "outputs": [
    {
     "name": "stdout",
     "output_type": "stream",
     "text": [
      "Бустинг (Простые агрегации):\n",
      "Accuracy: 0.7570469798657719\n",
      "ROC AUC: 0.7956079212302246\n"
     ]
    }
   ],
   "source": [
    "\"\"\"\n",
    "Предсказание законтрактованности (Простые агрегации + агрегации спецификаций)\n",
    "\"\"\"\n",
    "\n",
    "def estimate(model, X_test, y_test):\n",
    "    accuracy = accuracy_score(y_test, model.predict(X_test))\n",
    "    roc_auc = roc_auc_score(y_test, model.predict_proba(X_test)[:, 1])\n",
    "    print(f'Accuracy: {accuracy}\\nROC AUC: {roc_auc}')\n",
    "\n",
    "print('Бустинг (агрегация эмбеддингов):')\n",
    "model = CatBoostClassifier(verbose = 0, random_state=42).fit(X_train[features[1] + features[2]], y_train)\n",
    "estimate(model, X_test[features[1] + features[2]], y_test)"
   ]
  },
  {
   "cell_type": "code",
   "execution_count": null,
   "id": "c5853f4f-26b2-446e-af0a-6fd9080b2481",
   "metadata": {},
   "outputs": [],
   "source": []
  },
  {
   "cell_type": "code",
   "execution_count": 15,
   "id": "093f4ab4-4b90-4205-91bc-8bcf9980fb7b",
   "metadata": {},
   "outputs": [
    {
     "name": "stdout",
     "output_type": "stream",
     "text": [
      "Бустинг (Простые агрегации):\n"
     ]
    },
    {
     "data": {
      "text/plain": [
       "0.48791371409674983"
      ]
     },
     "execution_count": 15,
     "metadata": {},
     "output_type": "execute_result"
    }
   ],
   "source": [
    "print('Бустинг (Простые агрегации):')\n",
    "model = CatBoostClassifier(verbose = 0, random_state=42).fit(X_train[features[0]], y_train)\n",
    "actual, predicted = split_by_day(X_test, y_test, features[0] + features[2], model)\n",
    "mapk(actual, predicted)"
   ]
  },
  {
   "cell_type": "code",
   "execution_count": null,
   "id": "1497b174-a043-4f64-bb6e-072bc6099db1",
   "metadata": {},
   "outputs": [],
   "source": []
  },
  {
   "cell_type": "code",
   "execution_count": 16,
   "id": "fad68712-56a5-4674-981e-f5dace234a89",
   "metadata": {},
   "outputs": [
    {
     "name": "stdout",
     "output_type": "stream",
     "text": [
      "Бустинг (агрегация эмбеддингов):\n"
     ]
    },
    {
     "data": {
      "text/plain": [
       "0.5187334065570672"
      ]
     },
     "execution_count": 16,
     "metadata": {},
     "output_type": "execute_result"
    }
   ],
   "source": [
    "print('Бустинг (агрегация эмбеддингов):')\n",
    "model = CatBoostClassifier(verbose = 0, random_state=42).fit(X_train[features[1]], y_train)\n",
    "actual, predicted = split_by_day(X_test, y_test, features[1] + features[2], model)\n",
    "mapk(actual, predicted)"
   ]
  },
  {
   "cell_type": "code",
   "execution_count": null,
   "id": "81a880df-f568-4b0d-b606-6a7581660048",
   "metadata": {},
   "outputs": [],
   "source": []
  },
  {
   "cell_type": "code",
   "execution_count": null,
   "id": "d42efbc6-32d2-4d20-b223-7d5de21c0cfc",
   "metadata": {},
   "outputs": [],
   "source": []
  },
  {
   "cell_type": "code",
   "execution_count": null,
   "id": "9e3d5b32-931c-4b6f-9b1e-78006bc99f8e",
   "metadata": {},
   "outputs": [],
   "source": []
  },
  {
   "cell_type": "code",
   "execution_count": null,
   "id": "3d8a5144-4efc-49be-8839-1683091d29d0",
   "metadata": {},
   "outputs": [],
   "source": []
  },
  {
   "cell_type": "code",
   "execution_count": null,
   "id": "3488861b-c6dd-43c1-a364-a55a0a8aeacf",
   "metadata": {},
   "outputs": [],
   "source": []
  },
  {
   "cell_type": "code",
   "execution_count": null,
   "id": "a0b25378-0904-469a-b5fd-be1796e39e05",
   "metadata": {},
   "outputs": [],
   "source": []
  },
  {
   "cell_type": "code",
   "execution_count": null,
   "id": "9c92a5c4-1ac2-4206-b817-387e4594afe3",
   "metadata": {},
   "outputs": [],
   "source": []
  },
  {
   "cell_type": "code",
   "execution_count": null,
   "id": "9c6e59d0-5172-4c70-a2f6-587caff49044",
   "metadata": {},
   "outputs": [],
   "source": []
  }
 ],
 "metadata": {
  "kernelspec": {
   "display_name": "Python 3 (ipykernel)",
   "language": "python",
   "name": "python3"
  },
  "language_info": {
   "codemirror_mode": {
    "name": "ipython",
    "version": 3
   },
   "file_extension": ".py",
   "mimetype": "text/x-python",
   "name": "python",
   "nbconvert_exporter": "python",
   "pygments_lexer": "ipython3",
   "version": "3.11.5"
  }
 },
 "nbformat": 4,
 "nbformat_minor": 5
}
