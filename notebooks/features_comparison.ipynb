{
 "cells": [
  {
   "cell_type": "markdown",
   "id": "5c3bbd5c-d071-4532-8558-e8d5b30d22bd",
   "metadata": {},
   "source": [
    "## Предсказание законтрактованности путём агрегации данных о предыдущих поставках\n",
    "\n",
    "Мы проведём сравнение двух методов:\n",
    "1) Усреднение параметров поставок (таких как процент опоздания по поставкам и изменение качества)\n",
    "2) Усреднение эмбеддингов предыдущих поставок, полученных через LSTM автоэнкодер"
   ]
  },
  {
   "cell_type": "code",
   "execution_count": 11,
   "id": "535acbfa-b5b4-4db1-ba24-ba530fb7d17c",
   "metadata": {},
   "outputs": [],
   "source": [
    "import numpy as np\n",
    "import pandas as pd\n",
    "\n",
    "from catboost import CatBoostClassifier\n",
    "from sklearn.linear_model import LogisticRegression\n",
    "from sklearn.metrics import accuracy_score, roc_auc_score\n",
    "\n",
    "import seaborn as sns\n",
    "import matplotlib.pyplot as plt\n",
    "from tqdm import tqdm\n",
    "\n",
    "import sys\n",
    "import os\n",
    "sys.path.append(os.path.abspath('..'))\n",
    "from data.feature_generation import pipeline\n",
    "from figures.plots import show_embeddings\n",
    "from src.metrics import mapk\n",
    "\n",
    "import warnings\n",
    "warnings.filterwarnings('ignore')"
   ]
  },
  {
   "cell_type": "code",
   "execution_count": 14,
   "id": "f98ec157-1282-4ba7-8483-dc7102aaa67c",
   "metadata": {},
   "outputs": [
    {
     "data": {
      "text/html": [
       "<div>\n",
       "<style scoped>\n",
       "    .dataframe tbody tr th:only-of-type {\n",
       "        vertical-align: middle;\n",
       "    }\n",
       "\n",
       "    .dataframe tbody tr th {\n",
       "        vertical-align: top;\n",
       "    }\n",
       "\n",
       "    .dataframe thead th {\n",
       "        text-align: right;\n",
       "    }\n",
       "</style>\n",
       "<table border=\"1\" class=\"dataframe\">\n",
       "  <thead>\n",
       "    <tr style=\"text-align: right;\">\n",
       "      <th></th>\n",
       "      <th>supplier</th>\n",
       "      <th>id</th>\n",
       "      <th>spec_date</th>\n",
       "      <th>delivery_period_end</th>\n",
       "      <th>bids_contracted</th>\n",
       "      <th>is_late</th>\n",
       "      <th>is_underweight</th>\n",
       "      <th>is_poorquality</th>\n",
       "      <th>supplier_status</th>\n",
       "      <th>option</th>\n",
       "      <th>...</th>\n",
       "      <th>6</th>\n",
       "      <th>7</th>\n",
       "      <th>8</th>\n",
       "      <th>9</th>\n",
       "      <th>10</th>\n",
       "      <th>11</th>\n",
       "      <th>12</th>\n",
       "      <th>13</th>\n",
       "      <th>14</th>\n",
       "      <th>15</th>\n",
       "    </tr>\n",
       "  </thead>\n",
       "  <tbody>\n",
       "    <tr>\n",
       "      <th>0</th>\n",
       "      <td>50 ЛЕТ ОКТЯБРЯ ООО</td>\n",
       "      <td>50 ЛЕТ ОКТЯБРЯ ООО_Юг Руси, АО_2022-12-19</td>\n",
       "      <td>2022-12-19</td>\n",
       "      <td>2022-12-25</td>\n",
       "      <td>1.0</td>\n",
       "      <td>0.0</td>\n",
       "      <td>1.0</td>\n",
       "      <td>1.0</td>\n",
       "      <td>1.0</td>\n",
       "      <td>15.0</td>\n",
       "      <td>...</td>\n",
       "      <td>NaN</td>\n",
       "      <td>NaN</td>\n",
       "      <td>NaN</td>\n",
       "      <td>NaN</td>\n",
       "      <td>NaN</td>\n",
       "      <td>NaN</td>\n",
       "      <td>NaN</td>\n",
       "      <td>NaN</td>\n",
       "      <td>NaN</td>\n",
       "      <td>NaN</td>\n",
       "    </tr>\n",
       "    <tr>\n",
       "      <th>1</th>\n",
       "      <td>50 ЛЕТ ОКТЯБРЯ ООО</td>\n",
       "      <td>50 ЛЕТ ОКТЯБРЯ ООО_Юг Руси, АО_2023-01-24</td>\n",
       "      <td>2023-01-24</td>\n",
       "      <td>2023-02-12</td>\n",
       "      <td>1.0</td>\n",
       "      <td>0.0</td>\n",
       "      <td>0.0</td>\n",
       "      <td>0.0</td>\n",
       "      <td>1.0</td>\n",
       "      <td>15.0</td>\n",
       "      <td>...</td>\n",
       "      <td>-0.610757</td>\n",
       "      <td>0.14691</td>\n",
       "      <td>-0.80265</td>\n",
       "      <td>0.722523</td>\n",
       "      <td>-0.47786</td>\n",
       "      <td>-0.424774</td>\n",
       "      <td>0.521571</td>\n",
       "      <td>-0.012061</td>\n",
       "      <td>0.157792</td>\n",
       "      <td>0.696974</td>\n",
       "    </tr>\n",
       "  </tbody>\n",
       "</table>\n",
       "<p>2 rows × 36 columns</p>\n",
       "</div>"
      ],
      "text/plain": [
       "             supplier                                         id  spec_date  \\\n",
       "0  50 ЛЕТ ОКТЯБРЯ ООО  50 ЛЕТ ОКТЯБРЯ ООО_Юг Руси, АО_2022-12-19 2022-12-19   \n",
       "1  50 ЛЕТ ОКТЯБРЯ ООО  50 ЛЕТ ОКТЯБРЯ ООО_Юг Руси, АО_2023-01-24 2023-01-24   \n",
       "\n",
       "  delivery_period_end  bids_contracted  is_late  is_underweight  \\\n",
       "0          2022-12-25              1.0      0.0             1.0   \n",
       "1          2023-02-12              1.0      0.0             0.0   \n",
       "\n",
       "   is_poorquality  supplier_status  option  ...         6        7        8  \\\n",
       "0             1.0              1.0    15.0  ...       NaN      NaN      NaN   \n",
       "1             0.0              1.0    15.0  ... -0.610757  0.14691 -0.80265   \n",
       "\n",
       "          9       10        11        12        13        14        15  \n",
       "0       NaN      NaN       NaN       NaN       NaN       NaN       NaN  \n",
       "1  0.722523 -0.47786 -0.424774  0.521571 -0.012061  0.157792  0.696974  \n",
       "\n",
       "[2 rows x 36 columns]"
      ]
     },
     "execution_count": 14,
     "metadata": {},
     "output_type": "execute_result"
    }
   ],
   "source": [
    "data = pipeline()\n",
    "data.head(2)"
   ]
  },
  {
   "cell_type": "code",
   "execution_count": 27,
   "id": "a24fbb02-7d92-4cf3-9a33-a9b7bd2084ff",
   "metadata": {},
   "outputs": [],
   "source": [
    "\"\"\"\n",
    "Разделение набора данных\n",
    "\"\"\"\n",
    "\n",
    "split_point = np.quantile(data['spec_date'], 0.95)\n",
    "train_spec = data.loc[data['spec_date'] < split_point]\n",
    "test_spec = data.loc[data['spec_date'] >= split_point]\n",
    "\n",
    "X_train = train_spec.drop(['bids_contracted', 'is_late', 'is_underweight', 'is_poorquality'], axis=1)\n",
    "y_train = train_spec['bids_contracted']\n",
    "\n",
    "X_test = test_spec.drop(['bids_contracted', 'is_late', 'is_underweight', 'is_poorquality'], axis=1)\n",
    "y_test = test_spec['bids_contracted']"
   ]
  },
  {
   "cell_type": "code",
   "execution_count": 29,
   "id": "25017402-3f78-4d65-a137-4b33b780d356",
   "metadata": {},
   "outputs": [
    {
     "name": "stdout",
     "output_type": "stream",
     "text": [
      "Бустинг (Простые агрегации):\n",
      "Accuracy: 0.5959302325581395\n",
      "ROC AUC: 0.6812189433120374\n"
     ]
    }
   ],
   "source": [
    "\"\"\"\n",
    "Предсказание законтрактованности (Простые агрегации)\n",
    "\"\"\"\n",
    "\n",
    "def estimate(model, X_test, y_test):\n",
    "    accuracy = accuracy_score(y_test, model.predict(X_test))\n",
    "    roc_auc = roc_auc_score(y_test, model.predict_proba(X_test)[:, 1])\n",
    "    print(f'Accuracy: {accuracy}\\nROC AUC: {roc_auc}')\n",
    "\n",
    "features = [['supplier_lateness', 'supplier_underweight', 'supplier_price_change'],\n",
    "            [str(i) for i in range(16)],\n",
    "            ['delivery_length', 'mean_delivery_length', 'delivery_length_diff', 'mean_volume', 'volume_diff', 'conversion']]\n",
    "\n",
    "print('Бустинг (Простые агрегации):')\n",
    "model = CatBoostClassifier(verbose = 0, random_state=42).fit(X_train[features[0]], y_train)\n",
    "estimate(model, X_test[features[0]], y_test)"
   ]
  },
  {
   "cell_type": "code",
   "execution_count": 30,
   "id": "31fa95eb-3743-41ae-97d2-76ed50d0ec02",
   "metadata": {},
   "outputs": [
    {
     "name": "stdout",
     "output_type": "stream",
     "text": [
      "Бустинг (агрегация эмбеддингов):\n",
      "Accuracy: 0.6627906976744186\n",
      "ROC AUC: 0.7093432038670857\n"
     ]
    }
   ],
   "source": [
    "\"\"\"\n",
    "Предсказание законтрактованности (агрегация эмбеддингов)\n",
    "\"\"\"\n",
    "\n",
    "print('Бустинг (агрегация эмбеддингов):')\n",
    "model = CatBoostClassifier(verbose = 0, random_state=42).fit(X_train[features[1]], y_train)\n",
    "estimate(model, X_test[features[1]], y_test)"
   ]
  },
  {
   "cell_type": "code",
   "execution_count": 31,
   "id": "c7427d7b-ee5a-46a0-a5a1-23faaee88498",
   "metadata": {},
   "outputs": [],
   "source": [
    "def split_by_day(X, y, features, model):\n",
    "    actual = []\n",
    "    predicted = []\n",
    "    \n",
    "    days_indexes = X.groupby('spec_date').apply(lambda x: x.index)\n",
    "    for day in days_indexes:\n",
    "        actual.append(list(y.loc[day].values))\n",
    "        predicted.append(list(model.predict(X[features].loc[day])))\n",
    "    \n",
    "    return actual, predicted"
   ]
  },
  {
   "cell_type": "code",
   "execution_count": 32,
   "id": "2db80947-a476-453c-aaf4-cf59e9821a3b",
   "metadata": {},
   "outputs": [
    {
     "name": "stdout",
     "output_type": "stream",
     "text": [
      "Бустинг (Простые агрегации):\n",
      "0.30055467372134037\n"
     ]
    }
   ],
   "source": [
    "print('Бустинг (Простые агрегации):')\n",
    "model = CatBoostClassifier(verbose = 0, random_state=42).fit(X_train[features[0]], y_train)\n",
    "actual, predicted = split_by_day(X_test, y_test, features[0], model)\n",
    "print(f'{mapk(actual, predicted)}')"
   ]
  },
  {
   "cell_type": "code",
   "execution_count": 33,
   "id": "6cf06c81-b72e-4b07-8c76-a69dc24f1263",
   "metadata": {},
   "outputs": [
    {
     "name": "stdout",
     "output_type": "stream",
     "text": [
      "Бустинг (агрегация эмбеддингов):\n",
      "0.30356261022927694\n"
     ]
    }
   ],
   "source": [
    "print('Бустинг (агрегация эмбеддингов):')\n",
    "model = CatBoostClassifier(verbose = 0, random_state=42).fit(X_train[features[1]], y_train)\n",
    "actual, predicted = split_by_day(X_test, y_test, features[1], model)\n",
    "print(f'{mapk(actual, predicted)}')"
   ]
  },
  {
   "cell_type": "markdown",
   "id": "cc3f4580-483b-48da-bee8-9e90e35f8467",
   "metadata": {},
   "source": [
    "## Комбинирование переменных"
   ]
  },
  {
   "cell_type": "code",
   "execution_count": 34,
   "id": "87600f05-9a3b-4cd6-b063-c734fd319c72",
   "metadata": {},
   "outputs": [
    {
     "name": "stdout",
     "output_type": "stream",
     "text": [
      "Бустинг (Простые агрегации):\n",
      "Accuracy: 0.6453488372093024\n",
      "ROC AUC: 0.7351688469729237\n"
     ]
    }
   ],
   "source": [
    "\"\"\"\n",
    "Предсказание законтрактованности (Простые агрегации + агрегации спецификаций)\n",
    "\"\"\"\n",
    "\n",
    "def estimate(model, X_test, y_test):\n",
    "    accuracy = accuracy_score(y_test, model.predict(X_test))\n",
    "    roc_auc = roc_auc_score(y_test, model.predict_proba(X_test)[:, 1])\n",
    "    print(f'Accuracy: {accuracy}\\nROC AUC: {roc_auc}')\n",
    "\n",
    "print('Бустинг (Простые агрегации):')\n",
    "model = CatBoostClassifier(verbose = 0, random_state=42).fit(X_train[features[0] + features[2]], y_train)\n",
    "estimate(model, X_test[features[0] + features[2]], y_test)"
   ]
  },
  {
   "cell_type": "code",
   "execution_count": 35,
   "id": "5bf68ef9-4302-46b2-8092-fa442113cc47",
   "metadata": {},
   "outputs": [
    {
     "name": "stdout",
     "output_type": "stream",
     "text": [
      "Бустинг (агрегация эмбеддингов):\n",
      "Accuracy: 0.6773255813953488\n",
      "ROC AUC: 0.7353040597640537\n"
     ]
    }
   ],
   "source": [
    "\"\"\"\n",
    "Предсказание законтрактованности (Простые агрегации + агрегации спецификаций)\n",
    "\"\"\"\n",
    "\n",
    "def estimate(model, X_test, y_test):\n",
    "    accuracy = accuracy_score(y_test, model.predict(X_test))\n",
    "    roc_auc = roc_auc_score(y_test, model.predict_proba(X_test)[:, 1])\n",
    "    print(f'Accuracy: {accuracy}\\nROC AUC: {roc_auc}')\n",
    "\n",
    "print('Бустинг (агрегация эмбеддингов):')\n",
    "model = CatBoostClassifier(verbose = 0, random_state=42).fit(X_train[features[1] + features[2]], y_train)\n",
    "estimate(model, X_test[features[1] + features[2]], y_test)"
   ]
  },
  {
   "cell_type": "code",
   "execution_count": null,
   "id": "c5853f4f-26b2-446e-af0a-6fd9080b2481",
   "metadata": {},
   "outputs": [],
   "source": []
  },
  {
   "cell_type": "code",
   "execution_count": 36,
   "id": "093f4ab4-4b90-4205-91bc-8bcf9980fb7b",
   "metadata": {},
   "outputs": [
    {
     "name": "stdout",
     "output_type": "stream",
     "text": [
      "Бустинг (Простые агрегации):\n"
     ]
    },
    {
     "data": {
      "text/plain": [
       "0.30055467372134037"
      ]
     },
     "execution_count": 36,
     "metadata": {},
     "output_type": "execute_result"
    }
   ],
   "source": [
    "print('Бустинг (Простые агрегации):')\n",
    "model = CatBoostClassifier(verbose = 0, random_state=42).fit(X_train[features[0]], y_train)\n",
    "actual, predicted = split_by_day(X_test, y_test, features[0] + features[2], model)\n",
    "mapk(actual, predicted)"
   ]
  },
  {
   "cell_type": "code",
   "execution_count": null,
   "id": "1497b174-a043-4f64-bb6e-072bc6099db1",
   "metadata": {},
   "outputs": [],
   "source": []
  },
  {
   "cell_type": "code",
   "execution_count": 37,
   "id": "fad68712-56a5-4674-981e-f5dace234a89",
   "metadata": {},
   "outputs": [
    {
     "name": "stdout",
     "output_type": "stream",
     "text": [
      "Бустинг (агрегация эмбеддингов):\n"
     ]
    },
    {
     "data": {
      "text/plain": [
       "0.30356261022927694"
      ]
     },
     "execution_count": 37,
     "metadata": {},
     "output_type": "execute_result"
    }
   ],
   "source": [
    "print('Бустинг (агрегация эмбеддингов):')\n",
    "model = CatBoostClassifier(verbose = 0, random_state=42).fit(X_train[features[1]], y_train)\n",
    "actual, predicted = split_by_day(X_test, y_test, features[1] + features[2], model)\n",
    "mapk(actual, predicted)"
   ]
  },
  {
   "cell_type": "code",
   "execution_count": null,
   "id": "5a21d930-7656-4cd3-86bb-3227100d7797",
   "metadata": {},
   "outputs": [],
   "source": []
  },
  {
   "cell_type": "code",
   "execution_count": null,
   "id": "4341952a-4d1c-431c-9f13-ad7feceb2041",
   "metadata": {},
   "outputs": [],
   "source": []
  },
  {
   "cell_type": "code",
   "execution_count": null,
   "id": "8c5a107d-8053-4cec-b5ae-d0b3230f4b8c",
   "metadata": {},
   "outputs": [],
   "source": []
  },
  {
   "cell_type": "code",
   "execution_count": null,
   "id": "a8478588-efa7-4d09-9200-9d304804feec",
   "metadata": {},
   "outputs": [],
   "source": []
  },
  {
   "cell_type": "code",
   "execution_count": null,
   "id": "0f28ae5c-e7cc-4c28-b0e7-b01e64139061",
   "metadata": {},
   "outputs": [],
   "source": []
  },
  {
   "cell_type": "code",
   "execution_count": null,
   "id": "5c63742c-a261-4225-9690-0bfad3366e9d",
   "metadata": {},
   "outputs": [],
   "source": []
  },
  {
   "cell_type": "code",
   "execution_count": null,
   "id": "8d4407d0-cb01-4a0d-90cc-6439d55f46a2",
   "metadata": {},
   "outputs": [],
   "source": []
  },
  {
   "cell_type": "code",
   "execution_count": null,
   "id": "cb1891f5-67af-4706-9793-3b803e355f38",
   "metadata": {},
   "outputs": [],
   "source": []
  },
  {
   "cell_type": "code",
   "execution_count": null,
   "id": "bb4ba65c-2369-47be-af7e-d069302a538b",
   "metadata": {},
   "outputs": [],
   "source": []
  },
  {
   "cell_type": "code",
   "execution_count": null,
   "id": "6c16cd46-2162-4bb5-8b9e-52f9f89dbdc1",
   "metadata": {},
   "outputs": [],
   "source": []
  },
  {
   "cell_type": "code",
   "execution_count": null,
   "id": "15e53177-480f-4391-834d-c631a291c371",
   "metadata": {},
   "outputs": [],
   "source": []
  },
  {
   "cell_type": "code",
   "execution_count": null,
   "id": "9c92a5c4-1ac2-4206-b817-387e4594afe3",
   "metadata": {},
   "outputs": [],
   "source": []
  },
  {
   "cell_type": "code",
   "execution_count": null,
   "id": "9c6e59d0-5172-4c70-a2f6-587caff49044",
   "metadata": {},
   "outputs": [],
   "source": []
  }
 ],
 "metadata": {
  "kernelspec": {
   "display_name": "Python 3 (ipykernel)",
   "language": "python",
   "name": "python3"
  },
  "language_info": {
   "codemirror_mode": {
    "name": "ipython",
    "version": 3
   },
   "file_extension": ".py",
   "mimetype": "text/x-python",
   "name": "python",
   "nbconvert_exporter": "python",
   "pygments_lexer": "ipython3",
   "version": "3.11.5"
  }
 },
 "nbformat": 4,
 "nbformat_minor": 5
}
